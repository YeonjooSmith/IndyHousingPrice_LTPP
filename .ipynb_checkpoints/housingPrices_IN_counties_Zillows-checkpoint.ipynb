{
 "cells": [
  {
   "cell_type": "code",
   "execution_count": 6,
   "metadata": {
    "ExecuteTime": {
     "end_time": "2020-04-08T14:49:36.278716Z",
     "start_time": "2020-04-08T14:49:35.714375Z"
    }
   },
   "outputs": [],
   "source": [
    "import pandas as pd\n",
    "import matplotlib.pyplot as plt\n",
    "%matplotlib inline"
   ]
  },
  {
   "cell_type": "code",
   "execution_count": 7,
   "metadata": {
    "ExecuteTime": {
     "end_time": "2020-04-08T14:49:37.167259Z",
     "start_time": "2020-04-08T14:49:36.279713Z"
    }
   },
   "outputs": [],
   "source": [
    "df_county = pd.read_csv('County_Zhvi_AllHomes.csv',encoding='latin-1')\n",
    "df_zipcode = pd.read_csv('Zip_Zhvi_AllHomes.csv',encoding='latin-1')"
   ]
  },
  {
   "cell_type": "code",
   "execution_count": 8,
   "metadata": {
    "ExecuteTime": {
     "end_time": "2020-04-08T14:49:37.187177Z",
     "start_time": "2020-04-08T14:49:37.168227Z"
    }
   },
   "outputs": [],
   "source": [
    "df_county = df_county[df_county.State =='IN']\n",
    "df_zipcode = df_zipcode[df_zipcode.State =='IN']"
   ]
  },
  {
   "cell_type": "code",
   "execution_count": 9,
   "metadata": {
    "ExecuteTime": {
     "end_time": "2020-04-08T14:49:38.543247Z",
     "start_time": "2020-04-08T14:49:38.527289Z"
    }
   },
   "outputs": [
    {
     "data": {
      "text/html": [
       "<div>\n",
       "<style scoped>\n",
       "    .dataframe tbody tr th:only-of-type {\n",
       "        vertical-align: middle;\n",
       "    }\n",
       "\n",
       "    .dataframe tbody tr th {\n",
       "        vertical-align: top;\n",
       "    }\n",
       "\n",
       "    .dataframe thead th {\n",
       "        text-align: right;\n",
       "    }\n",
       "</style>\n",
       "<table border=\"1\" class=\"dataframe\">\n",
       "  <thead>\n",
       "    <tr style=\"text-align: right;\">\n",
       "      <th></th>\n",
       "      <th>RegionID</th>\n",
       "      <th>RegionName</th>\n",
       "      <th>State</th>\n",
       "      <th>Metro</th>\n",
       "      <th>StateCodeFIPS</th>\n",
       "      <th>MunicipalCodeFIPS</th>\n",
       "      <th>SizeRank</th>\n",
       "      <th>1996-04</th>\n",
       "      <th>1996-05</th>\n",
       "      <th>1996-06</th>\n",
       "      <th>...</th>\n",
       "      <th>2019-05</th>\n",
       "      <th>2019-06</th>\n",
       "      <th>2019-07</th>\n",
       "      <th>2019-08</th>\n",
       "      <th>2019-09</th>\n",
       "      <th>2019-10</th>\n",
       "      <th>2019-11</th>\n",
       "      <th>2019-12</th>\n",
       "      <th>2020-01</th>\n",
       "      <th>2020-02</th>\n",
       "    </tr>\n",
       "  </thead>\n",
       "  <tbody>\n",
       "    <tr>\n",
       "      <td>54</td>\n",
       "      <td>1165</td>\n",
       "      <td>Marion County</td>\n",
       "      <td>IN</td>\n",
       "      <td>Indianapolis-Carmel-Anderson</td>\n",
       "      <td>18</td>\n",
       "      <td>97</td>\n",
       "      <td>55</td>\n",
       "      <td>NaN</td>\n",
       "      <td>NaN</td>\n",
       "      <td>NaN</td>\n",
       "      <td>...</td>\n",
       "      <td>143487</td>\n",
       "      <td>143814</td>\n",
       "      <td>144147</td>\n",
       "      <td>144491</td>\n",
       "      <td>145655</td>\n",
       "      <td>146936</td>\n",
       "      <td>148115</td>\n",
       "      <td>148663</td>\n",
       "      <td>149503</td>\n",
       "      <td>151010</td>\n",
       "    </tr>\n",
       "    <tr>\n",
       "      <td>130</td>\n",
       "      <td>221</td>\n",
       "      <td>Lake County</td>\n",
       "      <td>IN</td>\n",
       "      <td>Chicago-Naperville-Elgin</td>\n",
       "      <td>18</td>\n",
       "      <td>89</td>\n",
       "      <td>131</td>\n",
       "      <td>NaN</td>\n",
       "      <td>NaN</td>\n",
       "      <td>NaN</td>\n",
       "      <td>...</td>\n",
       "      <td>153958</td>\n",
       "      <td>154751</td>\n",
       "      <td>155672</td>\n",
       "      <td>156600</td>\n",
       "      <td>157517</td>\n",
       "      <td>158590</td>\n",
       "      <td>159567</td>\n",
       "      <td>160530</td>\n",
       "      <td>161321</td>\n",
       "      <td>162255</td>\n",
       "    </tr>\n",
       "    <tr>\n",
       "      <td>181</td>\n",
       "      <td>367</td>\n",
       "      <td>Allen County</td>\n",
       "      <td>IN</td>\n",
       "      <td>Fort Wayne</td>\n",
       "      <td>18</td>\n",
       "      <td>3</td>\n",
       "      <td>182</td>\n",
       "      <td>NaN</td>\n",
       "      <td>NaN</td>\n",
       "      <td>NaN</td>\n",
       "      <td>...</td>\n",
       "      <td>143118</td>\n",
       "      <td>143855</td>\n",
       "      <td>144470</td>\n",
       "      <td>145234</td>\n",
       "      <td>146110</td>\n",
       "      <td>147064</td>\n",
       "      <td>147891</td>\n",
       "      <td>148720</td>\n",
       "      <td>149677</td>\n",
       "      <td>150845</td>\n",
       "    </tr>\n",
       "    <tr>\n",
       "      <td>234</td>\n",
       "      <td>2318</td>\n",
       "      <td>Hamilton County</td>\n",
       "      <td>IN</td>\n",
       "      <td>Indianapolis-Carmel-Anderson</td>\n",
       "      <td>18</td>\n",
       "      <td>57</td>\n",
       "      <td>235</td>\n",
       "      <td>NaN</td>\n",
       "      <td>NaN</td>\n",
       "      <td>NaN</td>\n",
       "      <td>...</td>\n",
       "      <td>285382</td>\n",
       "      <td>285833</td>\n",
       "      <td>286661</td>\n",
       "      <td>287659</td>\n",
       "      <td>288708</td>\n",
       "      <td>289518</td>\n",
       "      <td>290281</td>\n",
       "      <td>291492</td>\n",
       "      <td>292851</td>\n",
       "      <td>294430</td>\n",
       "    </tr>\n",
       "    <tr>\n",
       "      <td>244</td>\n",
       "      <td>2849</td>\n",
       "      <td>Saint Joseph County</td>\n",
       "      <td>IN</td>\n",
       "      <td>South Bend-Mishawaka</td>\n",
       "      <td>18</td>\n",
       "      <td>141</td>\n",
       "      <td>245</td>\n",
       "      <td>NaN</td>\n",
       "      <td>NaN</td>\n",
       "      <td>NaN</td>\n",
       "      <td>...</td>\n",
       "      <td>129993</td>\n",
       "      <td>130867</td>\n",
       "      <td>131349</td>\n",
       "      <td>131888</td>\n",
       "      <td>132293</td>\n",
       "      <td>132972</td>\n",
       "      <td>133437</td>\n",
       "      <td>133882</td>\n",
       "      <td>133814</td>\n",
       "      <td>134133</td>\n",
       "    </tr>\n",
       "  </tbody>\n",
       "</table>\n",
       "<p>5 rows × 294 columns</p>\n",
       "</div>"
      ],
      "text/plain": [
       "     RegionID           RegionName State                         Metro  \\\n",
       "54       1165        Marion County    IN  Indianapolis-Carmel-Anderson   \n",
       "130       221          Lake County    IN      Chicago-Naperville-Elgin   \n",
       "181       367         Allen County    IN                    Fort Wayne   \n",
       "234      2318      Hamilton County    IN  Indianapolis-Carmel-Anderson   \n",
       "244      2849  Saint Joseph County    IN          South Bend-Mishawaka   \n",
       "\n",
       "     StateCodeFIPS  MunicipalCodeFIPS  SizeRank  1996-04  1996-05  1996-06  \\\n",
       "54              18                 97        55      NaN      NaN      NaN   \n",
       "130             18                 89       131      NaN      NaN      NaN   \n",
       "181             18                  3       182      NaN      NaN      NaN   \n",
       "234             18                 57       235      NaN      NaN      NaN   \n",
       "244             18                141       245      NaN      NaN      NaN   \n",
       "\n",
       "     ...  2019-05  2019-06  2019-07  2019-08  2019-09  2019-10  2019-11  \\\n",
       "54   ...   143487   143814   144147   144491   145655   146936   148115   \n",
       "130  ...   153958   154751   155672   156600   157517   158590   159567   \n",
       "181  ...   143118   143855   144470   145234   146110   147064   147891   \n",
       "234  ...   285382   285833   286661   287659   288708   289518   290281   \n",
       "244  ...   129993   130867   131349   131888   132293   132972   133437   \n",
       "\n",
       "     2019-12  2020-01  2020-02  \n",
       "54    148663   149503   151010  \n",
       "130   160530   161321   162255  \n",
       "181   148720   149677   150845  \n",
       "234   291492   292851   294430  \n",
       "244   133882   133814   134133  \n",
       "\n",
       "[5 rows x 294 columns]"
      ]
     },
     "execution_count": 9,
     "metadata": {},
     "output_type": "execute_result"
    }
   ],
   "source": [
    "df_county.head()"
   ]
  },
  {
   "cell_type": "code",
   "execution_count": 10,
   "metadata": {
    "ExecuteTime": {
     "end_time": "2020-04-08T14:49:38.889209Z",
     "start_time": "2020-04-08T14:49:38.875238Z"
    }
   },
   "outputs": [
    {
     "data": {
      "text/html": [
       "<div>\n",
       "<style scoped>\n",
       "    .dataframe tbody tr th:only-of-type {\n",
       "        vertical-align: middle;\n",
       "    }\n",
       "\n",
       "    .dataframe tbody tr th {\n",
       "        vertical-align: top;\n",
       "    }\n",
       "\n",
       "    .dataframe thead th {\n",
       "        text-align: right;\n",
       "    }\n",
       "</style>\n",
       "<table border=\"1\" class=\"dataframe\">\n",
       "  <thead>\n",
       "    <tr style=\"text-align: right;\">\n",
       "      <th></th>\n",
       "      <th>RegionID</th>\n",
       "      <th>RegionName</th>\n",
       "      <th>City</th>\n",
       "      <th>State</th>\n",
       "      <th>Metro</th>\n",
       "      <th>CountyName</th>\n",
       "      <th>SizeRank</th>\n",
       "      <th>1996-04</th>\n",
       "      <th>1996-05</th>\n",
       "      <th>1996-06</th>\n",
       "      <th>...</th>\n",
       "      <th>2019-05</th>\n",
       "      <th>2019-06</th>\n",
       "      <th>2019-07</th>\n",
       "      <th>2019-08</th>\n",
       "      <th>2019-09</th>\n",
       "      <th>2019-10</th>\n",
       "      <th>2019-11</th>\n",
       "      <th>2019-12</th>\n",
       "      <th>2020-01</th>\n",
       "      <th>2020-02</th>\n",
       "    </tr>\n",
       "  </thead>\n",
       "  <tbody>\n",
       "    <tr>\n",
       "      <td>173</td>\n",
       "      <td>78823</td>\n",
       "      <td>47906</td>\n",
       "      <td>West Lafayette</td>\n",
       "      <td>IN</td>\n",
       "      <td>Lafayette-West Lafayette</td>\n",
       "      <td>Tippecanoe County</td>\n",
       "      <td>174</td>\n",
       "      <td>NaN</td>\n",
       "      <td>NaN</td>\n",
       "      <td>NaN</td>\n",
       "      <td>...</td>\n",
       "      <td>223048</td>\n",
       "      <td>224264</td>\n",
       "      <td>224772</td>\n",
       "      <td>225786</td>\n",
       "      <td>227316</td>\n",
       "      <td>229164</td>\n",
       "      <td>230635</td>\n",
       "      <td>231927</td>\n",
       "      <td>233334</td>\n",
       "      <td>235047</td>\n",
       "    </tr>\n",
       "    <tr>\n",
       "      <td>185</td>\n",
       "      <td>78085</td>\n",
       "      <td>46307</td>\n",
       "      <td>Crown Point</td>\n",
       "      <td>IN</td>\n",
       "      <td>Chicago-Naperville-Elgin</td>\n",
       "      <td>Lake County</td>\n",
       "      <td>186</td>\n",
       "      <td>NaN</td>\n",
       "      <td>NaN</td>\n",
       "      <td>NaN</td>\n",
       "      <td>...</td>\n",
       "      <td>234992</td>\n",
       "      <td>235984</td>\n",
       "      <td>237332</td>\n",
       "      <td>238586</td>\n",
       "      <td>239685</td>\n",
       "      <td>240750</td>\n",
       "      <td>241646</td>\n",
       "      <td>242665</td>\n",
       "      <td>243528</td>\n",
       "      <td>244670</td>\n",
       "    </tr>\n",
       "    <tr>\n",
       "      <td>242</td>\n",
       "      <td>78042</td>\n",
       "      <td>46227</td>\n",
       "      <td>Indianapolis</td>\n",
       "      <td>IN</td>\n",
       "      <td>Indianapolis-Carmel-Anderson</td>\n",
       "      <td>Marion County</td>\n",
       "      <td>243</td>\n",
       "      <td>NaN</td>\n",
       "      <td>NaN</td>\n",
       "      <td>NaN</td>\n",
       "      <td>...</td>\n",
       "      <td>149714</td>\n",
       "      <td>150001</td>\n",
       "      <td>150358</td>\n",
       "      <td>150708</td>\n",
       "      <td>152158</td>\n",
       "      <td>153644</td>\n",
       "      <td>154971</td>\n",
       "      <td>155486</td>\n",
       "      <td>156278</td>\n",
       "      <td>157842</td>\n",
       "    </tr>\n",
       "    <tr>\n",
       "      <td>394</td>\n",
       "      <td>77986</td>\n",
       "      <td>46143</td>\n",
       "      <td>Greenwood</td>\n",
       "      <td>IN</td>\n",
       "      <td>Indianapolis-Carmel-Anderson</td>\n",
       "      <td>Johnson County</td>\n",
       "      <td>395</td>\n",
       "      <td>NaN</td>\n",
       "      <td>NaN</td>\n",
       "      <td>NaN</td>\n",
       "      <td>...</td>\n",
       "      <td>204271</td>\n",
       "      <td>204623</td>\n",
       "      <td>205365</td>\n",
       "      <td>206028</td>\n",
       "      <td>207361</td>\n",
       "      <td>208763</td>\n",
       "      <td>209879</td>\n",
       "      <td>210516</td>\n",
       "      <td>211173</td>\n",
       "      <td>212490</td>\n",
       "    </tr>\n",
       "    <tr>\n",
       "      <td>561</td>\n",
       "      <td>78467</td>\n",
       "      <td>47150</td>\n",
       "      <td>New Albany</td>\n",
       "      <td>IN</td>\n",
       "      <td>Louisville/Jefferson County</td>\n",
       "      <td>Floyd County</td>\n",
       "      <td>562</td>\n",
       "      <td>NaN</td>\n",
       "      <td>NaN</td>\n",
       "      <td>NaN</td>\n",
       "      <td>...</td>\n",
       "      <td>147593</td>\n",
       "      <td>148714</td>\n",
       "      <td>149583</td>\n",
       "      <td>150842</td>\n",
       "      <td>151959</td>\n",
       "      <td>152694</td>\n",
       "      <td>153069</td>\n",
       "      <td>153481</td>\n",
       "      <td>153783</td>\n",
       "      <td>154140</td>\n",
       "    </tr>\n",
       "  </tbody>\n",
       "</table>\n",
       "<p>5 rows × 294 columns</p>\n",
       "</div>"
      ],
      "text/plain": [
       "     RegionID  RegionName            City State                         Metro  \\\n",
       "173     78823       47906  West Lafayette    IN      Lafayette-West Lafayette   \n",
       "185     78085       46307     Crown Point    IN      Chicago-Naperville-Elgin   \n",
       "242     78042       46227    Indianapolis    IN  Indianapolis-Carmel-Anderson   \n",
       "394     77986       46143       Greenwood    IN  Indianapolis-Carmel-Anderson   \n",
       "561     78467       47150      New Albany    IN   Louisville/Jefferson County   \n",
       "\n",
       "            CountyName  SizeRank  1996-04  1996-05  1996-06  ...  2019-05  \\\n",
       "173  Tippecanoe County       174      NaN      NaN      NaN  ...   223048   \n",
       "185        Lake County       186      NaN      NaN      NaN  ...   234992   \n",
       "242      Marion County       243      NaN      NaN      NaN  ...   149714   \n",
       "394     Johnson County       395      NaN      NaN      NaN  ...   204271   \n",
       "561       Floyd County       562      NaN      NaN      NaN  ...   147593   \n",
       "\n",
       "     2019-06  2019-07  2019-08  2019-09  2019-10  2019-11  2019-12  2020-01  \\\n",
       "173   224264   224772   225786   227316   229164   230635   231927   233334   \n",
       "185   235984   237332   238586   239685   240750   241646   242665   243528   \n",
       "242   150001   150358   150708   152158   153644   154971   155486   156278   \n",
       "394   204623   205365   206028   207361   208763   209879   210516   211173   \n",
       "561   148714   149583   150842   151959   152694   153069   153481   153783   \n",
       "\n",
       "     2020-02  \n",
       "173   235047  \n",
       "185   244670  \n",
       "242   157842  \n",
       "394   212490  \n",
       "561   154140  \n",
       "\n",
       "[5 rows x 294 columns]"
      ]
     },
     "execution_count": 10,
     "metadata": {},
     "output_type": "execute_result"
    }
   ],
   "source": [
    "df_zipcode.head()"
   ]
  },
  {
   "cell_type": "code",
   "execution_count": 11,
   "metadata": {
    "ExecuteTime": {
     "end_time": "2020-04-08T14:49:43.852141Z",
     "start_time": "2020-04-08T14:49:43.834192Z"
    }
   },
   "outputs": [
    {
     "name": "stdout",
     "output_type": "stream",
     "text": [
      "<class 'pandas.core.frame.DataFrame'>\n",
      "Int64Index: 806 entries, 173 to 30449\n",
      "Columns: 294 entries, RegionID to 2020-02\n",
      "dtypes: float64(261), int64(29), object(4)\n",
      "memory usage: 1.8+ MB\n"
     ]
    }
   ],
   "source": [
    "df_zipcode.info()"
   ]
  },
  {
   "cell_type": "code",
   "execution_count": 24,
   "metadata": {
    "ExecuteTime": {
     "end_time": "2020-04-08T14:53:47.671614Z",
     "start_time": "2020-04-08T14:53:47.666630Z"
    }
   },
   "outputs": [],
   "source": [
    "def get_datetimes(df):\n",
    "    \"\"\"\n",
    "        change the column data type from str to datetime \n",
    "        input: DataFrame with column names with time and others\n",
    "        return: the datetime index\n",
    "    \"\"\"\n",
    "    border = list(df.columns).index('SizeRank')+1#find the first time column\n",
    "    return pd.to_datetime(df.columns.values[border:], format='%Y-%m')"
   ]
  },
  {
   "cell_type": "code",
   "execution_count": 25,
   "metadata": {
    "ExecuteTime": {
     "end_time": "2020-04-08T14:53:48.318357Z",
     "start_time": "2020-04-08T14:53:48.314396Z"
    }
   },
   "outputs": [],
   "source": [
    "time = get_datetimes(df_zipcode)"
   ]
  },
  {
   "cell_type": "code",
   "execution_count": 15,
   "metadata": {
    "ExecuteTime": {
     "end_time": "2020-04-08T13:46:57.592952Z",
     "start_time": "2020-04-08T13:46:57.588967Z"
    },
    "scrolled": true
   },
   "outputs": [
    {
     "data": {
      "text/plain": [
       "DatetimeIndex(['2018-01-01', '2018-02-01', '2018-03-01', '2018-04-01',\n",
       "               '2018-05-01', '2018-06-01', '2018-07-01', '2018-08-01',\n",
       "               '2018-09-01', '2018-10-01', '2018-11-01', '2018-12-01',\n",
       "               '2019-01-01', '2019-02-01', '2019-03-01', '2019-04-01',\n",
       "               '2019-05-01', '2019-06-01', '2019-07-01', '2019-08-01',\n",
       "               '2019-09-01', '2019-10-01', '2019-11-01', '2019-12-01',\n",
       "               '2020-01-01', '2020-02-01'],\n",
       "              dtype='datetime64[ns]', freq=None)"
      ]
     },
     "execution_count": 15,
     "metadata": {},
     "output_type": "execute_result"
    }
   ],
   "source": [
    "time[-26:]"
   ]
  },
  {
   "cell_type": "markdown",
   "metadata": {},
   "source": [
    "Let us see the trend from 2018."
   ]
  },
  {
   "cell_type": "code",
   "execution_count": 26,
   "metadata": {
    "ExecuteTime": {
     "end_time": "2020-04-08T14:54:11.770508Z",
     "start_time": "2020-04-08T14:54:11.753554Z"
    }
   },
   "outputs": [],
   "source": [
    "df_zipcode_recent = pd.DataFrame()\n",
    "df_zipcode_recent['RegionName']= df_zipcode.RegionName\n",
    "df_zipcode_recent['CountyName']= df_zipcode.CountyName\n",
    "df_zipcode_recent[time[-26:]] = df_zipcode[df_zipcode.columns[-26:]]"
   ]
  },
  {
   "cell_type": "code",
   "execution_count": 29,
   "metadata": {
    "ExecuteTime": {
     "end_time": "2020-04-08T14:54:59.596417Z",
     "start_time": "2020-04-08T14:54:59.473718Z"
    }
   },
   "outputs": [],
   "source": [
    "df_zipcode_available = pd.DataFrame()\n",
    "df_zipcode_available['RegionName']= df_zipcode.RegionName\n",
    "df_zipcode_available['CountyName']= df_zipcode.CountyName\n",
    "border = list(df_zipcode.columns).index('SizeRank')+1\n",
    "df_zipcode_available[time] = df_zipcode[df_zipcode.columns[border:]]"
   ]
  },
  {
   "cell_type": "code",
   "execution_count": 31,
   "metadata": {
    "ExecuteTime": {
     "end_time": "2020-04-08T14:57:13.337039Z",
     "start_time": "2020-04-08T14:57:13.327068Z"
    }
   },
   "outputs": [
    {
     "data": {
      "text/html": [
       "<div>\n",
       "<style scoped>\n",
       "    .dataframe tbody tr th:only-of-type {\n",
       "        vertical-align: middle;\n",
       "    }\n",
       "\n",
       "    .dataframe tbody tr th {\n",
       "        vertical-align: top;\n",
       "    }\n",
       "\n",
       "    .dataframe thead th {\n",
       "        text-align: right;\n",
       "    }\n",
       "</style>\n",
       "<table border=\"1\" class=\"dataframe\">\n",
       "  <thead>\n",
       "    <tr style=\"text-align: right;\">\n",
       "      <th></th>\n",
       "      <th>RegionName</th>\n",
       "      <th>CountyName</th>\n",
       "    </tr>\n",
       "  </thead>\n",
       "  <tbody>\n",
       "    <tr>\n",
       "      <td>173</td>\n",
       "      <td>47906</td>\n",
       "      <td>Tippecanoe County</td>\n",
       "    </tr>\n",
       "    <tr>\n",
       "      <td>185</td>\n",
       "      <td>46307</td>\n",
       "      <td>Lake County</td>\n",
       "    </tr>\n",
       "    <tr>\n",
       "      <td>242</td>\n",
       "      <td>46227</td>\n",
       "      <td>Marion County</td>\n",
       "    </tr>\n",
       "    <tr>\n",
       "      <td>394</td>\n",
       "      <td>46143</td>\n",
       "      <td>Johnson County</td>\n",
       "    </tr>\n",
       "    <tr>\n",
       "      <td>561</td>\n",
       "      <td>47150</td>\n",
       "      <td>Floyd County</td>\n",
       "    </tr>\n",
       "    <tr>\n",
       "      <td>...</td>\n",
       "      <td>...</td>\n",
       "      <td>...</td>\n",
       "    </tr>\n",
       "    <tr>\n",
       "      <td>30397</td>\n",
       "      <td>47683</td>\n",
       "      <td>Gibson County</td>\n",
       "    </tr>\n",
       "    <tr>\n",
       "      <td>30440</td>\n",
       "      <td>47556</td>\n",
       "      <td>Dubois County</td>\n",
       "    </tr>\n",
       "    <tr>\n",
       "      <td>30443</td>\n",
       "      <td>47986</td>\n",
       "      <td>Benton County</td>\n",
       "    </tr>\n",
       "    <tr>\n",
       "      <td>30448</td>\n",
       "      <td>46942</td>\n",
       "      <td>Cass County</td>\n",
       "    </tr>\n",
       "    <tr>\n",
       "      <td>30449</td>\n",
       "      <td>47107</td>\n",
       "      <td>Floyd County</td>\n",
       "    </tr>\n",
       "  </tbody>\n",
       "</table>\n",
       "<p>806 rows × 2 columns</p>\n",
       "</div>"
      ],
      "text/plain": [
       "       RegionName         CountyName\n",
       "173         47906  Tippecanoe County\n",
       "185         46307        Lake County\n",
       "242         46227      Marion County\n",
       "394         46143     Johnson County\n",
       "561         47150       Floyd County\n",
       "...           ...                ...\n",
       "30397       47683      Gibson County\n",
       "30440       47556      Dubois County\n",
       "30443       47986      Benton County\n",
       "30448       46942        Cass County\n",
       "30449       47107       Floyd County\n",
       "\n",
       "[806 rows x 2 columns]"
      ]
     },
     "execution_count": 31,
     "metadata": {},
     "output_type": "execute_result"
    }
   ],
   "source": [
    "zipcode_county = df_zipcode_recent[df_zipcode_recent.columns[:2]]\n",
    "zipcode_county"
   ]
  },
  {
   "cell_type": "code",
   "execution_count": 29,
   "metadata": {
    "ExecuteTime": {
     "end_time": "2020-04-08T14:23:39.632596Z",
     "start_time": "2020-04-08T14:23:39.627573Z"
    }
   },
   "outputs": [],
   "source": [
    "df_zipcode_price2018 = df_zipcode_recent[df_zipcode_recent.columns[2:]].T\n",
    "df_zipcode_price2018.head()\n",
    "df_zipcode_price2018.columns = zipcode_county.RegionName"
   ]
  },
  {
   "cell_type": "code",
   "execution_count": 30,
   "metadata": {
    "ExecuteTime": {
     "end_time": "2020-04-08T14:23:49.026968Z",
     "start_time": "2020-04-08T14:23:49.011010Z"
    }
   },
   "outputs": [
    {
     "data": {
      "text/html": [
       "<div>\n",
       "<style scoped>\n",
       "    .dataframe tbody tr th:only-of-type {\n",
       "        vertical-align: middle;\n",
       "    }\n",
       "\n",
       "    .dataframe tbody tr th {\n",
       "        vertical-align: top;\n",
       "    }\n",
       "\n",
       "    .dataframe thead th {\n",
       "        text-align: right;\n",
       "    }\n",
       "</style>\n",
       "<table border=\"1\" class=\"dataframe\">\n",
       "  <thead>\n",
       "    <tr style=\"text-align: right;\">\n",
       "      <th>RegionName</th>\n",
       "      <th>47906</th>\n",
       "      <th>46307</th>\n",
       "      <th>46227</th>\n",
       "      <th>46143</th>\n",
       "      <th>47150</th>\n",
       "      <th>47130</th>\n",
       "      <th>46032</th>\n",
       "      <th>47401</th>\n",
       "      <th>46360</th>\n",
       "      <th>47374</th>\n",
       "      <th>...</th>\n",
       "      <th>47457</th>\n",
       "      <th>46921</th>\n",
       "      <th>46170</th>\n",
       "      <th>46047</th>\n",
       "      <th>46912</th>\n",
       "      <th>47683</th>\n",
       "      <th>47556</th>\n",
       "      <th>47986</th>\n",
       "      <th>46942</th>\n",
       "      <th>47107</th>\n",
       "    </tr>\n",
       "  </thead>\n",
       "  <tbody>\n",
       "    <tr>\n",
       "      <td>2018-01-01 00:00:00</td>\n",
       "      <td>212172</td>\n",
       "      <td>217546</td>\n",
       "      <td>134629</td>\n",
       "      <td>189424</td>\n",
       "      <td>135475</td>\n",
       "      <td>134648</td>\n",
       "      <td>325769</td>\n",
       "      <td>245728</td>\n",
       "      <td>118066</td>\n",
       "      <td>90187</td>\n",
       "      <td>...</td>\n",
       "      <td>60529</td>\n",
       "      <td>56115</td>\n",
       "      <td>83604</td>\n",
       "      <td>71805</td>\n",
       "      <td>68600</td>\n",
       "      <td>40974</td>\n",
       "      <td>134892</td>\n",
       "      <td>55785</td>\n",
       "      <td>68026</td>\n",
       "      <td>69853</td>\n",
       "    </tr>\n",
       "    <tr>\n",
       "      <td>2018-02-01 00:00:00</td>\n",
       "      <td>213674</td>\n",
       "      <td>218473</td>\n",
       "      <td>135088</td>\n",
       "      <td>189677</td>\n",
       "      <td>136586</td>\n",
       "      <td>136867</td>\n",
       "      <td>327904</td>\n",
       "      <td>247111</td>\n",
       "      <td>118762</td>\n",
       "      <td>90201</td>\n",
       "      <td>...</td>\n",
       "      <td>61801</td>\n",
       "      <td>55423</td>\n",
       "      <td>84133</td>\n",
       "      <td>70489</td>\n",
       "      <td>69662</td>\n",
       "      <td>40795</td>\n",
       "      <td>136144</td>\n",
       "      <td>56145</td>\n",
       "      <td>67780</td>\n",
       "      <td>68686</td>\n",
       "    </tr>\n",
       "    <tr>\n",
       "      <td>2018-03-01 00:00:00</td>\n",
       "      <td>214966</td>\n",
       "      <td>219374</td>\n",
       "      <td>136299</td>\n",
       "      <td>190297</td>\n",
       "      <td>137566</td>\n",
       "      <td>139136</td>\n",
       "      <td>329751</td>\n",
       "      <td>248162</td>\n",
       "      <td>119211</td>\n",
       "      <td>90121</td>\n",
       "      <td>...</td>\n",
       "      <td>63078</td>\n",
       "      <td>55272</td>\n",
       "      <td>84809</td>\n",
       "      <td>69911</td>\n",
       "      <td>71043</td>\n",
       "      <td>40324</td>\n",
       "      <td>136670</td>\n",
       "      <td>56462</td>\n",
       "      <td>67695</td>\n",
       "      <td>67590</td>\n",
       "    </tr>\n",
       "    <tr>\n",
       "      <td>2018-04-01 00:00:00</td>\n",
       "      <td>215693</td>\n",
       "      <td>220697</td>\n",
       "      <td>138015</td>\n",
       "      <td>191324</td>\n",
       "      <td>137936</td>\n",
       "      <td>140333</td>\n",
       "      <td>331775</td>\n",
       "      <td>249268</td>\n",
       "      <td>119985</td>\n",
       "      <td>90049</td>\n",
       "      <td>...</td>\n",
       "      <td>63787</td>\n",
       "      <td>55178</td>\n",
       "      <td>85711</td>\n",
       "      <td>70098</td>\n",
       "      <td>72335</td>\n",
       "      <td>40224</td>\n",
       "      <td>136798</td>\n",
       "      <td>57246</td>\n",
       "      <td>67924</td>\n",
       "      <td>67351</td>\n",
       "    </tr>\n",
       "    <tr>\n",
       "      <td>2018-05-01 00:00:00</td>\n",
       "      <td>215968</td>\n",
       "      <td>222033</td>\n",
       "      <td>139239</td>\n",
       "      <td>192728</td>\n",
       "      <td>138156</td>\n",
       "      <td>141230</td>\n",
       "      <td>332551</td>\n",
       "      <td>250401</td>\n",
       "      <td>120510</td>\n",
       "      <td>90203</td>\n",
       "      <td>...</td>\n",
       "      <td>63865</td>\n",
       "      <td>55678</td>\n",
       "      <td>86330</td>\n",
       "      <td>70177</td>\n",
       "      <td>73359</td>\n",
       "      <td>40391</td>\n",
       "      <td>137089</td>\n",
       "      <td>57276</td>\n",
       "      <td>68670</td>\n",
       "      <td>67533</td>\n",
       "    </tr>\n",
       "  </tbody>\n",
       "</table>\n",
       "<p>5 rows × 806 columns</p>\n",
       "</div>"
      ],
      "text/plain": [
       "RegionName            47906   46307   46227   46143   47150   47130   46032  \\\n",
       "2018-01-01 00:00:00  212172  217546  134629  189424  135475  134648  325769   \n",
       "2018-02-01 00:00:00  213674  218473  135088  189677  136586  136867  327904   \n",
       "2018-03-01 00:00:00  214966  219374  136299  190297  137566  139136  329751   \n",
       "2018-04-01 00:00:00  215693  220697  138015  191324  137936  140333  331775   \n",
       "2018-05-01 00:00:00  215968  222033  139239  192728  138156  141230  332551   \n",
       "\n",
       "RegionName            47401   46360  47374  ...  47457  46921  46170  46047  \\\n",
       "2018-01-01 00:00:00  245728  118066  90187  ...  60529  56115  83604  71805   \n",
       "2018-02-01 00:00:00  247111  118762  90201  ...  61801  55423  84133  70489   \n",
       "2018-03-01 00:00:00  248162  119211  90121  ...  63078  55272  84809  69911   \n",
       "2018-04-01 00:00:00  249268  119985  90049  ...  63787  55178  85711  70098   \n",
       "2018-05-01 00:00:00  250401  120510  90203  ...  63865  55678  86330  70177   \n",
       "\n",
       "RegionName           46912  47683   47556  47986  46942  47107  \n",
       "2018-01-01 00:00:00  68600  40974  134892  55785  68026  69853  \n",
       "2018-02-01 00:00:00  69662  40795  136144  56145  67780  68686  \n",
       "2018-03-01 00:00:00  71043  40324  136670  56462  67695  67590  \n",
       "2018-04-01 00:00:00  72335  40224  136798  57246  67924  67351  \n",
       "2018-05-01 00:00:00  73359  40391  137089  57276  68670  67533  \n",
       "\n",
       "[5 rows x 806 columns]"
      ]
     },
     "execution_count": 30,
     "metadata": {},
     "output_type": "execute_result"
    }
   ],
   "source": [
    "df_zipcode_price2018.head()"
   ]
  },
  {
   "cell_type": "code",
   "execution_count": 32,
   "metadata": {
    "ExecuteTime": {
     "end_time": "2020-04-08T14:57:15.864582Z",
     "start_time": "2020-04-08T14:57:15.858386Z"
    }
   },
   "outputs": [],
   "source": [
    "df_zipcode_price = df_zipcode_available[df_zipcode_available.columns[2:]].T\n",
    "df_zipcode_price.head()\n",
    "df_zipcode_price.columns = zipcode_county.RegionName"
   ]
  },
  {
   "cell_type": "code",
   "execution_count": 37,
   "metadata": {
    "ExecuteTime": {
     "end_time": "2020-04-08T15:00:00.716543Z",
     "start_time": "2020-04-08T15:00:00.706570Z"
    },
    "scrolled": true
   },
   "outputs": [
    {
     "data": {
      "text/html": [
       "<div>\n",
       "<style scoped>\n",
       "    .dataframe tbody tr th:only-of-type {\n",
       "        vertical-align: middle;\n",
       "    }\n",
       "\n",
       "    .dataframe tbody tr th {\n",
       "        vertical-align: top;\n",
       "    }\n",
       "\n",
       "    .dataframe thead th {\n",
       "        text-align: right;\n",
       "    }\n",
       "</style>\n",
       "<table border=\"1\" class=\"dataframe\">\n",
       "  <thead>\n",
       "    <tr style=\"text-align: right;\">\n",
       "      <th></th>\n",
       "      <th>RegionName</th>\n",
       "      <th>CountyName</th>\n",
       "    </tr>\n",
       "  </thead>\n",
       "  <tbody>\n",
       "    <tr>\n",
       "      <td>242</td>\n",
       "      <td>46227</td>\n",
       "      <td>Marion County</td>\n",
       "    </tr>\n",
       "    <tr>\n",
       "      <td>1156</td>\n",
       "      <td>46226</td>\n",
       "      <td>Marion County</td>\n",
       "    </tr>\n",
       "    <tr>\n",
       "      <td>1358</td>\n",
       "      <td>46220</td>\n",
       "      <td>Marion County</td>\n",
       "    </tr>\n",
       "    <tr>\n",
       "      <td>1399</td>\n",
       "      <td>46237</td>\n",
       "      <td>Marion County</td>\n",
       "    </tr>\n",
       "    <tr>\n",
       "      <td>1507</td>\n",
       "      <td>46254</td>\n",
       "      <td>Marion County</td>\n",
       "    </tr>\n",
       "    <tr>\n",
       "      <td>1924</td>\n",
       "      <td>46219</td>\n",
       "      <td>Marion County</td>\n",
       "    </tr>\n",
       "    <tr>\n",
       "      <td>1966</td>\n",
       "      <td>46224</td>\n",
       "      <td>Marion County</td>\n",
       "    </tr>\n",
       "    <tr>\n",
       "      <td>2011</td>\n",
       "      <td>46203</td>\n",
       "      <td>Marion County</td>\n",
       "    </tr>\n",
       "    <tr>\n",
       "      <td>2168</td>\n",
       "      <td>46260</td>\n",
       "      <td>Marion County</td>\n",
       "    </tr>\n",
       "    <tr>\n",
       "      <td>2637</td>\n",
       "      <td>46222</td>\n",
       "      <td>Marion County</td>\n",
       "    </tr>\n",
       "    <tr>\n",
       "      <td>3058</td>\n",
       "      <td>46201</td>\n",
       "      <td>Marion County</td>\n",
       "    </tr>\n",
       "    <tr>\n",
       "      <td>3084</td>\n",
       "      <td>46217</td>\n",
       "      <td>Marion County</td>\n",
       "    </tr>\n",
       "    <tr>\n",
       "      <td>3147</td>\n",
       "      <td>46235</td>\n",
       "      <td>Marion County</td>\n",
       "    </tr>\n",
       "    <tr>\n",
       "      <td>3190</td>\n",
       "      <td>46218</td>\n",
       "      <td>Marion County</td>\n",
       "    </tr>\n",
       "    <tr>\n",
       "      <td>3285</td>\n",
       "      <td>46205</td>\n",
       "      <td>Marion County</td>\n",
       "    </tr>\n",
       "    <tr>\n",
       "      <td>3431</td>\n",
       "      <td>46268</td>\n",
       "      <td>Marion County</td>\n",
       "    </tr>\n",
       "    <tr>\n",
       "      <td>3589</td>\n",
       "      <td>46241</td>\n",
       "      <td>Marion County</td>\n",
       "    </tr>\n",
       "    <tr>\n",
       "      <td>3893</td>\n",
       "      <td>46239</td>\n",
       "      <td>Marion County</td>\n",
       "    </tr>\n",
       "    <tr>\n",
       "      <td>3949</td>\n",
       "      <td>46202</td>\n",
       "      <td>Marion County</td>\n",
       "    </tr>\n",
       "    <tr>\n",
       "      <td>3990</td>\n",
       "      <td>46229</td>\n",
       "      <td>Marion County</td>\n",
       "    </tr>\n",
       "    <tr>\n",
       "      <td>4020</td>\n",
       "      <td>46214</td>\n",
       "      <td>Marion County</td>\n",
       "    </tr>\n",
       "    <tr>\n",
       "      <td>4209</td>\n",
       "      <td>46240</td>\n",
       "      <td>Marion County</td>\n",
       "    </tr>\n",
       "    <tr>\n",
       "      <td>4528</td>\n",
       "      <td>46236</td>\n",
       "      <td>Marion County</td>\n",
       "    </tr>\n",
       "    <tr>\n",
       "      <td>4570</td>\n",
       "      <td>46234</td>\n",
       "      <td>Marion County</td>\n",
       "    </tr>\n",
       "    <tr>\n",
       "      <td>4683</td>\n",
       "      <td>46221</td>\n",
       "      <td>Marion County</td>\n",
       "    </tr>\n",
       "    <tr>\n",
       "      <td>4755</td>\n",
       "      <td>46250</td>\n",
       "      <td>Marion County</td>\n",
       "    </tr>\n",
       "    <tr>\n",
       "      <td>4821</td>\n",
       "      <td>46256</td>\n",
       "      <td>Marion County</td>\n",
       "    </tr>\n",
       "    <tr>\n",
       "      <td>5127</td>\n",
       "      <td>46208</td>\n",
       "      <td>Marion County</td>\n",
       "    </tr>\n",
       "    <tr>\n",
       "      <td>7648</td>\n",
       "      <td>46228</td>\n",
       "      <td>Marion County</td>\n",
       "    </tr>\n",
       "    <tr>\n",
       "      <td>8028</td>\n",
       "      <td>46113</td>\n",
       "      <td>Marion County</td>\n",
       "    </tr>\n",
       "    <tr>\n",
       "      <td>8201</td>\n",
       "      <td>46107</td>\n",
       "      <td>Marion County</td>\n",
       "    </tr>\n",
       "    <tr>\n",
       "      <td>8443</td>\n",
       "      <td>46204</td>\n",
       "      <td>Marion County</td>\n",
       "    </tr>\n",
       "    <tr>\n",
       "      <td>9273</td>\n",
       "      <td>46259</td>\n",
       "      <td>Marion County</td>\n",
       "    </tr>\n",
       "    <tr>\n",
       "      <td>10238</td>\n",
       "      <td>46280</td>\n",
       "      <td>Marion County</td>\n",
       "    </tr>\n",
       "    <tr>\n",
       "      <td>10504</td>\n",
       "      <td>46231</td>\n",
       "      <td>Marion County</td>\n",
       "    </tr>\n",
       "    <tr>\n",
       "      <td>10752</td>\n",
       "      <td>46278</td>\n",
       "      <td>Marion County</td>\n",
       "    </tr>\n",
       "    <tr>\n",
       "      <td>11575</td>\n",
       "      <td>46225</td>\n",
       "      <td>Marion County</td>\n",
       "    </tr>\n",
       "    <tr>\n",
       "      <td>15599</td>\n",
       "      <td>46216</td>\n",
       "      <td>Marion County</td>\n",
       "    </tr>\n",
       "    <tr>\n",
       "      <td>29485</td>\n",
       "      <td>46183</td>\n",
       "      <td>Marion County</td>\n",
       "    </tr>\n",
       "  </tbody>\n",
       "</table>\n",
       "</div>"
      ],
      "text/plain": [
       "       RegionName     CountyName\n",
       "242         46227  Marion County\n",
       "1156        46226  Marion County\n",
       "1358        46220  Marion County\n",
       "1399        46237  Marion County\n",
       "1507        46254  Marion County\n",
       "1924        46219  Marion County\n",
       "1966        46224  Marion County\n",
       "2011        46203  Marion County\n",
       "2168        46260  Marion County\n",
       "2637        46222  Marion County\n",
       "3058        46201  Marion County\n",
       "3084        46217  Marion County\n",
       "3147        46235  Marion County\n",
       "3190        46218  Marion County\n",
       "3285        46205  Marion County\n",
       "3431        46268  Marion County\n",
       "3589        46241  Marion County\n",
       "3893        46239  Marion County\n",
       "3949        46202  Marion County\n",
       "3990        46229  Marion County\n",
       "4020        46214  Marion County\n",
       "4209        46240  Marion County\n",
       "4528        46236  Marion County\n",
       "4570        46234  Marion County\n",
       "4683        46221  Marion County\n",
       "4755        46250  Marion County\n",
       "4821        46256  Marion County\n",
       "5127        46208  Marion County\n",
       "7648        46228  Marion County\n",
       "8028        46113  Marion County\n",
       "8201        46107  Marion County\n",
       "8443        46204  Marion County\n",
       "9273        46259  Marion County\n",
       "10238       46280  Marion County\n",
       "10504       46231  Marion County\n",
       "10752       46278  Marion County\n",
       "11575       46225  Marion County\n",
       "15599       46216  Marion County\n",
       "29485       46183  Marion County"
      ]
     },
     "execution_count": 37,
     "metadata": {},
     "output_type": "execute_result"
    }
   ],
   "source": [
    "zipcode_county.query('CountyName == \"Marion County\"')"
   ]
  },
  {
   "cell_type": "code",
   "execution_count": 39,
   "metadata": {
    "ExecuteTime": {
     "end_time": "2020-04-08T15:00:32.143075Z",
     "start_time": "2020-04-08T15:00:32.138069Z"
    }
   },
   "outputs": [
    {
     "data": {
      "text/plain": [
       "40"
      ]
     },
     "execution_count": 39,
     "metadata": {},
     "output_type": "execute_result"
    }
   ],
   "source": [
    "df_zipcode_price[46227].isna().sum()"
   ]
  },
  {
   "cell_type": "code",
   "execution_count": 43,
   "metadata": {
    "ExecuteTime": {
     "end_time": "2020-04-08T15:01:28.367811Z",
     "start_time": "2020-04-08T15:01:28.362825Z"
    }
   },
   "outputs": [
    {
     "data": {
      "text/plain": [
       "1999-08-01     81013.0\n",
       "1999-09-01     81574.0\n",
       "1999-10-01     81556.0\n",
       "1999-11-01     81807.0\n",
       "1999-12-01     82103.0\n",
       "                ...   \n",
       "2019-10-01    153644.0\n",
       "2019-11-01    154971.0\n",
       "2019-12-01    155486.0\n",
       "2020-01-01    156278.0\n",
       "2020-02-01    157842.0\n",
       "Name: 46227, Length: 247, dtype: float64"
      ]
     },
     "execution_count": 43,
     "metadata": {},
     "output_type": "execute_result"
    }
   ],
   "source": [
    "df_zipcode_price[46227][40:]"
   ]
  },
  {
   "cell_type": "code",
   "execution_count": 44,
   "metadata": {
    "ExecuteTime": {
     "end_time": "2020-04-08T15:02:34.771259Z",
     "start_time": "2020-04-08T15:02:34.762283Z"
    }
   },
   "outputs": [
    {
     "data": {
      "text/html": [
       "<div>\n",
       "<style scoped>\n",
       "    .dataframe tbody tr th:only-of-type {\n",
       "        vertical-align: middle;\n",
       "    }\n",
       "\n",
       "    .dataframe tbody tr th {\n",
       "        vertical-align: top;\n",
       "    }\n",
       "\n",
       "    .dataframe thead th {\n",
       "        text-align: right;\n",
       "    }\n",
       "</style>\n",
       "<table border=\"1\" class=\"dataframe\">\n",
       "  <thead>\n",
       "    <tr style=\"text-align: right;\">\n",
       "      <th></th>\n",
       "      <th>RegionName</th>\n",
       "      <th>CountyName</th>\n",
       "    </tr>\n",
       "  </thead>\n",
       "  <tbody>\n",
       "    <tr>\n",
       "      <td>242</td>\n",
       "      <td>46227</td>\n",
       "      <td>Marion County</td>\n",
       "    </tr>\n",
       "  </tbody>\n",
       "</table>\n",
       "</div>"
      ],
      "text/plain": [
       "     RegionName     CountyName\n",
       "242       46227  Marion County"
      ]
     },
     "execution_count": 44,
     "metadata": {},
     "output_type": "execute_result"
    }
   ],
   "source": [
    "zipcode_county.query('RegionName == 46227')"
   ]
  },
  {
   "cell_type": "code",
   "execution_count": 45,
   "metadata": {
    "ExecuteTime": {
     "end_time": "2020-04-08T15:02:45.591334Z",
     "start_time": "2020-04-08T15:02:45.585348Z"
    }
   },
   "outputs": [
    {
     "data": {
      "text/plain": [
       "'Marion County'"
      ]
     },
     "execution_count": 45,
     "metadata": {},
     "output_type": "execute_result"
    }
   ],
   "source": [
    "pd.Series(zipcode_county.query('RegionName == 46227').CountyName).iloc[0]# +', '+ str(47906)"
   ]
  },
  {
   "cell_type": "code",
   "execution_count": 47,
   "metadata": {
    "ExecuteTime": {
     "end_time": "2020-04-08T15:03:21.287053Z",
     "start_time": "2020-04-08T15:03:21.106507Z"
    }
   },
   "outputs": [
    {
     "data": {
      "text/plain": [
       "Text(0.5, 1.0, 'Marion County, 46227, housing price trend')"
      ]
     },
     "execution_count": 47,
     "metadata": {},
     "output_type": "execute_result"
    },
    {
     "data": {
      "image/png": "[encoded data removed]",
      "text/plain": [
       "<Figure size 432x288 with 1 Axes>"
      ]
     },
     "metadata": {
      "needs_background": "light"
     },
     "output_type": "display_data"
    }
   ],
   "source": [
    "df_zipcode_price[46227].plot()\n",
    "county = pd.Series(zipcode_county.query('RegionName == 46227').CountyName).iloc[0]\n",
    "\n",
    "plt.title(county +', '+ str(46227) + ', housing price trend')"
   ]
  },
  {
   "cell_type": "code",
   "execution_count": 49,
   "metadata": {
    "ExecuteTime": {
     "end_time": "2020-04-08T15:06:03.892256Z",
     "start_time": "2020-04-08T15:06:03.769584Z"
    }
   },
   "outputs": [],
   "source": [
    "df_county_available = pd.DataFrame()\n",
    "df_county_available['RegionName']= df_county.RegionName\n",
    "# df_county_available['CountyName']= df_county.CountyName\n",
    "border = list(df_county.columns).index('SizeRank')+1\n",
    "df_county_available[time] = df_county[df_county.columns[border:]]"
   ]
  },
  {
   "cell_type": "code",
   "execution_count": 52,
   "metadata": {
    "ExecuteTime": {
     "end_time": "2020-04-08T15:08:41.694555Z",
     "start_time": "2020-04-08T15:08:41.690571Z"
    }
   },
   "outputs": [],
   "source": [
    "df_county_available.set_index('RegionName', inplace = True)"
   ]
  },
  {
   "cell_type": "code",
   "execution_count": 55,
   "metadata": {
    "ExecuteTime": {
     "end_time": "2020-04-08T15:09:30.287831Z",
     "start_time": "2020-04-08T15:09:30.281845Z"
    }
   },
   "outputs": [
    {
     "data": {
      "text/plain": [
       "40"
      ]
     },
     "execution_count": 55,
     "metadata": {},
     "output_type": "execute_result"
    }
   ],
   "source": [
    "df_county_available.loc['Marion County'].isna().sum()"
   ]
  },
  {
   "cell_type": "code",
   "execution_count": 58,
   "metadata": {
    "ExecuteTime": {
     "end_time": "2020-04-08T15:11:01.295912Z",
     "start_time": "2020-04-08T15:11:01.289928Z"
    }
   },
   "outputs": [
    {
     "data": {
      "text/plain": [
       "1996-04-01         NaN\n",
       "1996-05-01         NaN\n",
       "1996-06-01         NaN\n",
       "1996-07-01         NaN\n",
       "1996-08-01         NaN\n",
       "                ...   \n",
       "2019-10-01    146936.0\n",
       "2019-11-01    148115.0\n",
       "2019-12-01    148663.0\n",
       "2020-01-01    149503.0\n",
       "2020-02-01    151010.0\n",
       "Name: Marion County, Length: 287, dtype: float64"
      ]
     },
     "execution_count": 58,
     "metadata": {},
     "output_type": "execute_result"
    }
   ],
   "source": [
    "df_county_available.loc['Marion County']"
   ]
  },
  {
   "cell_type": "code",
   "execution_count": 63,
   "metadata": {
    "ExecuteTime": {
     "end_time": "2020-04-08T15:12:53.735488Z",
     "start_time": "2020-04-08T15:12:53.562294Z"
    }
   },
   "outputs": [
    {
     "data": {
      "text/plain": [
       "<matplotlib.legend.Legend at 0x136c2175588>"
      ]
     },
     "execution_count": 63,
     "metadata": {},
     "output_type": "execute_result"
    },
    {
     "data": {
      "image/png": "[encoded data removed]",
      "text/plain": [
       "<Figure size 432x288 with 1 Axes>"
      ]
     },
     "metadata": {
      "needs_background": "light"
     },
     "output_type": "display_data"
    }
   ],
   "source": [
    "df_county_available.loc['Marion County'].plot()\n",
    "df_county_available.loc['Hamilton County'].plot()\n",
    "plt.legend()\n",
    "# county = pd.Series(zipcode_county.query('RegionName == 46227').CountyName).iloc[0]\n",
    "\n",
    "# plt.title(county +', '+ str(46227) + ', housing price trend')"
   ]
  },
  {
   "cell_type": "code",
   "execution_count": null,
   "metadata": {},
   "outputs": [],
   "source": []
  }
 ],
 "metadata": {
  "kernelspec": {
   "display_name": "Python 3",
   "language": "python",
   "name": "python3"
  },
  "language_info": {
   "codemirror_mode": {
    "name": "ipython",
    "version": 3
   },
   "file_extension": ".py",
   "mimetype": "text/x-python",
   "name": "python",
   "nbconvert_exporter": "python",
   "pygments_lexer": "ipython3",
   "version": "3.7.4"
  },
  "toc": {
   "base_numbering": 1,
   "nav_menu": {},
   "number_sections": true,
   "sideBar": true,
   "skip_h1_title": false,
   "title_cell": "Table of Contents",
   "title_sidebar": "Contents",
   "toc_cell": false,
   "toc_position": {},
   "toc_section_display": true,
   "toc_window_display": false
  }
 },
 "nbformat": 4,
 "nbformat_minor": 2
}
