{
 "cells": [
  {
   "cell_type": "code",
   "execution_count": 1,
   "metadata": {
    "ExecuteTime": {
     "end_time": "2020-04-08T13:23:56.992644Z",
     "start_time": "2020-04-08T13:23:56.454040Z"
    }
   },
   "outputs": [],
   "source": [
    "import pandas as pd\n",
    "import matplotlib.pyplot as plt\n",
    "%matplotlib inline"
   ]
  },
  {
   "cell_type": "code",
   "execution_count": 2,
   "metadata": {
    "ExecuteTime": {
     "end_time": "2020-04-08T13:24:34.127396Z",
     "start_time": "2020-04-08T13:24:33.342459Z"
    }
   },
   "outputs": [],
   "source": [
    "df_county = pd.read_csv('County_Zhvi_AllHomes.csv',encoding='latin-1')\n",
    "df_zipcode = pd.read_csv('Zip_Zhvi_AllHomes.csv',encoding='latin-1')"
   ]
  },
  {
   "cell_type": "code",
   "execution_count": 3,
   "metadata": {
    "ExecuteTime": {
     "end_time": "2020-04-08T13:25:40.585759Z",
     "start_time": "2020-04-08T13:25:40.574797Z"
    }
   },
   "outputs": [],
   "source": [
    "df_county = df_county[df_county.State =='IN']\n",
    "df_zipcode = df_zipcode[df_zipcode.State =='IN']"
   ]
  },
  {
   "cell_type": "code",
   "execution_count": 4,
   "metadata": {
    "ExecuteTime": {
     "end_time": "2020-04-08T13:29:33.325246Z",
     "start_time": "2020-04-08T13:29:33.308257Z"
    }
   },
   "outputs": [
    {
     "data": {
      "text/html": [
       "<div>\n",
       "<style scoped>\n",
       "    .dataframe tbody tr th:only-of-type {\n",
       "        vertical-align: middle;\n",
       "    }\n",
       "\n",
       "    .dataframe tbody tr th {\n",
       "        vertical-align: top;\n",
       "    }\n",
       "\n",
       "    .dataframe thead th {\n",
       "        text-align: right;\n",
       "    }\n",
       "</style>\n",
       "<table border=\"1\" class=\"dataframe\">\n",
       "  <thead>\n",
       "    <tr style=\"text-align: right;\">\n",
       "      <th></th>\n",
       "      <th>RegionID</th>\n",
       "      <th>RegionName</th>\n",
       "      <th>State</th>\n",
       "      <th>Metro</th>\n",
       "      <th>StateCodeFIPS</th>\n",
       "      <th>MunicipalCodeFIPS</th>\n",
       "      <th>SizeRank</th>\n",
       "      <th>1996-04</th>\n",
       "      <th>1996-05</th>\n",
       "      <th>1996-06</th>\n",
       "      <th>...</th>\n",
       "      <th>2019-05</th>\n",
       "      <th>2019-06</th>\n",
       "      <th>2019-07</th>\n",
       "      <th>2019-08</th>\n",
       "      <th>2019-09</th>\n",
       "      <th>2019-10</th>\n",
       "      <th>2019-11</th>\n",
       "      <th>2019-12</th>\n",
       "      <th>2020-01</th>\n",
       "      <th>2020-02</th>\n",
       "    </tr>\n",
       "  </thead>\n",
       "  <tbody>\n",
       "    <tr>\n",
       "      <td>54</td>\n",
       "      <td>1165</td>\n",
       "      <td>Marion County</td>\n",
       "      <td>IN</td>\n",
       "      <td>Indianapolis-Carmel-Anderson</td>\n",
       "      <td>18</td>\n",
       "      <td>97</td>\n",
       "      <td>55</td>\n",
       "      <td>NaN</td>\n",
       "      <td>NaN</td>\n",
       "      <td>NaN</td>\n",
       "      <td>...</td>\n",
       "      <td>143487</td>\n",
       "      <td>143814</td>\n",
       "      <td>144147</td>\n",
       "      <td>144491</td>\n",
       "      <td>145655</td>\n",
       "      <td>146936</td>\n",
       "      <td>148115</td>\n",
       "      <td>148663</td>\n",
       "      <td>149503</td>\n",
       "      <td>151010</td>\n",
       "    </tr>\n",
       "    <tr>\n",
       "      <td>130</td>\n",
       "      <td>221</td>\n",
       "      <td>Lake County</td>\n",
       "      <td>IN</td>\n",
       "      <td>Chicago-Naperville-Elgin</td>\n",
       "      <td>18</td>\n",
       "      <td>89</td>\n",
       "      <td>131</td>\n",
       "      <td>NaN</td>\n",
       "      <td>NaN</td>\n",
       "      <td>NaN</td>\n",
       "      <td>...</td>\n",
       "      <td>153958</td>\n",
       "      <td>154751</td>\n",
       "      <td>155672</td>\n",
       "      <td>156600</td>\n",
       "      <td>157517</td>\n",
       "      <td>158590</td>\n",
       "      <td>159567</td>\n",
       "      <td>160530</td>\n",
       "      <td>161321</td>\n",
       "      <td>162255</td>\n",
       "    </tr>\n",
       "    <tr>\n",
       "      <td>181</td>\n",
       "      <td>367</td>\n",
       "      <td>Allen County</td>\n",
       "      <td>IN</td>\n",
       "      <td>Fort Wayne</td>\n",
       "      <td>18</td>\n",
       "      <td>3</td>\n",
       "      <td>182</td>\n",
       "      <td>NaN</td>\n",
       "      <td>NaN</td>\n",
       "      <td>NaN</td>\n",
       "      <td>...</td>\n",
       "      <td>143118</td>\n",
       "      <td>143855</td>\n",
       "      <td>144470</td>\n",
       "      <td>145234</td>\n",
       "      <td>146110</td>\n",
       "      <td>147064</td>\n",
       "      <td>147891</td>\n",
       "      <td>148720</td>\n",
       "      <td>149677</td>\n",
       "      <td>150845</td>\n",
       "    </tr>\n",
       "    <tr>\n",
       "      <td>234</td>\n",
       "      <td>2318</td>\n",
       "      <td>Hamilton County</td>\n",
       "      <td>IN</td>\n",
       "      <td>Indianapolis-Carmel-Anderson</td>\n",
       "      <td>18</td>\n",
       "      <td>57</td>\n",
       "      <td>235</td>\n",
       "      <td>NaN</td>\n",
       "      <td>NaN</td>\n",
       "      <td>NaN</td>\n",
       "      <td>...</td>\n",
       "      <td>285382</td>\n",
       "      <td>285833</td>\n",
       "      <td>286661</td>\n",
       "      <td>287659</td>\n",
       "      <td>288708</td>\n",
       "      <td>289518</td>\n",
       "      <td>290281</td>\n",
       "      <td>291492</td>\n",
       "      <td>292851</td>\n",
       "      <td>294430</td>\n",
       "    </tr>\n",
       "    <tr>\n",
       "      <td>244</td>\n",
       "      <td>2849</td>\n",
       "      <td>Saint Joseph County</td>\n",
       "      <td>IN</td>\n",
       "      <td>South Bend-Mishawaka</td>\n",
       "      <td>18</td>\n",
       "      <td>141</td>\n",
       "      <td>245</td>\n",
       "      <td>NaN</td>\n",
       "      <td>NaN</td>\n",
       "      <td>NaN</td>\n",
       "      <td>...</td>\n",
       "      <td>129993</td>\n",
       "      <td>130867</td>\n",
       "      <td>131349</td>\n",
       "      <td>131888</td>\n",
       "      <td>132293</td>\n",
       "      <td>132972</td>\n",
       "      <td>133437</td>\n",
       "      <td>133882</td>\n",
       "      <td>133814</td>\n",
       "      <td>134133</td>\n",
       "    </tr>\n",
       "  </tbody>\n",
       "</table>\n",
       "<p>5 rows × 294 columns</p>\n",
       "</div>"
      ],
      "text/plain": [
       "     RegionID           RegionName State                         Metro  \\\n",
       "54       1165        Marion County    IN  Indianapolis-Carmel-Anderson   \n",
       "130       221          Lake County    IN      Chicago-Naperville-Elgin   \n",
       "181       367         Allen County    IN                    Fort Wayne   \n",
       "234      2318      Hamilton County    IN  Indianapolis-Carmel-Anderson   \n",
       "244      2849  Saint Joseph County    IN          South Bend-Mishawaka   \n",
       "\n",
       "     StateCodeFIPS  MunicipalCodeFIPS  SizeRank  1996-04  1996-05  1996-06  \\\n",
       "54              18                 97        55      NaN      NaN      NaN   \n",
       "130             18                 89       131      NaN      NaN      NaN   \n",
       "181             18                  3       182      NaN      NaN      NaN   \n",
       "234             18                 57       235      NaN      NaN      NaN   \n",
       "244             18                141       245      NaN      NaN      NaN   \n",
       "\n",
       "     ...  2019-05  2019-06  2019-07  2019-08  2019-09  2019-10  2019-11  \\\n",
       "54   ...   143487   143814   144147   144491   145655   146936   148115   \n",
       "130  ...   153958   154751   155672   156600   157517   158590   159567   \n",
       "181  ...   143118   143855   144470   145234   146110   147064   147891   \n",
       "234  ...   285382   285833   286661   287659   288708   289518   290281   \n",
       "244  ...   129993   130867   131349   131888   132293   132972   133437   \n",
       "\n",
       "     2019-12  2020-01  2020-02  \n",
       "54    148663   149503   151010  \n",
       "130   160530   161321   162255  \n",
       "181   148720   149677   150845  \n",
       "234   291492   292851   294430  \n",
       "244   133882   133814   134133  \n",
       "\n",
       "[5 rows x 294 columns]"
      ]
     },
     "execution_count": 4,
     "metadata": {},
     "output_type": "execute_result"
    }
   ],
   "source": [
    "df_county.head()"
   ]
  },
  {
   "cell_type": "code",
   "execution_count": 5,
   "metadata": {
    "ExecuteTime": {
     "end_time": "2020-04-08T13:29:42.980407Z",
     "start_time": "2020-04-08T13:29:42.966474Z"
    }
   },
   "outputs": [
    {
     "data": {
      "text/html": [
       "<div>\n",
       "<style scoped>\n",
       "    .dataframe tbody tr th:only-of-type {\n",
       "        vertical-align: middle;\n",
       "    }\n",
       "\n",
       "    .dataframe tbody tr th {\n",
       "        vertical-align: top;\n",
       "    }\n",
       "\n",
       "    .dataframe thead th {\n",
       "        text-align: right;\n",
       "    }\n",
       "</style>\n",
       "<table border=\"1\" class=\"dataframe\">\n",
       "  <thead>\n",
       "    <tr style=\"text-align: right;\">\n",
       "      <th></th>\n",
       "      <th>RegionID</th>\n",
       "      <th>RegionName</th>\n",
       "      <th>City</th>\n",
       "      <th>State</th>\n",
       "      <th>Metro</th>\n",
       "      <th>CountyName</th>\n",
       "      <th>SizeRank</th>\n",
       "      <th>1996-04</th>\n",
       "      <th>1996-05</th>\n",
       "      <th>1996-06</th>\n",
       "      <th>...</th>\n",
       "      <th>2019-05</th>\n",
       "      <th>2019-06</th>\n",
       "      <th>2019-07</th>\n",
       "      <th>2019-08</th>\n",
       "      <th>2019-09</th>\n",
       "      <th>2019-10</th>\n",
       "      <th>2019-11</th>\n",
       "      <th>2019-12</th>\n",
       "      <th>2020-01</th>\n",
       "      <th>2020-02</th>\n",
       "    </tr>\n",
       "  </thead>\n",
       "  <tbody>\n",
       "    <tr>\n",
       "      <td>173</td>\n",
       "      <td>78823</td>\n",
       "      <td>47906</td>\n",
       "      <td>West Lafayette</td>\n",
       "      <td>IN</td>\n",
       "      <td>Lafayette-West Lafayette</td>\n",
       "      <td>Tippecanoe County</td>\n",
       "      <td>174</td>\n",
       "      <td>NaN</td>\n",
       "      <td>NaN</td>\n",
       "      <td>NaN</td>\n",
       "      <td>...</td>\n",
       "      <td>223048</td>\n",
       "      <td>224264</td>\n",
       "      <td>224772</td>\n",
       "      <td>225786</td>\n",
       "      <td>227316</td>\n",
       "      <td>229164</td>\n",
       "      <td>230635</td>\n",
       "      <td>231927</td>\n",
       "      <td>233334</td>\n",
       "      <td>235047</td>\n",
       "    </tr>\n",
       "    <tr>\n",
       "      <td>185</td>\n",
       "      <td>78085</td>\n",
       "      <td>46307</td>\n",
       "      <td>Crown Point</td>\n",
       "      <td>IN</td>\n",
       "      <td>Chicago-Naperville-Elgin</td>\n",
       "      <td>Lake County</td>\n",
       "      <td>186</td>\n",
       "      <td>NaN</td>\n",
       "      <td>NaN</td>\n",
       "      <td>NaN</td>\n",
       "      <td>...</td>\n",
       "      <td>234992</td>\n",
       "      <td>235984</td>\n",
       "      <td>237332</td>\n",
       "      <td>238586</td>\n",
       "      <td>239685</td>\n",
       "      <td>240750</td>\n",
       "      <td>241646</td>\n",
       "      <td>242665</td>\n",
       "      <td>243528</td>\n",
       "      <td>244670</td>\n",
       "    </tr>\n",
       "    <tr>\n",
       "      <td>242</td>\n",
       "      <td>78042</td>\n",
       "      <td>46227</td>\n",
       "      <td>Indianapolis</td>\n",
       "      <td>IN</td>\n",
       "      <td>Indianapolis-Carmel-Anderson</td>\n",
       "      <td>Marion County</td>\n",
       "      <td>243</td>\n",
       "      <td>NaN</td>\n",
       "      <td>NaN</td>\n",
       "      <td>NaN</td>\n",
       "      <td>...</td>\n",
       "      <td>149714</td>\n",
       "      <td>150001</td>\n",
       "      <td>150358</td>\n",
       "      <td>150708</td>\n",
       "      <td>152158</td>\n",
       "      <td>153644</td>\n",
       "      <td>154971</td>\n",
       "      <td>155486</td>\n",
       "      <td>156278</td>\n",
       "      <td>157842</td>\n",
       "    </tr>\n",
       "    <tr>\n",
       "      <td>394</td>\n",
       "      <td>77986</td>\n",
       "      <td>46143</td>\n",
       "      <td>Greenwood</td>\n",
       "      <td>IN</td>\n",
       "      <td>Indianapolis-Carmel-Anderson</td>\n",
       "      <td>Johnson County</td>\n",
       "      <td>395</td>\n",
       "      <td>NaN</td>\n",
       "      <td>NaN</td>\n",
       "      <td>NaN</td>\n",
       "      <td>...</td>\n",
       "      <td>204271</td>\n",
       "      <td>204623</td>\n",
       "      <td>205365</td>\n",
       "      <td>206028</td>\n",
       "      <td>207361</td>\n",
       "      <td>208763</td>\n",
       "      <td>209879</td>\n",
       "      <td>210516</td>\n",
       "      <td>211173</td>\n",
       "      <td>212490</td>\n",
       "    </tr>\n",
       "    <tr>\n",
       "      <td>561</td>\n",
       "      <td>78467</td>\n",
       "      <td>47150</td>\n",
       "      <td>New Albany</td>\n",
       "      <td>IN</td>\n",
       "      <td>Louisville/Jefferson County</td>\n",
       "      <td>Floyd County</td>\n",
       "      <td>562</td>\n",
       "      <td>NaN</td>\n",
       "      <td>NaN</td>\n",
       "      <td>NaN</td>\n",
       "      <td>...</td>\n",
       "      <td>147593</td>\n",
       "      <td>148714</td>\n",
       "      <td>149583</td>\n",
       "      <td>150842</td>\n",
       "      <td>151959</td>\n",
       "      <td>152694</td>\n",
       "      <td>153069</td>\n",
       "      <td>153481</td>\n",
       "      <td>153783</td>\n",
       "      <td>154140</td>\n",
       "    </tr>\n",
       "  </tbody>\n",
       "</table>\n",
       "<p>5 rows × 294 columns</p>\n",
       "</div>"
      ],
      "text/plain": [
       "     RegionID  RegionName            City State                         Metro  \\\n",
       "173     78823       47906  West Lafayette    IN      Lafayette-West Lafayette   \n",
       "185     78085       46307     Crown Point    IN      Chicago-Naperville-Elgin   \n",
       "242     78042       46227    Indianapolis    IN  Indianapolis-Carmel-Anderson   \n",
       "394     77986       46143       Greenwood    IN  Indianapolis-Carmel-Anderson   \n",
       "561     78467       47150      New Albany    IN   Louisville/Jefferson County   \n",
       "\n",
       "            CountyName  SizeRank  1996-04  1996-05  1996-06  ...  2019-05  \\\n",
       "173  Tippecanoe County       174      NaN      NaN      NaN  ...   223048   \n",
       "185        Lake County       186      NaN      NaN      NaN  ...   234992   \n",
       "242      Marion County       243      NaN      NaN      NaN  ...   149714   \n",
       "394     Johnson County       395      NaN      NaN      NaN  ...   204271   \n",
       "561       Floyd County       562      NaN      NaN      NaN  ...   147593   \n",
       "\n",
       "     2019-06  2019-07  2019-08  2019-09  2019-10  2019-11  2019-12  2020-01  \\\n",
       "173   224264   224772   225786   227316   229164   230635   231927   233334   \n",
       "185   235984   237332   238586   239685   240750   241646   242665   243528   \n",
       "242   150001   150358   150708   152158   153644   154971   155486   156278   \n",
       "394   204623   205365   206028   207361   208763   209879   210516   211173   \n",
       "561   148714   149583   150842   151959   152694   153069   153481   153783   \n",
       "\n",
       "     2020-02  \n",
       "173   235047  \n",
       "185   244670  \n",
       "242   157842  \n",
       "394   212490  \n",
       "561   154140  \n",
       "\n",
       "[5 rows x 294 columns]"
      ]
     },
     "execution_count": 5,
     "metadata": {},
     "output_type": "execute_result"
    }
   ],
   "source": [
    "df_zipcode.head()"
   ]
  },
  {
   "cell_type": "code",
   "execution_count": 23,
   "metadata": {
    "ExecuteTime": {
     "end_time": "2020-04-08T14:10:59.837201Z",
     "start_time": "2020-04-08T14:10:59.819249Z"
    }
   },
   "outputs": [
    {
     "name": "stdout",
     "output_type": "stream",
     "text": [
      "<class 'pandas.core.frame.DataFrame'>\n",
      "Int64Index: 806 entries, 173 to 30449\n",
      "Columns: 294 entries, RegionID to 2020-02\n",
      "dtypes: float64(261), int64(29), object(4)\n",
      "memory usage: 1.9+ MB\n"
     ]
    }
   ],
   "source": [
    "df_zipcode.info()"
   ]
  },
  {
   "cell_type": "code",
   "execution_count": 10,
   "metadata": {
    "ExecuteTime": {
     "end_time": "2020-04-08T13:45:28.808567Z",
     "start_time": "2020-04-08T13:45:28.804608Z"
    }
   },
   "outputs": [],
   "source": [
    "def get_datetimes(df):\n",
    "    border = list(df.columns).index('SizeRank')\n",
    "    return pd.to_datetime(df.columns.values[7:], format='%Y-%m')"
   ]
  },
  {
   "cell_type": "code",
   "execution_count": 11,
   "metadata": {
    "ExecuteTime": {
     "end_time": "2020-04-08T13:45:39.225028Z",
     "start_time": "2020-04-08T13:45:39.221006Z"
    }
   },
   "outputs": [],
   "source": [
    "time = get_datetimes(df_zipcode)"
   ]
  },
  {
   "cell_type": "code",
   "execution_count": 15,
   "metadata": {
    "ExecuteTime": {
     "end_time": "2020-04-08T13:46:57.592952Z",
     "start_time": "2020-04-08T13:46:57.588967Z"
    }
   },
   "outputs": [
    {
     "data": {
      "text/plain": [
       "DatetimeIndex(['2018-01-01', '2018-02-01', '2018-03-01', '2018-04-01',\n",
       "               '2018-05-01', '2018-06-01', '2018-07-01', '2018-08-01',\n",
       "               '2018-09-01', '2018-10-01', '2018-11-01', '2018-12-01',\n",
       "               '2019-01-01', '2019-02-01', '2019-03-01', '2019-04-01',\n",
       "               '2019-05-01', '2019-06-01', '2019-07-01', '2019-08-01',\n",
       "               '2019-09-01', '2019-10-01', '2019-11-01', '2019-12-01',\n",
       "               '2020-01-01', '2020-02-01'],\n",
       "              dtype='datetime64[ns]', freq=None)"
      ]
     },
     "execution_count": 15,
     "metadata": {},
     "output_type": "execute_result"
    }
   ],
   "source": [
    "time[-26:]"
   ]
  },
  {
   "cell_type": "markdown",
   "metadata": {},
   "source": [
    "Let us see the trend from 2018."
   ]
  },
  {
   "cell_type": "code",
   "execution_count": 16,
   "metadata": {
    "ExecuteTime": {
     "end_time": "2020-04-08T13:51:54.860990Z",
     "start_time": "2020-04-08T13:51:54.844031Z"
    }
   },
   "outputs": [],
   "source": [
    "df_zipcode_recent = pd.DataFrame()\n",
    "df_zipcode_recent['RegionName']= df_zipcode.RegionName\n",
    "df_zipcode_recent['CountyName']= df_zipcode.CountyName\n",
    "df_zipcode_recent[time[-26:]] = df_zipcode[df_zipcode.columns[-26:]]"
   ]
  },
  {
   "cell_type": "code",
   "execution_count": 22,
   "metadata": {
    "ExecuteTime": {
     "end_time": "2020-04-08T14:00:09.428508Z",
     "start_time": "2020-04-08T14:00:09.420485Z"
    }
   },
   "outputs": [
    {
     "data": {
      "text/html": [
       "<div>\n",
       "<style scoped>\n",
       "    .dataframe tbody tr th:only-of-type {\n",
       "        vertical-align: middle;\n",
       "    }\n",
       "\n",
       "    .dataframe tbody tr th {\n",
       "        vertical-align: top;\n",
       "    }\n",
       "\n",
       "    .dataframe thead th {\n",
       "        text-align: right;\n",
       "    }\n",
       "</style>\n",
       "<table border=\"1\" class=\"dataframe\">\n",
       "  <thead>\n",
       "    <tr style=\"text-align: right;\">\n",
       "      <th></th>\n",
       "      <th>RegionName</th>\n",
       "      <th>CountyName</th>\n",
       "    </tr>\n",
       "  </thead>\n",
       "  <tbody>\n",
       "    <tr>\n",
       "      <td>173</td>\n",
       "      <td>47906</td>\n",
       "      <td>Tippecanoe County</td>\n",
       "    </tr>\n",
       "    <tr>\n",
       "      <td>185</td>\n",
       "      <td>46307</td>\n",
       "      <td>Lake County</td>\n",
       "    </tr>\n",
       "    <tr>\n",
       "      <td>242</td>\n",
       "      <td>46227</td>\n",
       "      <td>Marion County</td>\n",
       "    </tr>\n",
       "    <tr>\n",
       "      <td>394</td>\n",
       "      <td>46143</td>\n",
       "      <td>Johnson County</td>\n",
       "    </tr>\n",
       "    <tr>\n",
       "      <td>561</td>\n",
       "      <td>47150</td>\n",
       "      <td>Floyd County</td>\n",
       "    </tr>\n",
       "    <tr>\n",
       "      <td>...</td>\n",
       "      <td>...</td>\n",
       "      <td>...</td>\n",
       "    </tr>\n",
       "    <tr>\n",
       "      <td>30397</td>\n",
       "      <td>47683</td>\n",
       "      <td>Gibson County</td>\n",
       "    </tr>\n",
       "    <tr>\n",
       "      <td>30440</td>\n",
       "      <td>47556</td>\n",
       "      <td>Dubois County</td>\n",
       "    </tr>\n",
       "    <tr>\n",
       "      <td>30443</td>\n",
       "      <td>47986</td>\n",
       "      <td>Benton County</td>\n",
       "    </tr>\n",
       "    <tr>\n",
       "      <td>30448</td>\n",
       "      <td>46942</td>\n",
       "      <td>Cass County</td>\n",
       "    </tr>\n",
       "    <tr>\n",
       "      <td>30449</td>\n",
       "      <td>47107</td>\n",
       "      <td>Floyd County</td>\n",
       "    </tr>\n",
       "  </tbody>\n",
       "</table>\n",
       "<p>806 rows × 2 columns</p>\n",
       "</div>"
      ],
      "text/plain": [
       "       RegionName         CountyName\n",
       "173         47906  Tippecanoe County\n",
       "185         46307        Lake County\n",
       "242         46227      Marion County\n",
       "394         46143     Johnson County\n",
       "561         47150       Floyd County\n",
       "...           ...                ...\n",
       "30397       47683      Gibson County\n",
       "30440       47556      Dubois County\n",
       "30443       47986      Benton County\n",
       "30448       46942        Cass County\n",
       "30449       47107       Floyd County\n",
       "\n",
       "[806 rows x 2 columns]"
      ]
     },
     "execution_count": 22,
     "metadata": {},
     "output_type": "execute_result"
    }
   ],
   "source": [
    "zipcode_county = df_zipcode_recent[df_zipcode_recent.columns[:2]]\n",
    "zipcode_county"
   ]
  },
  {
   "cell_type": "code",
   "execution_count": 29,
   "metadata": {
    "ExecuteTime": {
     "end_time": "2020-04-08T14:23:39.632596Z",
     "start_time": "2020-04-08T14:23:39.627573Z"
    }
   },
   "outputs": [],
   "source": [
    "df_zipcode_price2018 = df_zipcode_recent[df_zipcode_recent.columns[2:]].T\n",
    "df_zipcode_price2018.head()\n",
    "df_zipcode_price2018.columns = zipcode_county.RegionName"
   ]
  },
  {
   "cell_type": "code",
   "execution_count": 30,
   "metadata": {
    "ExecuteTime": {
     "end_time": "2020-04-08T14:23:49.026968Z",
     "start_time": "2020-04-08T14:23:49.011010Z"
    }
   },
   "outputs": [
    {
     "data": {
      "text/html": [
       "<div>\n",
       "<style scoped>\n",
       "    .dataframe tbody tr th:only-of-type {\n",
       "        vertical-align: middle;\n",
       "    }\n",
       "\n",
       "    .dataframe tbody tr th {\n",
       "        vertical-align: top;\n",
       "    }\n",
       "\n",
       "    .dataframe thead th {\n",
       "        text-align: right;\n",
       "    }\n",
       "</style>\n",
       "<table border=\"1\" class=\"dataframe\">\n",
       "  <thead>\n",
       "    <tr style=\"text-align: right;\">\n",
       "      <th>RegionName</th>\n",
       "      <th>47906</th>\n",
       "      <th>46307</th>\n",
       "      <th>46227</th>\n",
       "      <th>46143</th>\n",
       "      <th>47150</th>\n",
       "      <th>47130</th>\n",
       "      <th>46032</th>\n",
       "      <th>47401</th>\n",
       "      <th>46360</th>\n",
       "      <th>47374</th>\n",
       "      <th>...</th>\n",
       "      <th>47457</th>\n",
       "      <th>46921</th>\n",
       "      <th>46170</th>\n",
       "      <th>46047</th>\n",
       "      <th>46912</th>\n",
       "      <th>47683</th>\n",
       "      <th>47556</th>\n",
       "      <th>47986</th>\n",
       "      <th>46942</th>\n",
       "      <th>47107</th>\n",
       "    </tr>\n",
       "  </thead>\n",
       "  <tbody>\n",
       "    <tr>\n",
       "      <td>2018-01-01 00:00:00</td>\n",
       "      <td>212172</td>\n",
       "      <td>217546</td>\n",
       "      <td>134629</td>\n",
       "      <td>189424</td>\n",
       "      <td>135475</td>\n",
       "      <td>134648</td>\n",
       "      <td>325769</td>\n",
       "      <td>245728</td>\n",
       "      <td>118066</td>\n",
       "      <td>90187</td>\n",
       "      <td>...</td>\n",
       "      <td>60529</td>\n",
       "      <td>56115</td>\n",
       "      <td>83604</td>\n",
       "      <td>71805</td>\n",
       "      <td>68600</td>\n",
       "      <td>40974</td>\n",
       "      <td>134892</td>\n",
       "      <td>55785</td>\n",
       "      <td>68026</td>\n",
       "      <td>69853</td>\n",
       "    </tr>\n",
       "    <tr>\n",
       "      <td>2018-02-01 00:00:00</td>\n",
       "      <td>213674</td>\n",
       "      <td>218473</td>\n",
       "      <td>135088</td>\n",
       "      <td>189677</td>\n",
       "      <td>136586</td>\n",
       "      <td>136867</td>\n",
       "      <td>327904</td>\n",
       "      <td>247111</td>\n",
       "      <td>118762</td>\n",
       "      <td>90201</td>\n",
       "      <td>...</td>\n",
       "      <td>61801</td>\n",
       "      <td>55423</td>\n",
       "      <td>84133</td>\n",
       "      <td>70489</td>\n",
       "      <td>69662</td>\n",
       "      <td>40795</td>\n",
       "      <td>136144</td>\n",
       "      <td>56145</td>\n",
       "      <td>67780</td>\n",
       "      <td>68686</td>\n",
       "    </tr>\n",
       "    <tr>\n",
       "      <td>2018-03-01 00:00:00</td>\n",
       "      <td>214966</td>\n",
       "      <td>219374</td>\n",
       "      <td>136299</td>\n",
       "      <td>190297</td>\n",
       "      <td>137566</td>\n",
       "      <td>139136</td>\n",
       "      <td>329751</td>\n",
       "      <td>248162</td>\n",
       "      <td>119211</td>\n",
       "      <td>90121</td>\n",
       "      <td>...</td>\n",
       "      <td>63078</td>\n",
       "      <td>55272</td>\n",
       "      <td>84809</td>\n",
       "      <td>69911</td>\n",
       "      <td>71043</td>\n",
       "      <td>40324</td>\n",
       "      <td>136670</td>\n",
       "      <td>56462</td>\n",
       "      <td>67695</td>\n",
       "      <td>67590</td>\n",
       "    </tr>\n",
       "    <tr>\n",
       "      <td>2018-04-01 00:00:00</td>\n",
       "      <td>215693</td>\n",
       "      <td>220697</td>\n",
       "      <td>138015</td>\n",
       "      <td>191324</td>\n",
       "      <td>137936</td>\n",
       "      <td>140333</td>\n",
       "      <td>331775</td>\n",
       "      <td>249268</td>\n",
       "      <td>119985</td>\n",
       "      <td>90049</td>\n",
       "      <td>...</td>\n",
       "      <td>63787</td>\n",
       "      <td>55178</td>\n",
       "      <td>85711</td>\n",
       "      <td>70098</td>\n",
       "      <td>72335</td>\n",
       "      <td>40224</td>\n",
       "      <td>136798</td>\n",
       "      <td>57246</td>\n",
       "      <td>67924</td>\n",
       "      <td>67351</td>\n",
       "    </tr>\n",
       "    <tr>\n",
       "      <td>2018-05-01 00:00:00</td>\n",
       "      <td>215968</td>\n",
       "      <td>222033</td>\n",
       "      <td>139239</td>\n",
       "      <td>192728</td>\n",
       "      <td>138156</td>\n",
       "      <td>141230</td>\n",
       "      <td>332551</td>\n",
       "      <td>250401</td>\n",
       "      <td>120510</td>\n",
       "      <td>90203</td>\n",
       "      <td>...</td>\n",
       "      <td>63865</td>\n",
       "      <td>55678</td>\n",
       "      <td>86330</td>\n",
       "      <td>70177</td>\n",
       "      <td>73359</td>\n",
       "      <td>40391</td>\n",
       "      <td>137089</td>\n",
       "      <td>57276</td>\n",
       "      <td>68670</td>\n",
       "      <td>67533</td>\n",
       "    </tr>\n",
       "  </tbody>\n",
       "</table>\n",
       "<p>5 rows × 806 columns</p>\n",
       "</div>"
      ],
      "text/plain": [
       "RegionName            47906   46307   46227   46143   47150   47130   46032  \\\n",
       "2018-01-01 00:00:00  212172  217546  134629  189424  135475  134648  325769   \n",
       "2018-02-01 00:00:00  213674  218473  135088  189677  136586  136867  327904   \n",
       "2018-03-01 00:00:00  214966  219374  136299  190297  137566  139136  329751   \n",
       "2018-04-01 00:00:00  215693  220697  138015  191324  137936  140333  331775   \n",
       "2018-05-01 00:00:00  215968  222033  139239  192728  138156  141230  332551   \n",
       "\n",
       "RegionName            47401   46360  47374  ...  47457  46921  46170  46047  \\\n",
       "2018-01-01 00:00:00  245728  118066  90187  ...  60529  56115  83604  71805   \n",
       "2018-02-01 00:00:00  247111  118762  90201  ...  61801  55423  84133  70489   \n",
       "2018-03-01 00:00:00  248162  119211  90121  ...  63078  55272  84809  69911   \n",
       "2018-04-01 00:00:00  249268  119985  90049  ...  63787  55178  85711  70098   \n",
       "2018-05-01 00:00:00  250401  120510  90203  ...  63865  55678  86330  70177   \n",
       "\n",
       "RegionName           46912  47683   47556  47986  46942  47107  \n",
       "2018-01-01 00:00:00  68600  40974  134892  55785  68026  69853  \n",
       "2018-02-01 00:00:00  69662  40795  136144  56145  67780  68686  \n",
       "2018-03-01 00:00:00  71043  40324  136670  56462  67695  67590  \n",
       "2018-04-01 00:00:00  72335  40224  136798  57246  67924  67351  \n",
       "2018-05-01 00:00:00  73359  40391  137089  57276  68670  67533  \n",
       "\n",
       "[5 rows x 806 columns]"
      ]
     },
     "execution_count": 30,
     "metadata": {},
     "output_type": "execute_result"
    }
   ],
   "source": [
    "df_zipcode_price2018.head()"
   ]
  },
  {
   "cell_type": "code",
   "execution_count": 25,
   "metadata": {
    "ExecuteTime": {
     "end_time": "2020-04-08T14:19:29.805614Z",
     "start_time": "2020-04-08T14:19:29.797666Z"
    }
   },
   "outputs": [
    {
     "data": {
      "text/html": [
       "<div>\n",
       "<style scoped>\n",
       "    .dataframe tbody tr th:only-of-type {\n",
       "        vertical-align: middle;\n",
       "    }\n",
       "\n",
       "    .dataframe tbody tr th {\n",
       "        vertical-align: top;\n",
       "    }\n",
       "\n",
       "    .dataframe thead th {\n",
       "        text-align: right;\n",
       "    }\n",
       "</style>\n",
       "<table border=\"1\" class=\"dataframe\">\n",
       "  <thead>\n",
       "    <tr style=\"text-align: right;\">\n",
       "      <th></th>\n",
       "      <th>RegionName</th>\n",
       "      <th>CountyName</th>\n",
       "    </tr>\n",
       "  </thead>\n",
       "  <tbody>\n",
       "    <tr>\n",
       "      <td>173</td>\n",
       "      <td>47906</td>\n",
       "      <td>Tippecanoe County</td>\n",
       "    </tr>\n",
       "  </tbody>\n",
       "</table>\n",
       "</div>"
      ],
      "text/plain": [
       "     RegionName         CountyName\n",
       "173       47906  Tippecanoe County"
      ]
     },
     "execution_count": 25,
     "metadata": {},
     "output_type": "execute_result"
    }
   ],
   "source": [
    "zipcode_county.query('RegionName == 47906')"
   ]
  },
  {
   "cell_type": "code",
   "execution_count": 43,
   "metadata": {
    "ExecuteTime": {
     "end_time": "2020-04-08T14:33:48.553362Z",
     "start_time": "2020-04-08T14:33:48.547377Z"
    }
   },
   "outputs": [
    {
     "data": {
      "text/plain": [
       "'Tippecanoe County'"
      ]
     },
     "execution_count": 43,
     "metadata": {},
     "output_type": "execute_result"
    }
   ],
   "source": [
    "pd.Series(zipcode_county.query('RegionName == 47906').CountyName).iloc[0]# +', '+ str(47906)"
   ]
  },
  {
   "cell_type": "code",
   "execution_count": 45,
   "metadata": {
    "ExecuteTime": {
     "end_time": "2020-04-08T14:35:03.410696Z",
     "start_time": "2020-04-08T14:35:03.258071Z"
    }
   },
   "outputs": [
    {
     "data": {
      "text/plain": [
       "Text(0.5, 1.0, 'Tippecanoe County, 47906, housing price trend')"
      ]
     },
     "execution_count": 45,
     "metadata": {},
     "output_type": "execute_result"
    },
    {
     "data": {
      "image/png": "[encoded data removed]",
      "text/plain": [
       "<Figure size 432x288 with 1 Axes>"
      ]
     },
     "metadata": {
      "needs_background": "light"
     },
     "output_type": "display_data"
    }
   ],
   "source": [
    "df_zipcode_price2018[47906].plot()\n",
    "county = pd.Series(zipcode_county.query('RegionName == 47906').CountyName).iloc[0]\n",
    "\n",
    "plt.title(county +', '+ str(47906) + ', housing price trend')"
   ]
  },
  {
   "cell_type": "code",
   "execution_count": null,
   "metadata": {},
   "outputs": [],
   "source": []
  }
 ],
 "metadata": {
  "kernelspec": {
   "display_name": "Python 3",
   "language": "python",
   "name": "python3"
  },
  "language_info": {
   "codemirror_mode": {
    "name": "ipython",
    "version": 3
   },
   "file_extension": ".py",
   "mimetype": "text/x-python",
   "name": "python",
   "nbconvert_exporter": "python",
   "pygments_lexer": "ipython3",
   "version": "3.7.4"
  },
  "toc": {
   "base_numbering": 1,
   "nav_menu": {},
   "number_sections": true,
   "sideBar": true,
   "skip_h1_title": false,
   "title_cell": "Table of Contents",
   "title_sidebar": "Contents",
   "toc_cell": false,
   "toc_position": {},
   "toc_section_display": true,
   "toc_window_display": false
  }
 },
 "nbformat": 4,
 "nbformat_minor": 2
}
