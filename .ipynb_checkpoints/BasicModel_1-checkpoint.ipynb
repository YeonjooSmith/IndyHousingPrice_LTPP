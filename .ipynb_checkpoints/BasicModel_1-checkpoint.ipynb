{
 "cells": [
  {
   "cell_type": "code",
   "execution_count": 2,
   "metadata": {
    "ExecuteTime": {
     "end_time": "2020-05-04T00:18:23.694939Z",
     "start_time": "2020-05-04T00:18:23.689973Z"
    }
   },
   "outputs": [],
   "source": [
    "import pandas as pd\n",
    "import matplotlib.pyplot as plt\n",
    "%matplotlib inline"
   ]
  },
  {
   "cell_type": "code",
   "execution_count": 250,
   "metadata": {
    "ExecuteTime": {
     "end_time": "2020-05-05T18:11:50.118896Z",
     "start_time": "2020-05-05T18:11:50.115894Z"
    }
   },
   "outputs": [],
   "source": [
    "#Going to pickle processed data for later\n",
    "ProcessedData ={}"
   ]
  },
  {
   "cell_type": "markdown",
   "metadata": {},
   "source": [
    "## Housing values from Zillows"
   ]
  },
  {
   "cell_type": "code",
   "execution_count": 237,
   "metadata": {
    "ExecuteTime": {
     "end_time": "2020-05-05T18:03:24.269680Z",
     "start_time": "2020-05-05T18:03:24.108394Z"
    }
   },
   "outputs": [
    {
     "data": {
      "text/html": [
       "<div>\n",
       "<style scoped>\n",
       "    .dataframe tbody tr th:only-of-type {\n",
       "        vertical-align: middle;\n",
       "    }\n",
       "\n",
       "    .dataframe tbody tr th {\n",
       "        vertical-align: top;\n",
       "    }\n",
       "\n",
       "    .dataframe thead th {\n",
       "        text-align: right;\n",
       "    }\n",
       "</style>\n",
       "<table border=\"1\" class=\"dataframe\">\n",
       "  <thead>\n",
       "    <tr style=\"text-align: right;\">\n",
       "      <th></th>\n",
       "      <th>RegionID</th>\n",
       "      <th>RegionName</th>\n",
       "      <th>State</th>\n",
       "      <th>Metro</th>\n",
       "      <th>StateCodeFIPS</th>\n",
       "      <th>MunicipalCodeFIPS</th>\n",
       "      <th>SizeRank</th>\n",
       "      <th>1996-04</th>\n",
       "      <th>1996-05</th>\n",
       "      <th>1996-06</th>\n",
       "      <th>...</th>\n",
       "      <th>2019-05</th>\n",
       "      <th>2019-06</th>\n",
       "      <th>2019-07</th>\n",
       "      <th>2019-08</th>\n",
       "      <th>2019-09</th>\n",
       "      <th>2019-10</th>\n",
       "      <th>2019-11</th>\n",
       "      <th>2019-12</th>\n",
       "      <th>2020-01</th>\n",
       "      <th>2020-02</th>\n",
       "    </tr>\n",
       "  </thead>\n",
       "  <tbody>\n",
       "    <tr>\n",
       "      <td>54</td>\n",
       "      <td>1165</td>\n",
       "      <td>Marion County</td>\n",
       "      <td>IN</td>\n",
       "      <td>Indianapolis-Carmel-Anderson</td>\n",
       "      <td>18</td>\n",
       "      <td>97</td>\n",
       "      <td>55</td>\n",
       "      <td>NaN</td>\n",
       "      <td>NaN</td>\n",
       "      <td>NaN</td>\n",
       "      <td>...</td>\n",
       "      <td>143487</td>\n",
       "      <td>143814</td>\n",
       "      <td>144147</td>\n",
       "      <td>144491</td>\n",
       "      <td>145655</td>\n",
       "      <td>146936</td>\n",
       "      <td>148115</td>\n",
       "      <td>148663</td>\n",
       "      <td>149503</td>\n",
       "      <td>151010</td>\n",
       "    </tr>\n",
       "    <tr>\n",
       "      <td>130</td>\n",
       "      <td>221</td>\n",
       "      <td>Lake County</td>\n",
       "      <td>IN</td>\n",
       "      <td>Chicago-Naperville-Elgin</td>\n",
       "      <td>18</td>\n",
       "      <td>89</td>\n",
       "      <td>131</td>\n",
       "      <td>NaN</td>\n",
       "      <td>NaN</td>\n",
       "      <td>NaN</td>\n",
       "      <td>...</td>\n",
       "      <td>153958</td>\n",
       "      <td>154751</td>\n",
       "      <td>155672</td>\n",
       "      <td>156600</td>\n",
       "      <td>157517</td>\n",
       "      <td>158590</td>\n",
       "      <td>159567</td>\n",
       "      <td>160530</td>\n",
       "      <td>161321</td>\n",
       "      <td>162255</td>\n",
       "    </tr>\n",
       "    <tr>\n",
       "      <td>181</td>\n",
       "      <td>367</td>\n",
       "      <td>Allen County</td>\n",
       "      <td>IN</td>\n",
       "      <td>Fort Wayne</td>\n",
       "      <td>18</td>\n",
       "      <td>3</td>\n",
       "      <td>182</td>\n",
       "      <td>NaN</td>\n",
       "      <td>NaN</td>\n",
       "      <td>NaN</td>\n",
       "      <td>...</td>\n",
       "      <td>143118</td>\n",
       "      <td>143855</td>\n",
       "      <td>144470</td>\n",
       "      <td>145234</td>\n",
       "      <td>146110</td>\n",
       "      <td>147064</td>\n",
       "      <td>147891</td>\n",
       "      <td>148720</td>\n",
       "      <td>149677</td>\n",
       "      <td>150845</td>\n",
       "    </tr>\n",
       "    <tr>\n",
       "      <td>234</td>\n",
       "      <td>2318</td>\n",
       "      <td>Hamilton County</td>\n",
       "      <td>IN</td>\n",
       "      <td>Indianapolis-Carmel-Anderson</td>\n",
       "      <td>18</td>\n",
       "      <td>57</td>\n",
       "      <td>235</td>\n",
       "      <td>NaN</td>\n",
       "      <td>NaN</td>\n",
       "      <td>NaN</td>\n",
       "      <td>...</td>\n",
       "      <td>285382</td>\n",
       "      <td>285833</td>\n",
       "      <td>286661</td>\n",
       "      <td>287659</td>\n",
       "      <td>288708</td>\n",
       "      <td>289518</td>\n",
       "      <td>290281</td>\n",
       "      <td>291492</td>\n",
       "      <td>292851</td>\n",
       "      <td>294430</td>\n",
       "    </tr>\n",
       "    <tr>\n",
       "      <td>244</td>\n",
       "      <td>2849</td>\n",
       "      <td>Saint Joseph County</td>\n",
       "      <td>IN</td>\n",
       "      <td>South Bend-Mishawaka</td>\n",
       "      <td>18</td>\n",
       "      <td>141</td>\n",
       "      <td>245</td>\n",
       "      <td>NaN</td>\n",
       "      <td>NaN</td>\n",
       "      <td>NaN</td>\n",
       "      <td>...</td>\n",
       "      <td>129993</td>\n",
       "      <td>130867</td>\n",
       "      <td>131349</td>\n",
       "      <td>131888</td>\n",
       "      <td>132293</td>\n",
       "      <td>132972</td>\n",
       "      <td>133437</td>\n",
       "      <td>133882</td>\n",
       "      <td>133814</td>\n",
       "      <td>134133</td>\n",
       "    </tr>\n",
       "  </tbody>\n",
       "</table>\n",
       "<p>5 rows × 294 columns</p>\n",
       "</div>"
      ],
      "text/plain": [
       "     RegionID           RegionName State                         Metro  \\\n",
       "54       1165        Marion County    IN  Indianapolis-Carmel-Anderson   \n",
       "130       221          Lake County    IN      Chicago-Naperville-Elgin   \n",
       "181       367         Allen County    IN                    Fort Wayne   \n",
       "234      2318      Hamilton County    IN  Indianapolis-Carmel-Anderson   \n",
       "244      2849  Saint Joseph County    IN          South Bend-Mishawaka   \n",
       "\n",
       "     StateCodeFIPS  MunicipalCodeFIPS  SizeRank  1996-04  1996-05  1996-06  \\\n",
       "54              18                 97        55      NaN      NaN      NaN   \n",
       "130             18                 89       131      NaN      NaN      NaN   \n",
       "181             18                  3       182      NaN      NaN      NaN   \n",
       "234             18                 57       235      NaN      NaN      NaN   \n",
       "244             18                141       245      NaN      NaN      NaN   \n",
       "\n",
       "     ...  2019-05  2019-06  2019-07  2019-08  2019-09  2019-10  2019-11  \\\n",
       "54   ...   143487   143814   144147   144491   145655   146936   148115   \n",
       "130  ...   153958   154751   155672   156600   157517   158590   159567   \n",
       "181  ...   143118   143855   144470   145234   146110   147064   147891   \n",
       "234  ...   285382   285833   286661   287659   288708   289518   290281   \n",
       "244  ...   129993   130867   131349   131888   132293   132972   133437   \n",
       "\n",
       "     2019-12  2020-01  2020-02  \n",
       "54    148663   149503   151010  \n",
       "130   160530   161321   162255  \n",
       "181   148720   149677   150845  \n",
       "234   291492   292851   294430  \n",
       "244   133882   133814   134133  \n",
       "\n",
       "[5 rows x 294 columns]"
      ]
     },
     "execution_count": 237,
     "metadata": {},
     "output_type": "execute_result"
    }
   ],
   "source": [
    "df_county = pd.read_csv('County_Zhvi_AllHomes.csv',encoding='latin-1')\n",
    "df_county = df_county[df_county.State =='IN']\n",
    "df_county.head()"
   ]
  },
  {
   "cell_type": "code",
   "execution_count": 253,
   "metadata": {
    "ExecuteTime": {
     "end_time": "2020-05-05T18:32:25.048285Z",
     "start_time": "2020-05-05T18:32:25.044287Z"
    }
   },
   "outputs": [],
   "source": [
    "def get_datetimes(df, border, form = '%Y-%m' ):\n",
    "    \"\"\"\n",
    "        change the column data type from str to datetime \n",
    "        input: \n",
    "            df = DataFrame with column names with time and others, \n",
    "            border = the name of the column that is the one before the time series begin\n",
    "            form = format for date and time\n",
    "        return: the datetime index\n",
    "    \"\"\"\n",
    "    border = list(df.columns).index(border)+1#find the first time column\n",
    "    return pd.to_datetime(df.columns.values[border:], format= form)"
   ]
  },
  {
   "cell_type": "code",
   "execution_count": 371,
   "metadata": {
    "ExecuteTime": {
     "end_time": "2020-05-05T22:45:42.999806Z",
     "start_time": "2020-05-05T22:45:42.995808Z"
    }
   },
   "outputs": [],
   "source": [
    "time = get_datetimes(df_county,'SizeRank')"
   ]
  },
  {
   "cell_type": "code",
   "execution_count": 372,
   "metadata": {
    "ExecuteTime": {
     "end_time": "2020-05-05T22:45:43.230533Z",
     "start_time": "2020-05-05T22:45:43.226533Z"
    }
   },
   "outputs": [
    {
     "data": {
      "text/plain": [
       "DatetimeIndex(['1996-04-01', '1996-05-01', '1996-06-01', '1996-07-01',\n",
       "               '1996-08-01', '1996-09-01', '1996-10-01', '1996-11-01',\n",
       "               '1996-12-01', '1997-01-01',\n",
       "               ...\n",
       "               '2019-05-01', '2019-06-01', '2019-07-01', '2019-08-01',\n",
       "               '2019-09-01', '2019-10-01', '2019-11-01', '2019-12-01',\n",
       "               '2020-01-01', '2020-02-01'],\n",
       "              dtype='datetime64[ns]', length=287, freq=None)"
      ]
     },
     "execution_count": 372,
     "metadata": {},
     "output_type": "execute_result"
    }
   ],
   "source": [
    "time"
   ]
  },
  {
   "cell_type": "code",
   "execution_count": 387,
   "metadata": {
    "ExecuteTime": {
     "end_time": "2020-05-05T22:48:39.928092Z",
     "start_time": "2020-05-05T22:48:39.810980Z"
    }
   },
   "outputs": [],
   "source": [
    "df_county_available = pd.DataFrame()\n",
    "df_county_available['RegionName']= df_county.RegionName\n",
    "# df_county_available['CountyName']= df_county.CountyName\n",
    "border = list(df_county.columns).index('SizeRank')+1\n",
    "df_county_available[time] = df_county[df_county.columns[border:]]"
   ]
  },
  {
   "cell_type": "code",
   "execution_count": 388,
   "metadata": {
    "ExecuteTime": {
     "end_time": "2020-05-05T22:48:40.331627Z",
     "start_time": "2020-05-05T22:48:40.315622Z"
    }
   },
   "outputs": [
    {
     "data": {
      "text/html": [
       "<div>\n",
       "<style scoped>\n",
       "    .dataframe tbody tr th:only-of-type {\n",
       "        vertical-align: middle;\n",
       "    }\n",
       "\n",
       "    .dataframe tbody tr th {\n",
       "        vertical-align: top;\n",
       "    }\n",
       "\n",
       "    .dataframe thead th {\n",
       "        text-align: right;\n",
       "    }\n",
       "</style>\n",
       "<table border=\"1\" class=\"dataframe\">\n",
       "  <thead>\n",
       "    <tr style=\"text-align: right;\">\n",
       "      <th></th>\n",
       "      <th>RegionName</th>\n",
       "      <th>1996-04-01 00:00:00</th>\n",
       "      <th>1996-05-01 00:00:00</th>\n",
       "      <th>1996-06-01 00:00:00</th>\n",
       "      <th>1996-07-01 00:00:00</th>\n",
       "      <th>1996-08-01 00:00:00</th>\n",
       "      <th>1996-09-01 00:00:00</th>\n",
       "      <th>1996-10-01 00:00:00</th>\n",
       "      <th>1996-11-01 00:00:00</th>\n",
       "      <th>1996-12-01 00:00:00</th>\n",
       "      <th>...</th>\n",
       "      <th>2019-05-01 00:00:00</th>\n",
       "      <th>2019-06-01 00:00:00</th>\n",
       "      <th>2019-07-01 00:00:00</th>\n",
       "      <th>2019-08-01 00:00:00</th>\n",
       "      <th>2019-09-01 00:00:00</th>\n",
       "      <th>2019-10-01 00:00:00</th>\n",
       "      <th>2019-11-01 00:00:00</th>\n",
       "      <th>2019-12-01 00:00:00</th>\n",
       "      <th>2020-01-01 00:00:00</th>\n",
       "      <th>2020-02-01 00:00:00</th>\n",
       "    </tr>\n",
       "  </thead>\n",
       "  <tbody>\n",
       "    <tr>\n",
       "      <td>54</td>\n",
       "      <td>Marion County</td>\n",
       "      <td>NaN</td>\n",
       "      <td>NaN</td>\n",
       "      <td>NaN</td>\n",
       "      <td>NaN</td>\n",
       "      <td>NaN</td>\n",
       "      <td>NaN</td>\n",
       "      <td>NaN</td>\n",
       "      <td>NaN</td>\n",
       "      <td>NaN</td>\n",
       "      <td>...</td>\n",
       "      <td>143487</td>\n",
       "      <td>143814</td>\n",
       "      <td>144147</td>\n",
       "      <td>144491</td>\n",
       "      <td>145655</td>\n",
       "      <td>146936</td>\n",
       "      <td>148115</td>\n",
       "      <td>148663</td>\n",
       "      <td>149503</td>\n",
       "      <td>151010</td>\n",
       "    </tr>\n",
       "    <tr>\n",
       "      <td>130</td>\n",
       "      <td>Lake County</td>\n",
       "      <td>NaN</td>\n",
       "      <td>NaN</td>\n",
       "      <td>NaN</td>\n",
       "      <td>NaN</td>\n",
       "      <td>NaN</td>\n",
       "      <td>NaN</td>\n",
       "      <td>NaN</td>\n",
       "      <td>NaN</td>\n",
       "      <td>NaN</td>\n",
       "      <td>...</td>\n",
       "      <td>153958</td>\n",
       "      <td>154751</td>\n",
       "      <td>155672</td>\n",
       "      <td>156600</td>\n",
       "      <td>157517</td>\n",
       "      <td>158590</td>\n",
       "      <td>159567</td>\n",
       "      <td>160530</td>\n",
       "      <td>161321</td>\n",
       "      <td>162255</td>\n",
       "    </tr>\n",
       "    <tr>\n",
       "      <td>181</td>\n",
       "      <td>Allen County</td>\n",
       "      <td>NaN</td>\n",
       "      <td>NaN</td>\n",
       "      <td>NaN</td>\n",
       "      <td>NaN</td>\n",
       "      <td>NaN</td>\n",
       "      <td>NaN</td>\n",
       "      <td>NaN</td>\n",
       "      <td>NaN</td>\n",
       "      <td>NaN</td>\n",
       "      <td>...</td>\n",
       "      <td>143118</td>\n",
       "      <td>143855</td>\n",
       "      <td>144470</td>\n",
       "      <td>145234</td>\n",
       "      <td>146110</td>\n",
       "      <td>147064</td>\n",
       "      <td>147891</td>\n",
       "      <td>148720</td>\n",
       "      <td>149677</td>\n",
       "      <td>150845</td>\n",
       "    </tr>\n",
       "    <tr>\n",
       "      <td>234</td>\n",
       "      <td>Hamilton County</td>\n",
       "      <td>NaN</td>\n",
       "      <td>NaN</td>\n",
       "      <td>NaN</td>\n",
       "      <td>NaN</td>\n",
       "      <td>NaN</td>\n",
       "      <td>NaN</td>\n",
       "      <td>NaN</td>\n",
       "      <td>NaN</td>\n",
       "      <td>NaN</td>\n",
       "      <td>...</td>\n",
       "      <td>285382</td>\n",
       "      <td>285833</td>\n",
       "      <td>286661</td>\n",
       "      <td>287659</td>\n",
       "      <td>288708</td>\n",
       "      <td>289518</td>\n",
       "      <td>290281</td>\n",
       "      <td>291492</td>\n",
       "      <td>292851</td>\n",
       "      <td>294430</td>\n",
       "    </tr>\n",
       "    <tr>\n",
       "      <td>244</td>\n",
       "      <td>Saint Joseph County</td>\n",
       "      <td>NaN</td>\n",
       "      <td>NaN</td>\n",
       "      <td>NaN</td>\n",
       "      <td>NaN</td>\n",
       "      <td>NaN</td>\n",
       "      <td>NaN</td>\n",
       "      <td>NaN</td>\n",
       "      <td>NaN</td>\n",
       "      <td>NaN</td>\n",
       "      <td>...</td>\n",
       "      <td>129993</td>\n",
       "      <td>130867</td>\n",
       "      <td>131349</td>\n",
       "      <td>131888</td>\n",
       "      <td>132293</td>\n",
       "      <td>132972</td>\n",
       "      <td>133437</td>\n",
       "      <td>133882</td>\n",
       "      <td>133814</td>\n",
       "      <td>134133</td>\n",
       "    </tr>\n",
       "  </tbody>\n",
       "</table>\n",
       "<p>5 rows × 288 columns</p>\n",
       "</div>"
      ],
      "text/plain": [
       "              RegionName  1996-04-01 00:00:00  1996-05-01 00:00:00  \\\n",
       "54         Marion County                  NaN                  NaN   \n",
       "130          Lake County                  NaN                  NaN   \n",
       "181         Allen County                  NaN                  NaN   \n",
       "234      Hamilton County                  NaN                  NaN   \n",
       "244  Saint Joseph County                  NaN                  NaN   \n",
       "\n",
       "     1996-06-01 00:00:00  1996-07-01 00:00:00  1996-08-01 00:00:00  \\\n",
       "54                   NaN                  NaN                  NaN   \n",
       "130                  NaN                  NaN                  NaN   \n",
       "181                  NaN                  NaN                  NaN   \n",
       "234                  NaN                  NaN                  NaN   \n",
       "244                  NaN                  NaN                  NaN   \n",
       "\n",
       "     1996-09-01 00:00:00  1996-10-01 00:00:00  1996-11-01 00:00:00  \\\n",
       "54                   NaN                  NaN                  NaN   \n",
       "130                  NaN                  NaN                  NaN   \n",
       "181                  NaN                  NaN                  NaN   \n",
       "234                  NaN                  NaN                  NaN   \n",
       "244                  NaN                  NaN                  NaN   \n",
       "\n",
       "     1996-12-01 00:00:00  ...  2019-05-01 00:00:00  2019-06-01 00:00:00  \\\n",
       "54                   NaN  ...               143487               143814   \n",
       "130                  NaN  ...               153958               154751   \n",
       "181                  NaN  ...               143118               143855   \n",
       "234                  NaN  ...               285382               285833   \n",
       "244                  NaN  ...               129993               130867   \n",
       "\n",
       "     2019-07-01 00:00:00  2019-08-01 00:00:00  2019-09-01 00:00:00  \\\n",
       "54                144147               144491               145655   \n",
       "130               155672               156600               157517   \n",
       "181               144470               145234               146110   \n",
       "234               286661               287659               288708   \n",
       "244               131349               131888               132293   \n",
       "\n",
       "     2019-10-01 00:00:00  2019-11-01 00:00:00  2019-12-01 00:00:00  \\\n",
       "54                146936               148115               148663   \n",
       "130               158590               159567               160530   \n",
       "181               147064               147891               148720   \n",
       "234               289518               290281               291492   \n",
       "244               132972               133437               133882   \n",
       "\n",
       "     2020-01-01 00:00:00  2020-02-01 00:00:00  \n",
       "54                149503               151010  \n",
       "130               161321               162255  \n",
       "181               149677               150845  \n",
       "234               292851               294430  \n",
       "244               133814               134133  \n",
       "\n",
       "[5 rows x 288 columns]"
      ]
     },
     "execution_count": 388,
     "metadata": {},
     "output_type": "execute_result"
    }
   ],
   "source": [
    "df_county_available.head()"
   ]
  },
  {
   "cell_type": "code",
   "execution_count": 389,
   "metadata": {
    "ExecuteTime": {
     "end_time": "2020-05-05T22:48:40.543738Z",
     "start_time": "2020-05-05T22:48:40.540738Z"
    }
   },
   "outputs": [
    {
     "data": {
      "text/plain": [
       "(92,)"
      ]
     },
     "execution_count": 389,
     "metadata": {},
     "output_type": "execute_result"
    }
   ],
   "source": [
    "df_county_available.RegionName.shape"
   ]
  },
  {
   "cell_type": "code",
   "execution_count": 390,
   "metadata": {
    "ExecuteTime": {
     "end_time": "2020-05-05T22:48:40.966138Z",
     "start_time": "2020-05-05T22:48:40.804106Z"
    }
   },
   "outputs": [
    {
     "data": {
      "text/plain": [
       "<matplotlib.legend.Legend at 0x22cb386c208>"
      ]
     },
     "execution_count": 390,
     "metadata": {},
     "output_type": "execute_result"
    },
    {
     "data": {
      "image/png": "[encoded data removed]",
      "text/plain": [
       "<Figure size 432x288 with 1 Axes>"
      ]
     },
     "metadata": {
      "needs_background": "light"
     },
     "output_type": "display_data"
    }
   ],
   "source": [
    "df_county_available.set_index('RegionName', inplace = True)\n",
    "df_county_available.loc['Marion County'].plot()\n",
    "df_county_available.loc['Hamilton County'].plot()\n",
    "plt.legend()\n",
    "# county = pd.Series(zipcode_county.query('RegionName == 46227').CountyName).iloc[0]\n",
    "\n",
    "# plt.title(county +', '+ str(46227) + ', housing price trend')"
   ]
  },
  {
   "cell_type": "code",
   "execution_count": 391,
   "metadata": {
    "ExecuteTime": {
     "end_time": "2020-05-05T22:48:45.426032Z",
     "start_time": "2020-05-05T22:48:45.291034Z"
    }
   },
   "outputs": [
    {
     "data": {
      "text/plain": [
       "<matplotlib.axes._subplots.AxesSubplot at 0x22cb37c4a88>"
      ]
     },
     "execution_count": 391,
     "metadata": {},
     "output_type": "execute_result"
    },
    {
     "data": {
      "image/png": "[encoded data removed]",
      "text/plain": [
       "<Figure size 432x288 with 1 Axes>"
      ]
     },
     "metadata": {
      "needs_background": "light"
     },
     "output_type": "display_data"
    }
   ],
   "source": [
    "df_county_available = df_county_available.T\n",
    "df_county_available['Marion County'].plot()"
   ]
  },
  {
   "cell_type": "code",
   "execution_count": 392,
   "metadata": {
    "ExecuteTime": {
     "end_time": "2020-05-05T22:48:59.287696Z",
     "start_time": "2020-05-05T22:48:59.283672Z"
    }
   },
   "outputs": [
    {
     "data": {
      "text/plain": [
       "Timestamp('1996-04-01 00:00:00')"
      ]
     },
     "execution_count": 392,
     "metadata": {},
     "output_type": "execute_result"
    }
   ],
   "source": [
    "df_county_available.index[0]"
   ]
  },
  {
   "cell_type": "code",
   "execution_count": 393,
   "metadata": {
    "ExecuteTime": {
     "end_time": "2020-05-05T22:48:59.519568Z",
     "start_time": "2020-05-05T22:48:59.515600Z"
    }
   },
   "outputs": [],
   "source": [
    "df_county_available.index = pd.DatetimeIndex(df_county_available.index)"
   ]
  },
  {
   "cell_type": "code",
   "execution_count": 394,
   "metadata": {
    "ExecuteTime": {
     "end_time": "2020-05-05T22:49:00.055825Z",
     "start_time": "2020-05-05T22:49:00.050832Z"
    }
   },
   "outputs": [],
   "source": [
    "df_house_annualmean = df_county_available.groupby(lambda x:x.year).mean()"
   ]
  },
  {
   "cell_type": "code",
   "execution_count": 396,
   "metadata": {
    "ExecuteTime": {
     "end_time": "2020-05-05T22:49:03.568605Z",
     "start_time": "2020-05-05T22:49:03.563607Z"
    }
   },
   "outputs": [
    {
     "data": {
      "text/plain": [
       "Int64Index([1996, 1997, 1998, 1999, 2000, 2001, 2002, 2003, 2004, 2005, 2006,\n",
       "            2007, 2008, 2009, 2010, 2011, 2012, 2013, 2014, 2015, 2016, 2017,\n",
       "            2018, 2019, 2020],\n",
       "           dtype='int64')"
      ]
     },
     "execution_count": 396,
     "metadata": {},
     "output_type": "execute_result"
    }
   ],
   "source": [
    "df_house_annualmean.index"
   ]
  },
  {
   "cell_type": "code",
   "execution_count": 397,
   "metadata": {
    "ExecuteTime": {
     "end_time": "2020-05-05T22:49:19.391515Z",
     "start_time": "2020-05-05T22:49:19.388514Z"
    }
   },
   "outputs": [],
   "source": [
    "df_house_annualmean.index = pd.to_datetime(df_house_annualmean.index, format = '%Y')"
   ]
  },
  {
   "cell_type": "code",
   "execution_count": 398,
   "metadata": {
    "ExecuteTime": {
     "end_time": "2020-05-05T22:49:24.509818Z",
     "start_time": "2020-05-05T22:49:24.505815Z"
    }
   },
   "outputs": [
    {
     "data": {
      "text/plain": [
       "DatetimeIndex(['1996-01-01', '1997-01-01', '1998-01-01', '1999-01-01',\n",
       "               '2000-01-01', '2001-01-01', '2002-01-01', '2003-01-01',\n",
       "               '2004-01-01', '2005-01-01', '2006-01-01', '2007-01-01',\n",
       "               '2008-01-01', '2009-01-01', '2010-01-01', '2011-01-01',\n",
       "               '2012-01-01', '2013-01-01', '2014-01-01', '2015-01-01',\n",
       "               '2016-01-01', '2017-01-01', '2018-01-01', '2019-01-01',\n",
       "               '2020-01-01'],\n",
       "              dtype='datetime64[ns]', freq=None)"
      ]
     },
     "execution_count": 398,
     "metadata": {},
     "output_type": "execute_result"
    }
   ],
   "source": [
    "df_house_annualmean.index"
   ]
  },
  {
   "cell_type": "code",
   "execution_count": 399,
   "metadata": {
    "ExecuteTime": {
     "end_time": "2020-05-05T22:49:28.668284Z",
     "start_time": "2020-05-05T22:49:28.522283Z"
    }
   },
   "outputs": [
    {
     "data": {
      "text/plain": [
       "<matplotlib.axes._subplots.AxesSubplot at 0x22cc4605708>"
      ]
     },
     "execution_count": 399,
     "metadata": {},
     "output_type": "execute_result"
    },
    {
     "data": {
      "image/png": "[encoded data removed]",
      "text/plain": [
       "<Figure size 432x288 with 1 Axes>"
      ]
     },
     "metadata": {
      "needs_background": "light"
     },
     "output_type": "display_data"
    }
   ],
   "source": [
    "df_house_annualmean['Marion County'].plot()"
   ]
  },
  {
   "cell_type": "markdown",
   "metadata": {},
   "source": [
    "### Saving data"
   ]
  },
  {
   "cell_type": "code",
   "execution_count": 406,
   "metadata": {
    "ExecuteTime": {
     "end_time": "2020-05-05T22:51:32.183716Z",
     "start_time": "2020-05-05T22:51:32.179714Z"
    }
   },
   "outputs": [],
   "source": [
    "ProcessedData['df_county_available'] = df_county_available\n",
    "ProcessedData['df_house_annualmean'] = df_house_annualmean"
   ]
  },
  {
   "cell_type": "markdown",
   "metadata": {},
   "source": [
    "## Educational Attainment for Bachelor Degree\n",
    "Number of people with Bachelor Degree in each county of Indiana"
   ]
  },
  {
   "cell_type": "code",
   "execution_count": 130,
   "metadata": {
    "ExecuteTime": {
     "end_time": "2020-05-04T01:49:37.887512Z",
     "start_time": "2020-05-04T01:49:37.843432Z"
    }
   },
   "outputs": [],
   "source": [
    "xls = pd.ExcelFile('educationAttainmnet_combined.xlsx')\n",
    "df1 = pd.read_excel(xls, '2018')"
   ]
  },
  {
   "cell_type": "code",
   "execution_count": 131,
   "metadata": {
    "ExecuteTime": {
     "end_time": "2020-05-04T01:49:38.060040Z",
     "start_time": "2020-05-04T01:49:38.053073Z"
    }
   },
   "outputs": [
    {
     "data": {
      "text/html": [
       "<div>\n",
       "<style scoped>\n",
       "    .dataframe tbody tr th:only-of-type {\n",
       "        vertical-align: middle;\n",
       "    }\n",
       "\n",
       "    .dataframe tbody tr th {\n",
       "        vertical-align: top;\n",
       "    }\n",
       "\n",
       "    .dataframe thead th {\n",
       "        text-align: right;\n",
       "    }\n",
       "</style>\n",
       "<table border=\"1\" class=\"dataframe\">\n",
       "  <thead>\n",
       "    <tr style=\"text-align: right;\">\n",
       "      <th></th>\n",
       "      <th>Education Attainment - Bachelor's Degree\"Geography\"</th>\n",
       "      <th>statefips</th>\n",
       "      <th>countyfips</th>\n",
       "      <th>year</th>\n",
       "      <th>Data</th>\n",
       "    </tr>\n",
       "  </thead>\n",
       "  <tbody>\n",
       "    <tr>\n",
       "      <td>0</td>\n",
       "      <td>Adams County, IN</td>\n",
       "      <td>18</td>\n",
       "      <td>1</td>\n",
       "      <td>2018</td>\n",
       "      <td>2242</td>\n",
       "    </tr>\n",
       "    <tr>\n",
       "      <td>1</td>\n",
       "      <td>Allen County, IN</td>\n",
       "      <td>18</td>\n",
       "      <td>3</td>\n",
       "      <td>2018</td>\n",
       "      <td>44188</td>\n",
       "    </tr>\n",
       "    <tr>\n",
       "      <td>2</td>\n",
       "      <td>Bartholomew County, IN</td>\n",
       "      <td>18</td>\n",
       "      <td>5</td>\n",
       "      <td>2018</td>\n",
       "      <td>10687</td>\n",
       "    </tr>\n",
       "    <tr>\n",
       "      <td>3</td>\n",
       "      <td>Benton County, IN</td>\n",
       "      <td>18</td>\n",
       "      <td>7</td>\n",
       "      <td>2018</td>\n",
       "      <td>782</td>\n",
       "    </tr>\n",
       "    <tr>\n",
       "      <td>4</td>\n",
       "      <td>Blackford County, IN</td>\n",
       "      <td>18</td>\n",
       "      <td>9</td>\n",
       "      <td>2018</td>\n",
       "      <td>611</td>\n",
       "    </tr>\n",
       "  </tbody>\n",
       "</table>\n",
       "</div>"
      ],
      "text/plain": [
       "  Education Attainment - Bachelor's Degree\"Geography\"  statefips  countyfips  \\\n",
       "0                                   Adams County, IN          18           1   \n",
       "1                                   Allen County, IN          18           3   \n",
       "2                             Bartholomew County, IN          18           5   \n",
       "3                                  Benton County, IN          18           7   \n",
       "4                               Blackford County, IN          18           9   \n",
       "\n",
       "   year   Data  \n",
       "0  2018   2242  \n",
       "1  2018  44188  \n",
       "2  2018  10687  \n",
       "3  2018    782  \n",
       "4  2018    611  "
      ]
     },
     "execution_count": 131,
     "metadata": {},
     "output_type": "execute_result"
    }
   ],
   "source": [
    "df1.head()"
   ]
  },
  {
   "cell_type": "code",
   "execution_count": 132,
   "metadata": {
    "ExecuteTime": {
     "end_time": "2020-05-04T01:49:38.966626Z",
     "start_time": "2020-05-04T01:49:38.963596Z"
    }
   },
   "outputs": [],
   "source": [
    "column_list = list(df1.columns)\n",
    "column_list[0] = 'County'"
   ]
  },
  {
   "cell_type": "code",
   "execution_count": 133,
   "metadata": {
    "ExecuteTime": {
     "end_time": "2020-05-04T01:49:40.078499Z",
     "start_time": "2020-05-04T01:49:40.076467Z"
    }
   },
   "outputs": [],
   "source": [
    "df1.columns = column_list"
   ]
  },
  {
   "cell_type": "code",
   "execution_count": 134,
   "metadata": {
    "ExecuteTime": {
     "end_time": "2020-05-04T01:49:45.436109Z",
     "start_time": "2020-05-04T01:49:45.395100Z"
    }
   },
   "outputs": [],
   "source": [
    "for i in range(1,9):\n",
    "    yr = str(2018 - i)\n",
    "    df2 = pd.read_excel(xls, yr)\n",
    "    column_list_updated =[x + '_'+ yr for x in column_list] \n",
    "    df2.columns = column_list_updated\n",
    "    df1 = df1.merge(df2, left_on = 'County', right_on = column_list_updated[0])"
   ]
  },
  {
   "cell_type": "code",
   "execution_count": 135,
   "metadata": {
    "ExecuteTime": {
     "end_time": "2020-05-04T01:49:46.523461Z",
     "start_time": "2020-05-04T01:49:46.508492Z"
    }
   },
   "outputs": [
    {
     "data": {
      "text/html": [
       "<div>\n",
       "<style scoped>\n",
       "    .dataframe tbody tr th:only-of-type {\n",
       "        vertical-align: middle;\n",
       "    }\n",
       "\n",
       "    .dataframe tbody tr th {\n",
       "        vertical-align: top;\n",
       "    }\n",
       "\n",
       "    .dataframe thead th {\n",
       "        text-align: right;\n",
       "    }\n",
       "</style>\n",
       "<table border=\"1\" class=\"dataframe\">\n",
       "  <thead>\n",
       "    <tr style=\"text-align: right;\">\n",
       "      <th></th>\n",
       "      <th>County</th>\n",
       "      <th>statefips</th>\n",
       "      <th>countyfips</th>\n",
       "      <th>year</th>\n",
       "      <th>Data</th>\n",
       "      <th>County_2017</th>\n",
       "      <th>statefips_2017</th>\n",
       "      <th>countyfips_2017</th>\n",
       "      <th>year_2017</th>\n",
       "      <th>Data_2017</th>\n",
       "      <th>...</th>\n",
       "      <th>County_2011</th>\n",
       "      <th>statefips_2011</th>\n",
       "      <th>countyfips_2011</th>\n",
       "      <th>year_2011</th>\n",
       "      <th>Data_2011</th>\n",
       "      <th>County_2010</th>\n",
       "      <th>statefips_2010</th>\n",
       "      <th>countyfips_2010</th>\n",
       "      <th>year_2010</th>\n",
       "      <th>Data_2010</th>\n",
       "    </tr>\n",
       "  </thead>\n",
       "  <tbody>\n",
       "    <tr>\n",
       "      <td>0</td>\n",
       "      <td>Adams County, IN</td>\n",
       "      <td>18</td>\n",
       "      <td>1</td>\n",
       "      <td>2018</td>\n",
       "      <td>2242</td>\n",
       "      <td>Adams County, IN</td>\n",
       "      <td>18</td>\n",
       "      <td>1</td>\n",
       "      <td>2017</td>\n",
       "      <td>2116</td>\n",
       "      <td>...</td>\n",
       "      <td>Adams County, IN</td>\n",
       "      <td>18</td>\n",
       "      <td>1</td>\n",
       "      <td>2011</td>\n",
       "      <td>1722</td>\n",
       "      <td>Adams County, IN</td>\n",
       "      <td>18</td>\n",
       "      <td>1</td>\n",
       "      <td>2010</td>\n",
       "      <td>1685</td>\n",
       "    </tr>\n",
       "    <tr>\n",
       "      <td>1</td>\n",
       "      <td>Allen County, IN</td>\n",
       "      <td>18</td>\n",
       "      <td>3</td>\n",
       "      <td>2018</td>\n",
       "      <td>44188</td>\n",
       "      <td>Allen County, IN</td>\n",
       "      <td>18</td>\n",
       "      <td>3</td>\n",
       "      <td>2017</td>\n",
       "      <td>42678</td>\n",
       "      <td>...</td>\n",
       "      <td>Allen County, IN</td>\n",
       "      <td>18</td>\n",
       "      <td>3</td>\n",
       "      <td>2011</td>\n",
       "      <td>39980</td>\n",
       "      <td>Allen County, IN</td>\n",
       "      <td>18</td>\n",
       "      <td>3</td>\n",
       "      <td>2010</td>\n",
       "      <td>39680</td>\n",
       "    </tr>\n",
       "    <tr>\n",
       "      <td>2</td>\n",
       "      <td>Bartholomew County, IN</td>\n",
       "      <td>18</td>\n",
       "      <td>5</td>\n",
       "      <td>2018</td>\n",
       "      <td>10687</td>\n",
       "      <td>Bartholomew County, IN</td>\n",
       "      <td>18</td>\n",
       "      <td>5</td>\n",
       "      <td>2017</td>\n",
       "      <td>10155</td>\n",
       "      <td>...</td>\n",
       "      <td>Bartholomew County, IN</td>\n",
       "      <td>18</td>\n",
       "      <td>5</td>\n",
       "      <td>2011</td>\n",
       "      <td>7997</td>\n",
       "      <td>Bartholomew County, IN</td>\n",
       "      <td>18</td>\n",
       "      <td>5</td>\n",
       "      <td>2010</td>\n",
       "      <td>7834</td>\n",
       "    </tr>\n",
       "    <tr>\n",
       "      <td>3</td>\n",
       "      <td>Benton County, IN</td>\n",
       "      <td>18</td>\n",
       "      <td>7</td>\n",
       "      <td>2018</td>\n",
       "      <td>782</td>\n",
       "      <td>Benton County, IN</td>\n",
       "      <td>18</td>\n",
       "      <td>7</td>\n",
       "      <td>2017</td>\n",
       "      <td>744</td>\n",
       "      <td>...</td>\n",
       "      <td>Benton County, IN</td>\n",
       "      <td>18</td>\n",
       "      <td>7</td>\n",
       "      <td>2011</td>\n",
       "      <td>572</td>\n",
       "      <td>Benton County, IN</td>\n",
       "      <td>18</td>\n",
       "      <td>7</td>\n",
       "      <td>2010</td>\n",
       "      <td>508</td>\n",
       "    </tr>\n",
       "    <tr>\n",
       "      <td>4</td>\n",
       "      <td>Blackford County, IN</td>\n",
       "      <td>18</td>\n",
       "      <td>9</td>\n",
       "      <td>2018</td>\n",
       "      <td>611</td>\n",
       "      <td>Blackford County, IN</td>\n",
       "      <td>18</td>\n",
       "      <td>9</td>\n",
       "      <td>2017</td>\n",
       "      <td>506</td>\n",
       "      <td>...</td>\n",
       "      <td>Blackford County, IN</td>\n",
       "      <td>18</td>\n",
       "      <td>9</td>\n",
       "      <td>2011</td>\n",
       "      <td>608</td>\n",
       "      <td>Blackford County, IN</td>\n",
       "      <td>18</td>\n",
       "      <td>9</td>\n",
       "      <td>2010</td>\n",
       "      <td>693</td>\n",
       "    </tr>\n",
       "  </tbody>\n",
       "</table>\n",
       "<p>5 rows × 45 columns</p>\n",
       "</div>"
      ],
      "text/plain": [
       "                   County  statefips  countyfips  year   Data  \\\n",
       "0        Adams County, IN         18           1  2018   2242   \n",
       "1        Allen County, IN         18           3  2018  44188   \n",
       "2  Bartholomew County, IN         18           5  2018  10687   \n",
       "3       Benton County, IN         18           7  2018    782   \n",
       "4    Blackford County, IN         18           9  2018    611   \n",
       "\n",
       "              County_2017  statefips_2017  countyfips_2017  year_2017  \\\n",
       "0        Adams County, IN              18                1       2017   \n",
       "1        Allen County, IN              18                3       2017   \n",
       "2  Bartholomew County, IN              18                5       2017   \n",
       "3       Benton County, IN              18                7       2017   \n",
       "4    Blackford County, IN              18                9       2017   \n",
       "\n",
       "   Data_2017  ...             County_2011  statefips_2011  countyfips_2011  \\\n",
       "0       2116  ...        Adams County, IN              18                1   \n",
       "1      42678  ...        Allen County, IN              18                3   \n",
       "2      10155  ...  Bartholomew County, IN              18                5   \n",
       "3        744  ...       Benton County, IN              18                7   \n",
       "4        506  ...    Blackford County, IN              18                9   \n",
       "\n",
       "   year_2011  Data_2011             County_2010  statefips_2010  \\\n",
       "0       2011       1722        Adams County, IN              18   \n",
       "1       2011      39980        Allen County, IN              18   \n",
       "2       2011       7997  Bartholomew County, IN              18   \n",
       "3       2011        572       Benton County, IN              18   \n",
       "4       2011        608    Blackford County, IN              18   \n",
       "\n",
       "   countyfips_2010  year_2010  Data_2010  \n",
       "0                1       2010       1685  \n",
       "1                3       2010      39680  \n",
       "2                5       2010       7834  \n",
       "3                7       2010        508  \n",
       "4                9       2010        693  \n",
       "\n",
       "[5 rows x 45 columns]"
      ]
     },
     "execution_count": 135,
     "metadata": {},
     "output_type": "execute_result"
    }
   ],
   "source": [
    "df1.head()"
   ]
  },
  {
   "cell_type": "code",
   "execution_count": 136,
   "metadata": {
    "ExecuteTime": {
     "end_time": "2020-05-04T01:49:47.928977Z",
     "start_time": "2020-05-04T01:49:47.923978Z"
    }
   },
   "outputs": [
    {
     "data": {
      "text/plain": [
       "Index(['County', 'statefips', 'countyfips', 'year', 'Data', 'County_2017',\n",
       "       'statefips_2017', 'countyfips_2017', 'year_2017', 'Data_2017',\n",
       "       'County_2016', 'statefips_2016', 'countyfips_2016', 'year_2016',\n",
       "       'Data_2016', 'County_2015', 'statefips_2015', 'countyfips_2015',\n",
       "       'year_2015', 'Data_2015', 'County_2014', 'statefips_2014',\n",
       "       'countyfips_2014', 'year_2014', 'Data_2014', 'County_2013',\n",
       "       'statefips_2013', 'countyfips_2013', 'year_2013', 'Data_2013',\n",
       "       'County_2012', 'statefips_2012', 'countyfips_2012', 'year_2012',\n",
       "       'Data_2012', 'County_2011', 'statefips_2011', 'countyfips_2011',\n",
       "       'year_2011', 'Data_2011', 'County_2010', 'statefips_2010',\n",
       "       'countyfips_2010', 'year_2010', 'Data_2010'],\n",
       "      dtype='object')"
      ]
     },
     "execution_count": 136,
     "metadata": {},
     "output_type": "execute_result"
    }
   ],
   "source": [
    "df1.columns"
   ]
  },
  {
   "cell_type": "code",
   "execution_count": 139,
   "metadata": {
    "ExecuteTime": {
     "end_time": "2020-05-04T01:53:18.953138Z",
     "start_time": "2020-05-04T01:53:18.947143Z"
    }
   },
   "outputs": [],
   "source": [
    "Ed_Att = pd.DataFrame()\n",
    "Ed_Att[df1.columns[0:3]] = df1[df1.columns[0:3]]\n"
   ]
  },
  {
   "cell_type": "code",
   "execution_count": 141,
   "metadata": {
    "ExecuteTime": {
     "end_time": "2020-05-04T01:54:09.607247Z",
     "start_time": "2020-05-04T01:54:09.588275Z"
    }
   },
   "outputs": [
    {
     "data": {
      "text/html": [
       "<div>\n",
       "<style scoped>\n",
       "    .dataframe tbody tr th:only-of-type {\n",
       "        vertical-align: middle;\n",
       "    }\n",
       "\n",
       "    .dataframe tbody tr th {\n",
       "        vertical-align: top;\n",
       "    }\n",
       "\n",
       "    .dataframe thead th {\n",
       "        text-align: right;\n",
       "    }\n",
       "</style>\n",
       "<table border=\"1\" class=\"dataframe\">\n",
       "  <thead>\n",
       "    <tr style=\"text-align: right;\">\n",
       "      <th></th>\n",
       "      <th>County</th>\n",
       "      <th>statefips</th>\n",
       "      <th>countyfips</th>\n",
       "      <th>year</th>\n",
       "      <th>Data</th>\n",
       "      <th>County_2017</th>\n",
       "      <th>statefips_2017</th>\n",
       "      <th>countyfips_2017</th>\n",
       "      <th>year_2017</th>\n",
       "      <th>Data_2017</th>\n",
       "      <th>...</th>\n",
       "      <th>County_2011</th>\n",
       "      <th>statefips_2011</th>\n",
       "      <th>countyfips_2011</th>\n",
       "      <th>year_2011</th>\n",
       "      <th>Data_2011</th>\n",
       "      <th>County_2010</th>\n",
       "      <th>statefips_2010</th>\n",
       "      <th>countyfips_2010</th>\n",
       "      <th>year_2010</th>\n",
       "      <th>Data_2010</th>\n",
       "    </tr>\n",
       "  </thead>\n",
       "  <tbody>\n",
       "    <tr>\n",
       "      <td>0</td>\n",
       "      <td>Adams County, IN</td>\n",
       "      <td>18</td>\n",
       "      <td>1</td>\n",
       "      <td>2018</td>\n",
       "      <td>2242</td>\n",
       "      <td>Adams County, IN</td>\n",
       "      <td>18</td>\n",
       "      <td>1</td>\n",
       "      <td>2017</td>\n",
       "      <td>2116</td>\n",
       "      <td>...</td>\n",
       "      <td>Adams County, IN</td>\n",
       "      <td>18</td>\n",
       "      <td>1</td>\n",
       "      <td>2011</td>\n",
       "      <td>1722</td>\n",
       "      <td>Adams County, IN</td>\n",
       "      <td>18</td>\n",
       "      <td>1</td>\n",
       "      <td>2010</td>\n",
       "      <td>1685</td>\n",
       "    </tr>\n",
       "    <tr>\n",
       "      <td>1</td>\n",
       "      <td>Allen County, IN</td>\n",
       "      <td>18</td>\n",
       "      <td>3</td>\n",
       "      <td>2018</td>\n",
       "      <td>44188</td>\n",
       "      <td>Allen County, IN</td>\n",
       "      <td>18</td>\n",
       "      <td>3</td>\n",
       "      <td>2017</td>\n",
       "      <td>42678</td>\n",
       "      <td>...</td>\n",
       "      <td>Allen County, IN</td>\n",
       "      <td>18</td>\n",
       "      <td>3</td>\n",
       "      <td>2011</td>\n",
       "      <td>39980</td>\n",
       "      <td>Allen County, IN</td>\n",
       "      <td>18</td>\n",
       "      <td>3</td>\n",
       "      <td>2010</td>\n",
       "      <td>39680</td>\n",
       "    </tr>\n",
       "    <tr>\n",
       "      <td>2</td>\n",
       "      <td>Bartholomew County, IN</td>\n",
       "      <td>18</td>\n",
       "      <td>5</td>\n",
       "      <td>2018</td>\n",
       "      <td>10687</td>\n",
       "      <td>Bartholomew County, IN</td>\n",
       "      <td>18</td>\n",
       "      <td>5</td>\n",
       "      <td>2017</td>\n",
       "      <td>10155</td>\n",
       "      <td>...</td>\n",
       "      <td>Bartholomew County, IN</td>\n",
       "      <td>18</td>\n",
       "      <td>5</td>\n",
       "      <td>2011</td>\n",
       "      <td>7997</td>\n",
       "      <td>Bartholomew County, IN</td>\n",
       "      <td>18</td>\n",
       "      <td>5</td>\n",
       "      <td>2010</td>\n",
       "      <td>7834</td>\n",
       "    </tr>\n",
       "    <tr>\n",
       "      <td>3</td>\n",
       "      <td>Benton County, IN</td>\n",
       "      <td>18</td>\n",
       "      <td>7</td>\n",
       "      <td>2018</td>\n",
       "      <td>782</td>\n",
       "      <td>Benton County, IN</td>\n",
       "      <td>18</td>\n",
       "      <td>7</td>\n",
       "      <td>2017</td>\n",
       "      <td>744</td>\n",
       "      <td>...</td>\n",
       "      <td>Benton County, IN</td>\n",
       "      <td>18</td>\n",
       "      <td>7</td>\n",
       "      <td>2011</td>\n",
       "      <td>572</td>\n",
       "      <td>Benton County, IN</td>\n",
       "      <td>18</td>\n",
       "      <td>7</td>\n",
       "      <td>2010</td>\n",
       "      <td>508</td>\n",
       "    </tr>\n",
       "    <tr>\n",
       "      <td>4</td>\n",
       "      <td>Blackford County, IN</td>\n",
       "      <td>18</td>\n",
       "      <td>9</td>\n",
       "      <td>2018</td>\n",
       "      <td>611</td>\n",
       "      <td>Blackford County, IN</td>\n",
       "      <td>18</td>\n",
       "      <td>9</td>\n",
       "      <td>2017</td>\n",
       "      <td>506</td>\n",
       "      <td>...</td>\n",
       "      <td>Blackford County, IN</td>\n",
       "      <td>18</td>\n",
       "      <td>9</td>\n",
       "      <td>2011</td>\n",
       "      <td>608</td>\n",
       "      <td>Blackford County, IN</td>\n",
       "      <td>18</td>\n",
       "      <td>9</td>\n",
       "      <td>2010</td>\n",
       "      <td>693</td>\n",
       "    </tr>\n",
       "  </tbody>\n",
       "</table>\n",
       "<p>5 rows × 45 columns</p>\n",
       "</div>"
      ],
      "text/plain": [
       "                   County  statefips  countyfips  year   Data  \\\n",
       "0        Adams County, IN         18           1  2018   2242   \n",
       "1        Allen County, IN         18           3  2018  44188   \n",
       "2  Bartholomew County, IN         18           5  2018  10687   \n",
       "3       Benton County, IN         18           7  2018    782   \n",
       "4    Blackford County, IN         18           9  2018    611   \n",
       "\n",
       "              County_2017  statefips_2017  countyfips_2017  year_2017  \\\n",
       "0        Adams County, IN              18                1       2017   \n",
       "1        Allen County, IN              18                3       2017   \n",
       "2  Bartholomew County, IN              18                5       2017   \n",
       "3       Benton County, IN              18                7       2017   \n",
       "4    Blackford County, IN              18                9       2017   \n",
       "\n",
       "   Data_2017  ...             County_2011  statefips_2011  countyfips_2011  \\\n",
       "0       2116  ...        Adams County, IN              18                1   \n",
       "1      42678  ...        Allen County, IN              18                3   \n",
       "2      10155  ...  Bartholomew County, IN              18                5   \n",
       "3        744  ...       Benton County, IN              18                7   \n",
       "4        506  ...    Blackford County, IN              18                9   \n",
       "\n",
       "   year_2011  Data_2011             County_2010  statefips_2010  \\\n",
       "0       2011       1722        Adams County, IN              18   \n",
       "1       2011      39980        Allen County, IN              18   \n",
       "2       2011       7997  Bartholomew County, IN              18   \n",
       "3       2011        572       Benton County, IN              18   \n",
       "4       2011        608    Blackford County, IN              18   \n",
       "\n",
       "   countyfips_2010  year_2010  Data_2010  \n",
       "0                1       2010       1685  \n",
       "1                3       2010      39680  \n",
       "2                5       2010       7834  \n",
       "3                7       2010        508  \n",
       "4                9       2010        693  \n",
       "\n",
       "[5 rows x 45 columns]"
      ]
     },
     "execution_count": 141,
     "metadata": {},
     "output_type": "execute_result"
    }
   ],
   "source": [
    "df1.head()"
   ]
  },
  {
   "cell_type": "code",
   "execution_count": 142,
   "metadata": {
    "ExecuteTime": {
     "end_time": "2020-05-04T01:54:16.492461Z",
     "start_time": "2020-05-04T01:54:16.488460Z"
    }
   },
   "outputs": [],
   "source": [
    "Ed_Att[2018] = df1['Data']"
   ]
  },
  {
   "cell_type": "code",
   "execution_count": 143,
   "metadata": {
    "ExecuteTime": {
     "end_time": "2020-05-04T01:55:47.536519Z",
     "start_time": "2020-05-04T01:55:47.531520Z"
    },
    "scrolled": true
   },
   "outputs": [],
   "source": [
    "for i in range(2010,2018):\n",
    "    yr = i\n",
    "    column_name = 'Data_'+ str(yr)\n",
    "    Ed_Att[yr] = df1[column_name]"
   ]
  },
  {
   "cell_type": "code",
   "execution_count": 144,
   "metadata": {
    "ExecuteTime": {
     "end_time": "2020-05-04T01:55:52.792461Z",
     "start_time": "2020-05-04T01:55:52.779495Z"
    }
   },
   "outputs": [
    {
     "data": {
      "text/html": [
       "<div>\n",
       "<style scoped>\n",
       "    .dataframe tbody tr th:only-of-type {\n",
       "        vertical-align: middle;\n",
       "    }\n",
       "\n",
       "    .dataframe tbody tr th {\n",
       "        vertical-align: top;\n",
       "    }\n",
       "\n",
       "    .dataframe thead th {\n",
       "        text-align: right;\n",
       "    }\n",
       "</style>\n",
       "<table border=\"1\" class=\"dataframe\">\n",
       "  <thead>\n",
       "    <tr style=\"text-align: right;\">\n",
       "      <th></th>\n",
       "      <th>County</th>\n",
       "      <th>statefips</th>\n",
       "      <th>countyfips</th>\n",
       "      <th>2018</th>\n",
       "      <th>2010</th>\n",
       "      <th>2011</th>\n",
       "      <th>2012</th>\n",
       "      <th>2013</th>\n",
       "      <th>2014</th>\n",
       "      <th>2015</th>\n",
       "      <th>2016</th>\n",
       "      <th>2017</th>\n",
       "    </tr>\n",
       "  </thead>\n",
       "  <tbody>\n",
       "    <tr>\n",
       "      <td>0</td>\n",
       "      <td>Adams County, IN</td>\n",
       "      <td>18</td>\n",
       "      <td>1</td>\n",
       "      <td>2242</td>\n",
       "      <td>1685</td>\n",
       "      <td>1722</td>\n",
       "      <td>1930</td>\n",
       "      <td>1972</td>\n",
       "      <td>1982</td>\n",
       "      <td>2061</td>\n",
       "      <td>2311</td>\n",
       "      <td>2116</td>\n",
       "    </tr>\n",
       "    <tr>\n",
       "      <td>1</td>\n",
       "      <td>Allen County, IN</td>\n",
       "      <td>18</td>\n",
       "      <td>3</td>\n",
       "      <td>44188</td>\n",
       "      <td>39680</td>\n",
       "      <td>39980</td>\n",
       "      <td>39948</td>\n",
       "      <td>39766</td>\n",
       "      <td>40197</td>\n",
       "      <td>40881</td>\n",
       "      <td>42160</td>\n",
       "      <td>42678</td>\n",
       "    </tr>\n",
       "    <tr>\n",
       "      <td>2</td>\n",
       "      <td>Bartholomew County, IN</td>\n",
       "      <td>18</td>\n",
       "      <td>5</td>\n",
       "      <td>10687</td>\n",
       "      <td>7834</td>\n",
       "      <td>7997</td>\n",
       "      <td>8196</td>\n",
       "      <td>8422</td>\n",
       "      <td>9105</td>\n",
       "      <td>9697</td>\n",
       "      <td>9685</td>\n",
       "      <td>10155</td>\n",
       "    </tr>\n",
       "    <tr>\n",
       "      <td>3</td>\n",
       "      <td>Benton County, IN</td>\n",
       "      <td>18</td>\n",
       "      <td>7</td>\n",
       "      <td>782</td>\n",
       "      <td>508</td>\n",
       "      <td>572</td>\n",
       "      <td>581</td>\n",
       "      <td>656</td>\n",
       "      <td>673</td>\n",
       "      <td>709</td>\n",
       "      <td>753</td>\n",
       "      <td>744</td>\n",
       "    </tr>\n",
       "    <tr>\n",
       "      <td>4</td>\n",
       "      <td>Blackford County, IN</td>\n",
       "      <td>18</td>\n",
       "      <td>9</td>\n",
       "      <td>611</td>\n",
       "      <td>693</td>\n",
       "      <td>608</td>\n",
       "      <td>596</td>\n",
       "      <td>571</td>\n",
       "      <td>619</td>\n",
       "      <td>575</td>\n",
       "      <td>546</td>\n",
       "      <td>506</td>\n",
       "    </tr>\n",
       "    <tr>\n",
       "      <td>...</td>\n",
       "      <td>...</td>\n",
       "      <td>...</td>\n",
       "      <td>...</td>\n",
       "      <td>...</td>\n",
       "      <td>...</td>\n",
       "      <td>...</td>\n",
       "      <td>...</td>\n",
       "      <td>...</td>\n",
       "      <td>...</td>\n",
       "      <td>...</td>\n",
       "      <td>...</td>\n",
       "      <td>...</td>\n",
       "    </tr>\n",
       "    <tr>\n",
       "      <td>87</td>\n",
       "      <td>Washington County, IN</td>\n",
       "      <td>18</td>\n",
       "      <td>175</td>\n",
       "      <td>1605</td>\n",
       "      <td>996</td>\n",
       "      <td>1010</td>\n",
       "      <td>1097</td>\n",
       "      <td>1211</td>\n",
       "      <td>1212</td>\n",
       "      <td>1177</td>\n",
       "      <td>1399</td>\n",
       "      <td>1425</td>\n",
       "    </tr>\n",
       "    <tr>\n",
       "      <td>88</td>\n",
       "      <td>Wayne County, IN</td>\n",
       "      <td>18</td>\n",
       "      <td>177</td>\n",
       "      <td>4841</td>\n",
       "      <td>4368</td>\n",
       "      <td>4456</td>\n",
       "      <td>4734</td>\n",
       "      <td>4709</td>\n",
       "      <td>4870</td>\n",
       "      <td>4711</td>\n",
       "      <td>4611</td>\n",
       "      <td>4901</td>\n",
       "    </tr>\n",
       "    <tr>\n",
       "      <td>89</td>\n",
       "      <td>Wells County, IN</td>\n",
       "      <td>18</td>\n",
       "      <td>179</td>\n",
       "      <td>2333</td>\n",
       "      <td>1698</td>\n",
       "      <td>1678</td>\n",
       "      <td>1880</td>\n",
       "      <td>1959</td>\n",
       "      <td>2145</td>\n",
       "      <td>2214</td>\n",
       "      <td>2219</td>\n",
       "      <td>2368</td>\n",
       "    </tr>\n",
       "    <tr>\n",
       "      <td>90</td>\n",
       "      <td>White County, IN</td>\n",
       "      <td>18</td>\n",
       "      <td>181</td>\n",
       "      <td>1815</td>\n",
       "      <td>1567</td>\n",
       "      <td>1665</td>\n",
       "      <td>1632</td>\n",
       "      <td>1661</td>\n",
       "      <td>1614</td>\n",
       "      <td>1732</td>\n",
       "      <td>1730</td>\n",
       "      <td>1781</td>\n",
       "    </tr>\n",
       "    <tr>\n",
       "      <td>91</td>\n",
       "      <td>Whitley County, IN</td>\n",
       "      <td>18</td>\n",
       "      <td>183</td>\n",
       "      <td>3260</td>\n",
       "      <td>2489</td>\n",
       "      <td>2265</td>\n",
       "      <td>2390</td>\n",
       "      <td>2365</td>\n",
       "      <td>2548</td>\n",
       "      <td>2619</td>\n",
       "      <td>2628</td>\n",
       "      <td>2880</td>\n",
       "    </tr>\n",
       "  </tbody>\n",
       "</table>\n",
       "<p>92 rows × 12 columns</p>\n",
       "</div>"
      ],
      "text/plain": [
       "                    County  statefips  countyfips   2018   2010   2011   2012  \\\n",
       "0         Adams County, IN         18           1   2242   1685   1722   1930   \n",
       "1         Allen County, IN         18           3  44188  39680  39980  39948   \n",
       "2   Bartholomew County, IN         18           5  10687   7834   7997   8196   \n",
       "3        Benton County, IN         18           7    782    508    572    581   \n",
       "4     Blackford County, IN         18           9    611    693    608    596   \n",
       "..                     ...        ...         ...    ...    ...    ...    ...   \n",
       "87   Washington County, IN         18         175   1605    996   1010   1097   \n",
       "88        Wayne County, IN         18         177   4841   4368   4456   4734   \n",
       "89        Wells County, IN         18         179   2333   1698   1678   1880   \n",
       "90        White County, IN         18         181   1815   1567   1665   1632   \n",
       "91      Whitley County, IN         18         183   3260   2489   2265   2390   \n",
       "\n",
       "     2013   2014   2015   2016   2017  \n",
       "0    1972   1982   2061   2311   2116  \n",
       "1   39766  40197  40881  42160  42678  \n",
       "2    8422   9105   9697   9685  10155  \n",
       "3     656    673    709    753    744  \n",
       "4     571    619    575    546    506  \n",
       "..    ...    ...    ...    ...    ...  \n",
       "87   1211   1212   1177   1399   1425  \n",
       "88   4709   4870   4711   4611   4901  \n",
       "89   1959   2145   2214   2219   2368  \n",
       "90   1661   1614   1732   1730   1781  \n",
       "91   2365   2548   2619   2628   2880  \n",
       "\n",
       "[92 rows x 12 columns]"
      ]
     },
     "execution_count": 144,
     "metadata": {},
     "output_type": "execute_result"
    }
   ],
   "source": [
    "Ed_Att"
   ]
  },
  {
   "cell_type": "code",
   "execution_count": 259,
   "metadata": {
    "ExecuteTime": {
     "end_time": "2020-05-05T19:13:00.657343Z",
     "start_time": "2020-05-05T19:13:00.648368Z"
    }
   },
   "outputs": [],
   "source": [
    "time =  get_datetimes(Ed_Att, 'countyfips','%Y')"
   ]
  },
  {
   "cell_type": "code",
   "execution_count": 260,
   "metadata": {
    "ExecuteTime": {
     "end_time": "2020-05-05T19:13:04.899791Z",
     "start_time": "2020-05-05T19:13:04.895759Z"
    }
   },
   "outputs": [
    {
     "data": {
      "text/plain": [
       "DatetimeIndex(['2018-01-01', '2010-01-01', '2011-01-01', '2012-01-01',\n",
       "               '2013-01-01', '2014-01-01', '2015-01-01', '2016-01-01',\n",
       "               '2017-01-01'],\n",
       "              dtype='datetime64[ns]', freq=None)"
      ]
     },
     "execution_count": 260,
     "metadata": {},
     "output_type": "execute_result"
    }
   ],
   "source": [
    "time"
   ]
  },
  {
   "cell_type": "code",
   "execution_count": 261,
   "metadata": {
    "ExecuteTime": {
     "end_time": "2020-05-05T19:16:59.545218Z",
     "start_time": "2020-05-05T19:16:59.528219Z"
    }
   },
   "outputs": [
    {
     "data": {
      "text/html": [
       "<div>\n",
       "<style scoped>\n",
       "    .dataframe tbody tr th:only-of-type {\n",
       "        vertical-align: middle;\n",
       "    }\n",
       "\n",
       "    .dataframe tbody tr th {\n",
       "        vertical-align: top;\n",
       "    }\n",
       "\n",
       "    .dataframe thead th {\n",
       "        text-align: right;\n",
       "    }\n",
       "</style>\n",
       "<table border=\"1\" class=\"dataframe\">\n",
       "  <thead>\n",
       "    <tr style=\"text-align: right;\">\n",
       "      <th></th>\n",
       "      <th>RegionName</th>\n",
       "      <th>2018-01-01 00:00:00</th>\n",
       "      <th>2010-01-01 00:00:00</th>\n",
       "      <th>2011-01-01 00:00:00</th>\n",
       "      <th>2012-01-01 00:00:00</th>\n",
       "      <th>2013-01-01 00:00:00</th>\n",
       "      <th>2014-01-01 00:00:00</th>\n",
       "      <th>2015-01-01 00:00:00</th>\n",
       "      <th>2016-01-01 00:00:00</th>\n",
       "      <th>2017-01-01 00:00:00</th>\n",
       "    </tr>\n",
       "  </thead>\n",
       "  <tbody>\n",
       "    <tr>\n",
       "      <td>0</td>\n",
       "      <td>Adams County, IN</td>\n",
       "      <td>2242</td>\n",
       "      <td>1685</td>\n",
       "      <td>1722</td>\n",
       "      <td>1930</td>\n",
       "      <td>1972</td>\n",
       "      <td>1982</td>\n",
       "      <td>2061</td>\n",
       "      <td>2311</td>\n",
       "      <td>2116</td>\n",
       "    </tr>\n",
       "    <tr>\n",
       "      <td>1</td>\n",
       "      <td>Allen County, IN</td>\n",
       "      <td>44188</td>\n",
       "      <td>39680</td>\n",
       "      <td>39980</td>\n",
       "      <td>39948</td>\n",
       "      <td>39766</td>\n",
       "      <td>40197</td>\n",
       "      <td>40881</td>\n",
       "      <td>42160</td>\n",
       "      <td>42678</td>\n",
       "    </tr>\n",
       "    <tr>\n",
       "      <td>2</td>\n",
       "      <td>Bartholomew County, IN</td>\n",
       "      <td>10687</td>\n",
       "      <td>7834</td>\n",
       "      <td>7997</td>\n",
       "      <td>8196</td>\n",
       "      <td>8422</td>\n",
       "      <td>9105</td>\n",
       "      <td>9697</td>\n",
       "      <td>9685</td>\n",
       "      <td>10155</td>\n",
       "    </tr>\n",
       "    <tr>\n",
       "      <td>3</td>\n",
       "      <td>Benton County, IN</td>\n",
       "      <td>782</td>\n",
       "      <td>508</td>\n",
       "      <td>572</td>\n",
       "      <td>581</td>\n",
       "      <td>656</td>\n",
       "      <td>673</td>\n",
       "      <td>709</td>\n",
       "      <td>753</td>\n",
       "      <td>744</td>\n",
       "    </tr>\n",
       "    <tr>\n",
       "      <td>4</td>\n",
       "      <td>Blackford County, IN</td>\n",
       "      <td>611</td>\n",
       "      <td>693</td>\n",
       "      <td>608</td>\n",
       "      <td>596</td>\n",
       "      <td>571</td>\n",
       "      <td>619</td>\n",
       "      <td>575</td>\n",
       "      <td>546</td>\n",
       "      <td>506</td>\n",
       "    </tr>\n",
       "  </tbody>\n",
       "</table>\n",
       "</div>"
      ],
      "text/plain": [
       "               RegionName  2018-01-01 00:00:00  2010-01-01 00:00:00  \\\n",
       "0        Adams County, IN                 2242                 1685   \n",
       "1        Allen County, IN                44188                39680   \n",
       "2  Bartholomew County, IN                10687                 7834   \n",
       "3       Benton County, IN                  782                  508   \n",
       "4    Blackford County, IN                  611                  693   \n",
       "\n",
       "   2011-01-01 00:00:00  2012-01-01 00:00:00  2013-01-01 00:00:00  \\\n",
       "0                 1722                 1930                 1972   \n",
       "1                39980                39948                39766   \n",
       "2                 7997                 8196                 8422   \n",
       "3                  572                  581                  656   \n",
       "4                  608                  596                  571   \n",
       "\n",
       "   2014-01-01 00:00:00  2015-01-01 00:00:00  2016-01-01 00:00:00  \\\n",
       "0                 1982                 2061                 2311   \n",
       "1                40197                40881                42160   \n",
       "2                 9105                 9697                 9685   \n",
       "3                  673                  709                  753   \n",
       "4                  619                  575                  546   \n",
       "\n",
       "   2017-01-01 00:00:00  \n",
       "0                 2116  \n",
       "1                42678  \n",
       "2                10155  \n",
       "3                  744  \n",
       "4                  506  "
      ]
     },
     "execution_count": 261,
     "metadata": {},
     "output_type": "execute_result"
    }
   ],
   "source": [
    "df_Ed_Att = pd.DataFrame()\n",
    "df_Ed_Att['RegionName'] = Ed_Att['County']\n",
    "border = list(Ed_Att.columns).index('countyfips')+1\n",
    "df_Ed_Att[time] = Ed_Att[Ed_Att.columns[border:]]\n",
    "df_Ed_Att.head()"
   ]
  },
  {
   "cell_type": "code",
   "execution_count": 267,
   "metadata": {
    "ExecuteTime": {
     "end_time": "2020-05-05T19:23:26.341048Z",
     "start_time": "2020-05-05T19:23:26.336021Z"
    }
   },
   "outputs": [],
   "source": [
    "# a= df_Ed_Att.RegionName[0]\n",
    "# a[:-4]\n",
    "b= [a[:-4] for a in df_Ed_Att.RegionName]\n",
    "df_Ed_Att['RegionName'] = b"
   ]
  },
  {
   "cell_type": "code",
   "execution_count": 271,
   "metadata": {
    "ExecuteTime": {
     "end_time": "2020-05-05T19:25:38.327066Z",
     "start_time": "2020-05-05T19:25:38.323107Z"
    }
   },
   "outputs": [],
   "source": [
    "df_Ed_Att.set_index('RegionName', drop = True, inplace= True)"
   ]
  },
  {
   "cell_type": "code",
   "execution_count": 314,
   "metadata": {
    "ExecuteTime": {
     "end_time": "2020-05-05T22:17:57.361560Z",
     "start_time": "2020-05-05T22:17:57.356564Z"
    }
   },
   "outputs": [],
   "source": [
    "df_Ed_Att = df_Ed_Att.T\n",
    "df_Ed_Att.index = pd.DatetimeIndex(df_Ed_Att.index)"
   ]
  },
  {
   "cell_type": "code",
   "execution_count": 345,
   "metadata": {
    "ExecuteTime": {
     "end_time": "2020-05-05T22:31:28.088596Z",
     "start_time": "2020-05-05T22:31:28.084607Z"
    }
   },
   "outputs": [],
   "source": [
    "df_Ed_Att.sort_index(inplace = True)"
   ]
  },
  {
   "cell_type": "code",
   "execution_count": 348,
   "metadata": {
    "ExecuteTime": {
     "end_time": "2020-05-05T22:31:56.826958Z",
     "start_time": "2020-05-05T22:31:56.721957Z"
    }
   },
   "outputs": [
    {
     "data": {
      "text/plain": [
       "<matplotlib.axes._subplots.AxesSubplot at 0x22cb39e0608>"
      ]
     },
     "execution_count": 348,
     "metadata": {},
     "output_type": "execute_result"
    },
    {
     "data": {
      "image/png": "[encoded data removed]",
      "text/plain": [
       "<Figure size 432x288 with 1 Axes>"
      ]
     },
     "metadata": {
      "needs_background": "light"
     },
     "output_type": "display_data"
    }
   ],
   "source": [
    "df_Ed_Att['Marion County'].plot()"
   ]
  },
  {
   "cell_type": "code",
   "execution_count": 400,
   "metadata": {
    "ExecuteTime": {
     "end_time": "2020-05-05T22:49:40.383250Z",
     "start_time": "2020-05-05T22:49:40.234199Z"
    }
   },
   "outputs": [
    {
     "data": {
      "text/plain": [
       "<matplotlib.axes._subplots.AxesSubplot at 0x22cc4047a08>"
      ]
     },
     "execution_count": 400,
     "metadata": {},
     "output_type": "execute_result"
    },
    {
     "data": {
      "image/png": "[encoded data removed]",
      "text/plain": [
       "<Figure size 432x288 with 1 Axes>"
      ]
     },
     "metadata": {
      "needs_background": "light"
     },
     "output_type": "display_data"
    }
   ],
   "source": [
    "df_house_annualmean['Marion County'].plot()\n",
    "df_Ed_Att['Marion County'].plot()"
   ]
  },
  {
   "cell_type": "code",
   "execution_count": 485,
   "metadata": {
    "ExecuteTime": {
     "end_time": "2020-05-06T03:27:43.750313Z",
     "start_time": "2020-05-06T03:27:43.602283Z"
    }
   },
   "outputs": [
    {
     "data": {
      "text/plain": [
       "Text(0.5, 1.0, 'Marion County')"
      ]
     },
     "execution_count": 485,
     "metadata": {},
     "output_type": "execute_result"
    },
    {
     "data": {
      "image/png": "[encoded data removed]",
      "text/plain": [
       "<Figure size 432x288 with 1 Axes>"
      ]
     },
     "metadata": {
      "needs_background": "light"
     },
     "output_type": "display_data"
    }
   ],
   "source": [
    "df_house_annualmean[(2009<df_house_annualmean.index.year)&(df_house_annualmean.index.year<2019)]['Marion County'].plot(label='avg. house price')# df_Ed_Att['Marion County'].plot()\n",
    "df_Ed_Att['Marion County'].plot(label='Ed Att')\n",
    "plt.legend()\n",
    "plt.title('Marion County')"
   ]
  },
  {
   "cell_type": "markdown",
   "metadata": {},
   "source": [
    "### Saving Data"
   ]
  },
  {
   "cell_type": "code",
   "execution_count": 407,
   "metadata": {
    "ExecuteTime": {
     "end_time": "2020-05-05T22:51:51.982587Z",
     "start_time": "2020-05-05T22:51:51.979558Z"
    }
   },
   "outputs": [],
   "source": [
    "ProcessedData['df_Ed_Att'] = df_Ed_Att"
   ]
  },
  {
   "cell_type": "markdown",
   "metadata": {},
   "source": [
    "## House Permits"
   ]
  },
  {
   "cell_type": "code",
   "execution_count": 147,
   "metadata": {
    "ExecuteTime": {
     "end_time": "2020-05-04T16:03:13.567332Z",
     "start_time": "2020-05-04T16:02:32.817217Z"
    }
   },
   "outputs": [],
   "source": [
    "xls_permits = pd.ExcelFile('building_permits_combined 00_20.xlsx')"
   ]
  },
  {
   "cell_type": "code",
   "execution_count": 148,
   "metadata": {
    "ExecuteTime": {
     "end_time": "2020-05-04T16:04:25.726733Z",
     "start_time": "2020-05-04T16:04:25.599659Z"
    }
   },
   "outputs": [],
   "source": [
    "df00 = pd.read_excel(xls_permits,'00')"
   ]
  },
  {
   "cell_type": "code",
   "execution_count": 149,
   "metadata": {
    "ExecuteTime": {
     "end_time": "2020-05-04T16:04:32.719727Z",
     "start_time": "2020-05-04T16:04:32.704728Z"
    }
   },
   "outputs": [
    {
     "data": {
      "text/html": [
       "<div>\n",
       "<style scoped>\n",
       "    .dataframe tbody tr th:only-of-type {\n",
       "        vertical-align: middle;\n",
       "    }\n",
       "\n",
       "    .dataframe tbody tr th {\n",
       "        vertical-align: top;\n",
       "    }\n",
       "\n",
       "    .dataframe thead th {\n",
       "        text-align: right;\n",
       "    }\n",
       "</style>\n",
       "<table border=\"1\" class=\"dataframe\">\n",
       "  <thead>\n",
       "    <tr style=\"text-align: right;\">\n",
       "      <th></th>\n",
       "      <th>Survey</th>\n",
       "      <th>FIPS</th>\n",
       "      <th>FIPS.1</th>\n",
       "      <th>Region</th>\n",
       "      <th>Division</th>\n",
       "      <th>County</th>\n",
       "      <th>Unnamed: 6</th>\n",
       "      <th>1-unit</th>\n",
       "      <th>Unnamed: 8</th>\n",
       "      <th>Unnamed: 9</th>\n",
       "      <th>...</th>\n",
       "      <th>Unnamed: 20</th>\n",
       "      <th>Unnamed: 21</th>\n",
       "      <th>2-units rep</th>\n",
       "      <th>Unnamed: 23</th>\n",
       "      <th>Unnamed: 24</th>\n",
       "      <th>3-4 units rep</th>\n",
       "      <th>Unnamed: 26</th>\n",
       "      <th>Unnamed: 27</th>\n",
       "      <th>5+units rep</th>\n",
       "      <th>Unnamed: 29</th>\n",
       "    </tr>\n",
       "  </thead>\n",
       "  <tbody>\n",
       "    <tr>\n",
       "      <td>0</td>\n",
       "      <td>Date</td>\n",
       "      <td>State</td>\n",
       "      <td>County</td>\n",
       "      <td>Code</td>\n",
       "      <td>Code</td>\n",
       "      <td>Name</td>\n",
       "      <td>Bldgs</td>\n",
       "      <td>Units</td>\n",
       "      <td>Value</td>\n",
       "      <td>Bldgs</td>\n",
       "      <td>...</td>\n",
       "      <td>Value</td>\n",
       "      <td>Bldgs</td>\n",
       "      <td>Units</td>\n",
       "      <td>Value</td>\n",
       "      <td>Bldgs</td>\n",
       "      <td>Units</td>\n",
       "      <td>Value</td>\n",
       "      <td>Bldgs</td>\n",
       "      <td>Units</td>\n",
       "      <td>Value</td>\n",
       "    </tr>\n",
       "    <tr>\n",
       "      <td>1</td>\n",
       "      <td></td>\n",
       "      <td>NaN</td>\n",
       "      <td>NaN</td>\n",
       "      <td>NaN</td>\n",
       "      <td>NaN</td>\n",
       "      <td>NaN</td>\n",
       "      <td>NaN</td>\n",
       "      <td>NaN</td>\n",
       "      <td>NaN</td>\n",
       "      <td>NaN</td>\n",
       "      <td>...</td>\n",
       "      <td>NaN</td>\n",
       "      <td>NaN</td>\n",
       "      <td>NaN</td>\n",
       "      <td>NaN</td>\n",
       "      <td>NaN</td>\n",
       "      <td>NaN</td>\n",
       "      <td>NaN</td>\n",
       "      <td>NaN</td>\n",
       "      <td>NaN</td>\n",
       "      <td>NaN</td>\n",
       "    </tr>\n",
       "    <tr>\n",
       "      <td>2</td>\n",
       "      <td>200001</td>\n",
       "      <td>1</td>\n",
       "      <td>1</td>\n",
       "      <td>3</td>\n",
       "      <td>6</td>\n",
       "      <td>Autauga County</td>\n",
       "      <td>13</td>\n",
       "      <td>13</td>\n",
       "      <td>690525</td>\n",
       "      <td>0</td>\n",
       "      <td>...</td>\n",
       "      <td>690525</td>\n",
       "      <td>0</td>\n",
       "      <td>0</td>\n",
       "      <td>0</td>\n",
       "      <td>0</td>\n",
       "      <td>0</td>\n",
       "      <td>0</td>\n",
       "      <td>0</td>\n",
       "      <td>0</td>\n",
       "      <td>0</td>\n",
       "    </tr>\n",
       "    <tr>\n",
       "      <td>3</td>\n",
       "      <td>200001</td>\n",
       "      <td>1</td>\n",
       "      <td>81</td>\n",
       "      <td>3</td>\n",
       "      <td>6</td>\n",
       "      <td>Lee County</td>\n",
       "      <td>28</td>\n",
       "      <td>28</td>\n",
       "      <td>3392260</td>\n",
       "      <td>1</td>\n",
       "      <td>...</td>\n",
       "      <td>3392260</td>\n",
       "      <td>1</td>\n",
       "      <td>2</td>\n",
       "      <td>73788</td>\n",
       "      <td>2</td>\n",
       "      <td>6</td>\n",
       "      <td>658488</td>\n",
       "      <td>1</td>\n",
       "      <td>27</td>\n",
       "      <td>1434000</td>\n",
       "    </tr>\n",
       "    <tr>\n",
       "      <td>4</td>\n",
       "      <td>200001</td>\n",
       "      <td>1</td>\n",
       "      <td>113</td>\n",
       "      <td>3</td>\n",
       "      <td>6</td>\n",
       "      <td>Russell County</td>\n",
       "      <td>2</td>\n",
       "      <td>2</td>\n",
       "      <td>253000</td>\n",
       "      <td>1</td>\n",
       "      <td>...</td>\n",
       "      <td>253000</td>\n",
       "      <td>1</td>\n",
       "      <td>2</td>\n",
       "      <td>90000</td>\n",
       "      <td>0</td>\n",
       "      <td>0</td>\n",
       "      <td>0</td>\n",
       "      <td>0</td>\n",
       "      <td>0</td>\n",
       "      <td>0</td>\n",
       "    </tr>\n",
       "  </tbody>\n",
       "</table>\n",
       "<p>5 rows × 30 columns</p>\n",
       "</div>"
      ],
      "text/plain": [
       "   Survey   FIPS  FIPS.1 Region Division                          County  \\\n",
       "0    Date  State  County   Code     Code                            Name   \n",
       "1            NaN     NaN    NaN      NaN                             NaN   \n",
       "2  200001      1       1      3        6  Autauga County                   \n",
       "3  200001      1      81      3        6  Lee County                       \n",
       "4  200001      1     113      3        6  Russell County                   \n",
       "\n",
       "  Unnamed: 6 1-unit Unnamed: 8 Unnamed: 9  ... Unnamed: 20 Unnamed: 21  \\\n",
       "0      Bldgs  Units      Value      Bldgs  ...       Value       Bldgs   \n",
       "1        NaN    NaN        NaN        NaN  ...         NaN         NaN   \n",
       "2         13     13     690525          0  ...      690525           0   \n",
       "3         28     28    3392260          1  ...     3392260           1   \n",
       "4          2      2     253000          1  ...      253000           1   \n",
       "\n",
       "  2-units rep Unnamed: 23 Unnamed: 24 3-4 units rep Unnamed: 26 Unnamed: 27  \\\n",
       "0       Units       Value       Bldgs         Units       Value       Bldgs   \n",
       "1         NaN         NaN         NaN           NaN         NaN         NaN   \n",
       "2           0           0           0             0           0           0   \n",
       "3           2       73788           2             6      658488           1   \n",
       "4           2       90000           0             0           0           0   \n",
       "\n",
       "   5+units rep Unnamed: 29  \n",
       "0        Units       Value  \n",
       "1          NaN         NaN  \n",
       "2            0           0  \n",
       "3           27     1434000  \n",
       "4            0           0  \n",
       "\n",
       "[5 rows x 30 columns]"
      ]
     },
     "execution_count": 149,
     "metadata": {},
     "output_type": "execute_result"
    }
   ],
   "source": [
    "df00.head()"
   ]
  },
  {
   "cell_type": "code",
   "execution_count": 161,
   "metadata": {
    "ExecuteTime": {
     "end_time": "2020-05-05T14:44:06.415828Z",
     "start_time": "2020-05-05T14:44:06.411797Z"
    }
   },
   "outputs": [
    {
     "data": {
      "text/plain": [
       "Index(['Survey', 'FIPS', 'FIPS.1', 'Region', 'Division', 'County',\n",
       "       'Unnamed: 6', '1-unit', 'Unnamed: 8', 'Unnamed: 9', '2-units',\n",
       "       'Unnamed: 11', 'Unnamed: 12', '3-4 units', 'Unnamed: 14', 'Unnamed: 15',\n",
       "       '5+ units', 'Unnamed: 17', 'Unnamed: 18', '1-unit rep', 'Unnamed: 20',\n",
       "       'Unnamed: 21', '2-units rep', 'Unnamed: 23', 'Unnamed: 24',\n",
       "       '3-4 units rep', 'Unnamed: 26', 'Unnamed: 27', ' 5+units rep',\n",
       "       'Unnamed: 29'],\n",
       "      dtype='object')"
      ]
     },
     "execution_count": 161,
     "metadata": {},
     "output_type": "execute_result"
    }
   ],
   "source": [
    "df00.columns"
   ]
  },
  {
   "cell_type": "code",
   "execution_count": 162,
   "metadata": {
    "ExecuteTime": {
     "end_time": "2020-05-05T14:46:13.360794Z",
     "start_time": "2020-05-05T14:46:13.356789Z"
    }
   },
   "outputs": [],
   "source": [
    "lv1col = []\n",
    "for col in df00.columns:\n",
    "    if 'Unnamed:' in col:\n",
    "        continue\n",
    "    else:\n",
    "        lv1col.append(col)"
   ]
  },
  {
   "cell_type": "code",
   "execution_count": 163,
   "metadata": {
    "ExecuteTime": {
     "end_time": "2020-05-05T14:46:17.182094Z",
     "start_time": "2020-05-05T14:46:17.179094Z"
    }
   },
   "outputs": [
    {
     "data": {
      "text/plain": [
       "['Survey',\n",
       " 'FIPS',\n",
       " 'FIPS.1',\n",
       " 'Region',\n",
       " 'Division',\n",
       " 'County',\n",
       " '1-unit',\n",
       " '2-units',\n",
       " '3-4 units',\n",
       " '5+ units',\n",
       " '1-unit rep',\n",
       " '2-units rep',\n",
       " '3-4 units rep',\n",
       " ' 5+units rep']"
      ]
     },
     "execution_count": 163,
     "metadata": {},
     "output_type": "execute_result"
    }
   ],
   "source": [
    "lv1col"
   ]
  },
  {
   "cell_type": "code",
   "execution_count": 169,
   "metadata": {
    "ExecuteTime": {
     "end_time": "2020-05-05T14:59:40.225407Z",
     "start_time": "2020-05-05T14:59:40.220408Z"
    }
   },
   "outputs": [
    {
     "name": "stdout",
     "output_type": "stream",
     "text": [
      "(0, 'Survey')\n",
      "(1, 'FIPS')\n",
      "(2, 'FIPS.1')\n",
      "(3, 'Region')\n",
      "(4, 'Division')\n",
      "(5, 'County')\n",
      "(6, '1-unit')\n",
      "(7, '2-units')\n",
      "(8, '3-4 units')\n",
      "(9, '5+ units')\n",
      "(10, '1-unit rep')\n",
      "(11, '2-units rep')\n",
      "(12, '3-4 units rep')\n",
      "(13, ' 5+units rep')\n"
     ]
    }
   ],
   "source": [
    "for i, col1 in enumerate(lv1col):\n",
    "    print((i, col1))"
   ]
  },
  {
   "cell_type": "code",
   "execution_count": 176,
   "metadata": {
    "ExecuteTime": {
     "end_time": "2020-05-05T15:02:08.720628Z",
     "start_time": "2020-05-05T15:02:08.716659Z"
    }
   },
   "outputs": [
    {
     "data": {
      "text/plain": [
       "['Date', 'State', 'County', 'Code', 'Code', 'Name']"
      ]
     },
     "execution_count": 176,
     "metadata": {},
     "output_type": "execute_result"
    }
   ],
   "source": [
    "lv2_codes = list(df00.iloc[0].values[:6])\n",
    "lv2_codes"
   ]
  },
  {
   "cell_type": "code",
   "execution_count": 189,
   "metadata": {
    "ExecuteTime": {
     "end_time": "2020-05-05T15:07:58.833167Z",
     "start_time": "2020-05-05T15:07:58.828165Z"
    },
    "scrolled": true
   },
   "outputs": [],
   "source": [
    "lv2_codes = list(df00.iloc[0].values[:6])\n",
    "lv2_unit = list(df00.iloc[0].values[6:9])\n",
    "multilv_cols =[]\n",
    "for i, col1 in enumerate(lv1col):\n",
    "    if col1[0] in [str(i) for i in [1,2,3,5]]:\n",
    "        for col2 in lv2_unit:\n",
    "            multilv_cols.append((col1,col2))\n",
    "    elif col1 == ' 5+units rep':\n",
    "        for col2 in lv2_unit:\n",
    "            multilv_cols.append((col1,col2))\n",
    "    else:\n",
    "        multilv_cols.append((col1, lv2_codes[i]))\n",
    "#         print(col1, lv2_codes[i])"
   ]
  },
  {
   "cell_type": "code",
   "execution_count": 190,
   "metadata": {
    "ExecuteTime": {
     "end_time": "2020-05-05T15:08:10.058672Z",
     "start_time": "2020-05-05T15:08:10.052671Z"
    }
   },
   "outputs": [
    {
     "data": {
      "text/plain": [
       "[('Survey', 'Date'),\n",
       " ('FIPS', 'State'),\n",
       " ('FIPS.1', 'County'),\n",
       " ('Region', 'Code'),\n",
       " ('Division', 'Code'),\n",
       " ('County', 'Name'),\n",
       " ('1-unit', 'Bldgs'),\n",
       " ('1-unit', 'Units'),\n",
       " ('1-unit', 'Value'),\n",
       " ('2-units', 'Bldgs'),\n",
       " ('2-units', 'Units'),\n",
       " ('2-units', 'Value'),\n",
       " ('3-4 units', 'Bldgs'),\n",
       " ('3-4 units', 'Units'),\n",
       " ('3-4 units', 'Value'),\n",
       " ('5+ units', 'Bldgs'),\n",
       " ('5+ units', 'Units'),\n",
       " ('5+ units', 'Value'),\n",
       " ('1-unit rep', 'Bldgs'),\n",
       " ('1-unit rep', 'Units'),\n",
       " ('1-unit rep', 'Value'),\n",
       " ('2-units rep', 'Bldgs'),\n",
       " ('2-units rep', 'Units'),\n",
       " ('2-units rep', 'Value'),\n",
       " ('3-4 units rep', 'Bldgs'),\n",
       " ('3-4 units rep', 'Units'),\n",
       " ('3-4 units rep', 'Value'),\n",
       " (' 5+units rep', 'Bldgs'),\n",
       " (' 5+units rep', 'Units'),\n",
       " (' 5+units rep', 'Value')]"
      ]
     },
     "execution_count": 190,
     "metadata": {},
     "output_type": "execute_result"
    }
   ],
   "source": [
    "multilv_cols"
   ]
  },
  {
   "cell_type": "code",
   "execution_count": 194,
   "metadata": {
    "ExecuteTime": {
     "end_time": "2020-05-05T16:43:15.489644Z",
     "start_time": "2020-05-05T16:43:15.481670Z"
    }
   },
   "outputs": [],
   "source": [
    "multilv_cols_idx = pd.MultiIndex.from_tuples(multilv_cols)"
   ]
  },
  {
   "cell_type": "code",
   "execution_count": 199,
   "metadata": {
    "ExecuteTime": {
     "end_time": "2020-05-05T16:44:37.476885Z",
     "start_time": "2020-05-05T16:44:37.472884Z"
    }
   },
   "outputs": [
    {
     "data": {
      "text/plain": [
       "array([['200001', 1, 1, ..., 0, 0, 0],\n",
       "       ['200001', 1, 81, ..., 1, 27, 1434000],\n",
       "       ['200001', 1, 113, ..., 0, 0, 0],\n",
       "       ...,\n",
       "       ['200012', 55, 133, ..., 0, 0, 0],\n",
       "       ['200012', 56, 25, ..., 0, 0, 0],\n",
       "       ['200012', 56, 39, ..., 0, 0, 0]], dtype=object)"
      ]
     },
     "execution_count": 199,
     "metadata": {},
     "output_type": "execute_result"
    }
   ],
   "source": [
    "df00.values[2:]"
   ]
  },
  {
   "cell_type": "code",
   "execution_count": 200,
   "metadata": {
    "ExecuteTime": {
     "end_time": "2020-05-05T16:45:05.254990Z",
     "start_time": "2020-05-05T16:45:05.247963Z"
    }
   },
   "outputs": [],
   "source": [
    "df00_test = pd.DataFrame(df00.values[2:],\n",
    "                        columns= multilv_cols_idx)"
   ]
  },
  {
   "cell_type": "code",
   "execution_count": 201,
   "metadata": {
    "ExecuteTime": {
     "end_time": "2020-05-05T16:45:12.268532Z",
     "start_time": "2020-05-05T16:45:12.248531Z"
    }
   },
   "outputs": [
    {
     "data": {
      "text/html": [
       "<div>\n",
       "<style scoped>\n",
       "    .dataframe tbody tr th:only-of-type {\n",
       "        vertical-align: middle;\n",
       "    }\n",
       "\n",
       "    .dataframe tbody tr th {\n",
       "        vertical-align: top;\n",
       "    }\n",
       "\n",
       "    .dataframe thead tr th {\n",
       "        text-align: left;\n",
       "    }\n",
       "</style>\n",
       "<table border=\"1\" class=\"dataframe\">\n",
       "  <thead>\n",
       "    <tr>\n",
       "      <th></th>\n",
       "      <th>Survey</th>\n",
       "      <th>FIPS</th>\n",
       "      <th>FIPS.1</th>\n",
       "      <th>Region</th>\n",
       "      <th>Division</th>\n",
       "      <th>County</th>\n",
       "      <th colspan=\"3\" halign=\"left\">1-unit</th>\n",
       "      <th>2-units</th>\n",
       "      <th>...</th>\n",
       "      <th>1-unit rep</th>\n",
       "      <th colspan=\"3\" halign=\"left\">2-units rep</th>\n",
       "      <th colspan=\"3\" halign=\"left\">3-4 units rep</th>\n",
       "      <th colspan=\"3\" halign=\"left\">5+units rep</th>\n",
       "    </tr>\n",
       "    <tr>\n",
       "      <th></th>\n",
       "      <th>Date</th>\n",
       "      <th>State</th>\n",
       "      <th>County</th>\n",
       "      <th>Code</th>\n",
       "      <th>Code</th>\n",
       "      <th>Name</th>\n",
       "      <th>Bldgs</th>\n",
       "      <th>Units</th>\n",
       "      <th>Value</th>\n",
       "      <th>Bldgs</th>\n",
       "      <th>...</th>\n",
       "      <th>Value</th>\n",
       "      <th>Bldgs</th>\n",
       "      <th>Units</th>\n",
       "      <th>Value</th>\n",
       "      <th>Bldgs</th>\n",
       "      <th>Units</th>\n",
       "      <th>Value</th>\n",
       "      <th>Bldgs</th>\n",
       "      <th>Units</th>\n",
       "      <th>Value</th>\n",
       "    </tr>\n",
       "  </thead>\n",
       "  <tbody>\n",
       "    <tr>\n",
       "      <td>0</td>\n",
       "      <td>200001</td>\n",
       "      <td>1</td>\n",
       "      <td>1</td>\n",
       "      <td>3</td>\n",
       "      <td>6</td>\n",
       "      <td>Autauga County</td>\n",
       "      <td>13</td>\n",
       "      <td>13</td>\n",
       "      <td>690525</td>\n",
       "      <td>0</td>\n",
       "      <td>...</td>\n",
       "      <td>690525</td>\n",
       "      <td>0</td>\n",
       "      <td>0</td>\n",
       "      <td>0</td>\n",
       "      <td>0</td>\n",
       "      <td>0</td>\n",
       "      <td>0</td>\n",
       "      <td>0</td>\n",
       "      <td>0</td>\n",
       "      <td>0</td>\n",
       "    </tr>\n",
       "    <tr>\n",
       "      <td>1</td>\n",
       "      <td>200001</td>\n",
       "      <td>1</td>\n",
       "      <td>81</td>\n",
       "      <td>3</td>\n",
       "      <td>6</td>\n",
       "      <td>Lee County</td>\n",
       "      <td>28</td>\n",
       "      <td>28</td>\n",
       "      <td>3392260</td>\n",
       "      <td>1</td>\n",
       "      <td>...</td>\n",
       "      <td>3392260</td>\n",
       "      <td>1</td>\n",
       "      <td>2</td>\n",
       "      <td>73788</td>\n",
       "      <td>2</td>\n",
       "      <td>6</td>\n",
       "      <td>658488</td>\n",
       "      <td>1</td>\n",
       "      <td>27</td>\n",
       "      <td>1434000</td>\n",
       "    </tr>\n",
       "    <tr>\n",
       "      <td>2</td>\n",
       "      <td>200001</td>\n",
       "      <td>1</td>\n",
       "      <td>113</td>\n",
       "      <td>3</td>\n",
       "      <td>6</td>\n",
       "      <td>Russell County</td>\n",
       "      <td>2</td>\n",
       "      <td>2</td>\n",
       "      <td>253000</td>\n",
       "      <td>1</td>\n",
       "      <td>...</td>\n",
       "      <td>253000</td>\n",
       "      <td>1</td>\n",
       "      <td>2</td>\n",
       "      <td>90000</td>\n",
       "      <td>0</td>\n",
       "      <td>0</td>\n",
       "      <td>0</td>\n",
       "      <td>0</td>\n",
       "      <td>0</td>\n",
       "      <td>0</td>\n",
       "    </tr>\n",
       "    <tr>\n",
       "      <td>3</td>\n",
       "      <td>200001</td>\n",
       "      <td>1</td>\n",
       "      <td>125</td>\n",
       "      <td>3</td>\n",
       "      <td>6</td>\n",
       "      <td>Tuscaloosa County</td>\n",
       "      <td>52</td>\n",
       "      <td>52</td>\n",
       "      <td>4889075</td>\n",
       "      <td>4</td>\n",
       "      <td>...</td>\n",
       "      <td>4889075</td>\n",
       "      <td>4</td>\n",
       "      <td>8</td>\n",
       "      <td>464774</td>\n",
       "      <td>0</td>\n",
       "      <td>0</td>\n",
       "      <td>0</td>\n",
       "      <td>0</td>\n",
       "      <td>0</td>\n",
       "      <td>0</td>\n",
       "    </tr>\n",
       "    <tr>\n",
       "      <td>4</td>\n",
       "      <td>200001</td>\n",
       "      <td>2</td>\n",
       "      <td>13</td>\n",
       "      <td>4</td>\n",
       "      <td>9</td>\n",
       "      <td>Aleutians East Borough</td>\n",
       "      <td>0</td>\n",
       "      <td>0</td>\n",
       "      <td>0</td>\n",
       "      <td>0</td>\n",
       "      <td>...</td>\n",
       "      <td>0</td>\n",
       "      <td>0</td>\n",
       "      <td>0</td>\n",
       "      <td>0</td>\n",
       "      <td>0</td>\n",
       "      <td>0</td>\n",
       "      <td>0</td>\n",
       "      <td>0</td>\n",
       "      <td>0</td>\n",
       "      <td>0</td>\n",
       "    </tr>\n",
       "  </tbody>\n",
       "</table>\n",
       "<p>5 rows × 30 columns</p>\n",
       "</div>"
      ],
      "text/plain": [
       "   Survey  FIPS FIPS.1 Region Division                          County 1-unit  \\\n",
       "     Date State County   Code     Code                            Name  Bldgs   \n",
       "0  200001     1      1      3        6  Autauga County                     13   \n",
       "1  200001     1     81      3        6  Lee County                         28   \n",
       "2  200001     1    113      3        6  Russell County                      2   \n",
       "3  200001     1    125      3        6  Tuscaloosa County                  52   \n",
       "4  200001     2     13      4        9  Aleutians East Borough              0   \n",
       "\n",
       "                 2-units  ... 1-unit rep 2-units rep                \\\n",
       "  Units    Value   Bldgs  ...      Value       Bldgs Units   Value   \n",
       "0    13   690525       0  ...     690525           0     0       0   \n",
       "1    28  3392260       1  ...    3392260           1     2   73788   \n",
       "2     2   253000       1  ...     253000           1     2   90000   \n",
       "3    52  4889075       4  ...    4889075           4     8  464774   \n",
       "4     0        0       0  ...          0           0     0       0   \n",
       "\n",
       "  3-4 units rep                5+units rep                 \n",
       "          Bldgs Units   Value        Bldgs Units    Value  \n",
       "0             0     0       0            0     0        0  \n",
       "1             2     6  658488            1    27  1434000  \n",
       "2             0     0       0            0     0        0  \n",
       "3             0     0       0            0     0        0  \n",
       "4             0     0       0            0     0        0  \n",
       "\n",
       "[5 rows x 30 columns]"
      ]
     },
     "execution_count": 201,
     "metadata": {},
     "output_type": "execute_result"
    }
   ],
   "source": [
    "df00_test.head()"
   ]
  },
  {
   "cell_type": "code",
   "execution_count": 223,
   "metadata": {
    "ExecuteTime": {
     "end_time": "2020-05-05T17:48:56.906959Z",
     "start_time": "2020-05-05T17:48:56.900960Z"
    }
   },
   "outputs": [],
   "source": [
    "df00_test = df00_test[df00_test.FIPS.State == 18]"
   ]
  },
  {
   "cell_type": "code",
   "execution_count": 212,
   "metadata": {
    "ExecuteTime": {
     "end_time": "2020-05-05T17:02:31.903824Z",
     "start_time": "2020-05-05T17:02:29.961217Z"
    }
   },
   "outputs": [],
   "source": [
    "df00_test[('Multi_unit','Bldgs_total')] = df00_test[('1-unit',  'Bldgs')]+ df00_test[('2-units',  'Bldgs')] + df00_test[('3-4 units',  'Bldgs')] + df00_test[('5+ units',  'Bldgs')]\n"
   ]
  },
  {
   "cell_type": "code",
   "execution_count": 213,
   "metadata": {
    "ExecuteTime": {
     "end_time": "2020-05-05T17:03:12.616729Z",
     "start_time": "2020-05-05T17:03:12.609713Z"
    }
   },
   "outputs": [],
   "source": [
    "df00_test[('Multi_unit','Units_total')] = df00_test[('1-unit',  'Units')]+ df00_test[('2-units',  'Units')] + df00_test[('3-4 units',  'Units')] + df00_test[('5+ units',  'Units')]\n"
   ]
  },
  {
   "cell_type": "code",
   "execution_count": 224,
   "metadata": {
    "ExecuteTime": {
     "end_time": "2020-05-05T17:49:03.833873Z",
     "start_time": "2020-05-05T17:49:03.811899Z"
    },
    "scrolled": true
   },
   "outputs": [
    {
     "data": {
      "text/html": [
       "<div>\n",
       "<style scoped>\n",
       "    .dataframe tbody tr th:only-of-type {\n",
       "        vertical-align: middle;\n",
       "    }\n",
       "\n",
       "    .dataframe tbody tr th {\n",
       "        vertical-align: top;\n",
       "    }\n",
       "\n",
       "    .dataframe thead tr th {\n",
       "        text-align: left;\n",
       "    }\n",
       "</style>\n",
       "<table border=\"1\" class=\"dataframe\">\n",
       "  <thead>\n",
       "    <tr>\n",
       "      <th></th>\n",
       "      <th>Survey</th>\n",
       "      <th>FIPS</th>\n",
       "      <th>FIPS.1</th>\n",
       "      <th>Region</th>\n",
       "      <th>Division</th>\n",
       "      <th>County</th>\n",
       "      <th colspan=\"3\" halign=\"left\">1-unit</th>\n",
       "      <th>2-units</th>\n",
       "      <th>...</th>\n",
       "      <th colspan=\"2\" halign=\"left\">2-units rep</th>\n",
       "      <th colspan=\"3\" halign=\"left\">3-4 units rep</th>\n",
       "      <th colspan=\"3\" halign=\"left\">5+units rep</th>\n",
       "      <th colspan=\"2\" halign=\"left\">Multi_unit</th>\n",
       "    </tr>\n",
       "    <tr>\n",
       "      <th></th>\n",
       "      <th>Date</th>\n",
       "      <th>State</th>\n",
       "      <th>County</th>\n",
       "      <th>Code</th>\n",
       "      <th>Code</th>\n",
       "      <th>Name</th>\n",
       "      <th>Bldgs</th>\n",
       "      <th>Units</th>\n",
       "      <th>Value</th>\n",
       "      <th>Bldgs</th>\n",
       "      <th>...</th>\n",
       "      <th>Units</th>\n",
       "      <th>Value</th>\n",
       "      <th>Bldgs</th>\n",
       "      <th>Units</th>\n",
       "      <th>Value</th>\n",
       "      <th>Bldgs</th>\n",
       "      <th>Units</th>\n",
       "      <th>Value</th>\n",
       "      <th>Bldgs_total</th>\n",
       "      <th>Units_total</th>\n",
       "    </tr>\n",
       "  </thead>\n",
       "  <tbody>\n",
       "    <tr>\n",
       "      <td>210</td>\n",
       "      <td>200001</td>\n",
       "      <td>18</td>\n",
       "      <td>3</td>\n",
       "      <td>2</td>\n",
       "      <td>3</td>\n",
       "      <td>Allen County</td>\n",
       "      <td>83</td>\n",
       "      <td>83</td>\n",
       "      <td>12117305</td>\n",
       "      <td>1</td>\n",
       "      <td>...</td>\n",
       "      <td>2</td>\n",
       "      <td>200000</td>\n",
       "      <td>0</td>\n",
       "      <td>0</td>\n",
       "      <td>0</td>\n",
       "      <td>0</td>\n",
       "      <td>0</td>\n",
       "      <td>0</td>\n",
       "      <td>84</td>\n",
       "      <td>85</td>\n",
       "    </tr>\n",
       "    <tr>\n",
       "      <td>211</td>\n",
       "      <td>200001</td>\n",
       "      <td>18</td>\n",
       "      <td>11</td>\n",
       "      <td>2</td>\n",
       "      <td>3</td>\n",
       "      <td>Boone County</td>\n",
       "      <td>30</td>\n",
       "      <td>30</td>\n",
       "      <td>4666640</td>\n",
       "      <td>0</td>\n",
       "      <td>...</td>\n",
       "      <td>0</td>\n",
       "      <td>0</td>\n",
       "      <td>0</td>\n",
       "      <td>0</td>\n",
       "      <td>0</td>\n",
       "      <td>0</td>\n",
       "      <td>0</td>\n",
       "      <td>0</td>\n",
       "      <td>30</td>\n",
       "      <td>30</td>\n",
       "    </tr>\n",
       "    <tr>\n",
       "      <td>212</td>\n",
       "      <td>200001</td>\n",
       "      <td>18</td>\n",
       "      <td>13</td>\n",
       "      <td>2</td>\n",
       "      <td>3</td>\n",
       "      <td>Brown County</td>\n",
       "      <td>8</td>\n",
       "      <td>8</td>\n",
       "      <td>457113</td>\n",
       "      <td>0</td>\n",
       "      <td>...</td>\n",
       "      <td>0</td>\n",
       "      <td>0</td>\n",
       "      <td>0</td>\n",
       "      <td>0</td>\n",
       "      <td>0</td>\n",
       "      <td>0</td>\n",
       "      <td>0</td>\n",
       "      <td>0</td>\n",
       "      <td>8</td>\n",
       "      <td>8</td>\n",
       "    </tr>\n",
       "    <tr>\n",
       "      <td>213</td>\n",
       "      <td>200001</td>\n",
       "      <td>18</td>\n",
       "      <td>19</td>\n",
       "      <td>2</td>\n",
       "      <td>3</td>\n",
       "      <td>Clark County</td>\n",
       "      <td>46</td>\n",
       "      <td>46</td>\n",
       "      <td>6343094</td>\n",
       "      <td>2</td>\n",
       "      <td>...</td>\n",
       "      <td>4</td>\n",
       "      <td>165000</td>\n",
       "      <td>0</td>\n",
       "      <td>0</td>\n",
       "      <td>0</td>\n",
       "      <td>0</td>\n",
       "      <td>0</td>\n",
       "      <td>0</td>\n",
       "      <td>48</td>\n",
       "      <td>50</td>\n",
       "    </tr>\n",
       "    <tr>\n",
       "      <td>214</td>\n",
       "      <td>200001</td>\n",
       "      <td>18</td>\n",
       "      <td>27</td>\n",
       "      <td>2</td>\n",
       "      <td>3</td>\n",
       "      <td>Daviess County</td>\n",
       "      <td>5</td>\n",
       "      <td>5</td>\n",
       "      <td>794785</td>\n",
       "      <td>0</td>\n",
       "      <td>...</td>\n",
       "      <td>0</td>\n",
       "      <td>0</td>\n",
       "      <td>0</td>\n",
       "      <td>0</td>\n",
       "      <td>0</td>\n",
       "      <td>0</td>\n",
       "      <td>0</td>\n",
       "      <td>0</td>\n",
       "      <td>5</td>\n",
       "      <td>5</td>\n",
       "    </tr>\n",
       "  </tbody>\n",
       "</table>\n",
       "<p>5 rows × 32 columns</p>\n",
       "</div>"
      ],
      "text/plain": [
       "     Survey  FIPS FIPS.1 Region Division                          County  \\\n",
       "       Date State County   Code     Code                            Name   \n",
       "210  200001    18      3      2        3  Allen County                     \n",
       "211  200001    18     11      2        3  Boone County                     \n",
       "212  200001    18     13      2        3  Brown County                     \n",
       "213  200001    18     19      2        3  Clark County                     \n",
       "214  200001    18     27      2        3  Daviess County                   \n",
       "\n",
       "    1-unit                 2-units  ... 2-units rep         3-4 units rep  \\\n",
       "     Bldgs Units     Value   Bldgs  ...       Units   Value         Bldgs   \n",
       "210     83    83  12117305       1  ...           2  200000             0   \n",
       "211     30    30   4666640       0  ...           0       0             0   \n",
       "212      8     8    457113       0  ...           0       0             0   \n",
       "213     46    46   6343094       2  ...           4  165000             0   \n",
       "214      5     5    794785       0  ...           0       0             0   \n",
       "\n",
       "                 5+units rep              Multi_unit              \n",
       "    Units Value        Bldgs Units Value Bldgs_total Units_total  \n",
       "210     0     0            0     0     0          84          85  \n",
       "211     0     0            0     0     0          30          30  \n",
       "212     0     0            0     0     0           8           8  \n",
       "213     0     0            0     0     0          48          50  \n",
       "214     0     0            0     0     0           5           5  \n",
       "\n",
       "[5 rows x 32 columns]"
      ]
     },
     "execution_count": 224,
     "metadata": {},
     "output_type": "execute_result"
    }
   ],
   "source": [
    "df00_test.head()"
   ]
  },
  {
   "cell_type": "code",
   "execution_count": 220,
   "metadata": {
    "ExecuteTime": {
     "end_time": "2020-05-05T17:47:27.535730Z",
     "start_time": "2020-05-05T17:47:24.082610Z"
    }
   },
   "outputs": [],
   "source": [
    "buildingPermits_IN= {}\n",
    "buildingPermits_IN['2000'] = df00_test\n",
    "for i in range(1,20):\n",
    "    if i < 10:\n",
    "        sheet = '0'+str(i)\n",
    "    else:\n",
    "        sheet = str(i)\n",
    "    df = pd.read_excel(xls_permits,sheet)#load the excel sheet\n",
    "    df_new = pd.DataFrame(df.values[2:],\n",
    "                        columns= multilv_cols_idx)\n",
    "    df_new = df_new[df_new.FIPS.State == 18]\n",
    "    df_new[('Multi_unit','Bldgs_total')] = df_new[('1-unit',  'Bldgs')]+ df_new[('2-units',  'Bldgs')] + df_new[('3-4 units',  'Bldgs')] + df_new[('5+ units',  'Bldgs')]\n",
    "    df_new[('Multi_unit','Units_total')] = df_new[('1-unit',  'Units')]+ df_new[('2-units',  'Units')] + df_new[('3-4 units',  'Units')] + df_new[('5+ units',  'Units')]\n",
    "    year = '20'+ str(i)\n",
    "    buildingPermits_IN[year] = df_new"
   ]
  },
  {
   "cell_type": "code",
   "execution_count": 226,
   "metadata": {
    "ExecuteTime": {
     "end_time": "2020-05-05T17:49:23.643626Z",
     "start_time": "2020-05-05T17:49:23.639593Z"
    }
   },
   "outputs": [
    {
     "name": "stdout",
     "output_type": "stream",
     "text": [
      "(349, 32)\n",
      "(408, 32)\n",
      "(408, 32)\n",
      "(415, 32)\n",
      "(576, 32)\n",
      "(409, 32)\n",
      "(420, 32)\n",
      "(430, 32)\n",
      "(431, 32)\n",
      "(443, 32)\n",
      "(444, 32)\n",
      "(444, 32)\n",
      "(444, 32)\n",
      "(444, 32)\n",
      "(444, 32)\n",
      "(348, 32)\n",
      "(348, 32)\n",
      "(348, 32)\n",
      "(348, 32)\n",
      "(348, 32)\n"
     ]
    }
   ],
   "source": [
    "for key in buildingPermits_IN.keys():\n",
    "    print(buildingPermits_IN[key].shape)"
   ]
  },
  {
   "cell_type": "code",
   "execution_count": 232,
   "metadata": {
    "ExecuteTime": {
     "end_time": "2020-05-05T17:56:08.107795Z",
     "start_time": "2020-05-05T17:56:08.090796Z"
    }
   },
   "outputs": [
    {
     "name": "stdout",
     "output_type": "stream",
     "text": [
      "unique number of counties of 2000: 34\n",
      "unique number of counties of 201: 34\n",
      "unique number of counties of 202: 34\n",
      "unique number of counties of 203: 35\n",
      "unique number of counties of 204: 48\n",
      "unique number of counties of 205: 35\n",
      "unique number of counties of 206: 35\n",
      "unique number of counties of 207: 36\n",
      "unique number of counties of 208: 36\n",
      "unique number of counties of 209: 37\n",
      "unique number of counties of 2010: 37\n",
      "unique number of counties of 2011: 37\n",
      "unique number of counties of 2012: 37\n",
      "unique number of counties of 2013: 37\n",
      "unique number of counties of 2014: 37\n",
      "unique number of counties of 2015: 29\n",
      "unique number of counties of 2016: 29\n",
      "unique number of counties of 2017: 29\n",
      "unique number of counties of 2018: 29\n",
      "unique number of counties of 2019: 29\n"
     ]
    }
   ],
   "source": [
    "for key in buildingPermits_IN.keys():\n",
    "    print('unique number of counties of {}:'.format(key), len(buildingPermits_IN[key][(       'FIPS.1',      'County')].unique()))"
   ]
  },
  {
   "cell_type": "code",
   "execution_count": 233,
   "metadata": {
    "ExecuteTime": {
     "end_time": "2020-05-05T17:57:37.990939Z",
     "start_time": "2020-05-05T17:57:37.986906Z"
    }
   },
   "outputs": [
    {
     "data": {
      "text/plain": [
       "array([3, 11, 13, 19, 47, 57, 59, 61, 63, 69, 73, 81, 87, 89, 97, 105,\n",
       "       109, 111, 115, 119, 127, 133, 145, 151, 157, 163, 167, 175, 183],\n",
       "      dtype=object)"
      ]
     },
     "execution_count": 233,
     "metadata": {},
     "output_type": "execute_result"
    }
   ],
   "source": [
    "buildingPermits_IN[key][(       'FIPS.1',      'County')].unique()"
   ]
  },
  {
   "cell_type": "code",
   "execution_count": 234,
   "metadata": {
    "ExecuteTime": {
     "end_time": "2020-05-05T17:59:08.674830Z",
     "start_time": "2020-05-05T17:59:08.650829Z"
    },
    "scrolled": true
   },
   "outputs": [
    {
     "data": {
      "text/html": [
       "<div>\n",
       "<style scoped>\n",
       "    .dataframe tbody tr th:only-of-type {\n",
       "        vertical-align: middle;\n",
       "    }\n",
       "\n",
       "    .dataframe tbody tr th {\n",
       "        vertical-align: top;\n",
       "    }\n",
       "\n",
       "    .dataframe thead tr th {\n",
       "        text-align: left;\n",
       "    }\n",
       "</style>\n",
       "<table border=\"1\" class=\"dataframe\">\n",
       "  <thead>\n",
       "    <tr>\n",
       "      <th></th>\n",
       "      <th>Survey</th>\n",
       "      <th>FIPS</th>\n",
       "      <th>FIPS.1</th>\n",
       "      <th>Region</th>\n",
       "      <th>Division</th>\n",
       "      <th>County</th>\n",
       "      <th colspan=\"3\" halign=\"left\">1-unit</th>\n",
       "      <th>2-units</th>\n",
       "      <th>...</th>\n",
       "      <th colspan=\"2\" halign=\"left\">2-units rep</th>\n",
       "      <th colspan=\"3\" halign=\"left\">3-4 units rep</th>\n",
       "      <th colspan=\"3\" halign=\"left\">5+units rep</th>\n",
       "      <th colspan=\"2\" halign=\"left\">Multi_unit</th>\n",
       "    </tr>\n",
       "    <tr>\n",
       "      <th></th>\n",
       "      <th>Date</th>\n",
       "      <th>State</th>\n",
       "      <th>County</th>\n",
       "      <th>Code</th>\n",
       "      <th>Code</th>\n",
       "      <th>Name</th>\n",
       "      <th>Bldgs</th>\n",
       "      <th>Units</th>\n",
       "      <th>Value</th>\n",
       "      <th>Bldgs</th>\n",
       "      <th>...</th>\n",
       "      <th>Units</th>\n",
       "      <th>Value</th>\n",
       "      <th>Bldgs</th>\n",
       "      <th>Units</th>\n",
       "      <th>Value</th>\n",
       "      <th>Bldgs</th>\n",
       "      <th>Units</th>\n",
       "      <th>Value</th>\n",
       "      <th>Bldgs_total</th>\n",
       "      <th>Units_total</th>\n",
       "    </tr>\n",
       "  </thead>\n",
       "  <tbody>\n",
       "    <tr>\n",
       "      <td>210</td>\n",
       "      <td>200001</td>\n",
       "      <td>18</td>\n",
       "      <td>3</td>\n",
       "      <td>2</td>\n",
       "      <td>3</td>\n",
       "      <td>Allen County</td>\n",
       "      <td>83</td>\n",
       "      <td>83</td>\n",
       "      <td>12117305</td>\n",
       "      <td>1</td>\n",
       "      <td>...</td>\n",
       "      <td>2</td>\n",
       "      <td>200000</td>\n",
       "      <td>0</td>\n",
       "      <td>0</td>\n",
       "      <td>0</td>\n",
       "      <td>0</td>\n",
       "      <td>0</td>\n",
       "      <td>0</td>\n",
       "      <td>84</td>\n",
       "      <td>85</td>\n",
       "    </tr>\n",
       "    <tr>\n",
       "      <td>932</td>\n",
       "      <td>200002</td>\n",
       "      <td>18</td>\n",
       "      <td>3</td>\n",
       "      <td>2</td>\n",
       "      <td>3</td>\n",
       "      <td>Allen County</td>\n",
       "      <td>110</td>\n",
       "      <td>110</td>\n",
       "      <td>18089303</td>\n",
       "      <td>0</td>\n",
       "      <td>...</td>\n",
       "      <td>0</td>\n",
       "      <td>0</td>\n",
       "      <td>0</td>\n",
       "      <td>0</td>\n",
       "      <td>0</td>\n",
       "      <td>0</td>\n",
       "      <td>0</td>\n",
       "      <td>0</td>\n",
       "      <td>110</td>\n",
       "      <td>110</td>\n",
       "    </tr>\n",
       "    <tr>\n",
       "      <td>1641</td>\n",
       "      <td>200003</td>\n",
       "      <td>18</td>\n",
       "      <td>3</td>\n",
       "      <td>2</td>\n",
       "      <td>3</td>\n",
       "      <td>Allen County</td>\n",
       "      <td>178</td>\n",
       "      <td>178</td>\n",
       "      <td>30835057</td>\n",
       "      <td>0</td>\n",
       "      <td>...</td>\n",
       "      <td>0</td>\n",
       "      <td>0</td>\n",
       "      <td>0</td>\n",
       "      <td>0</td>\n",
       "      <td>0</td>\n",
       "      <td>0</td>\n",
       "      <td>0</td>\n",
       "      <td>0</td>\n",
       "      <td>178</td>\n",
       "      <td>178</td>\n",
       "    </tr>\n",
       "    <tr>\n",
       "      <td>2352</td>\n",
       "      <td>200004</td>\n",
       "      <td>18</td>\n",
       "      <td>3</td>\n",
       "      <td>2</td>\n",
       "      <td>3</td>\n",
       "      <td>Allen County</td>\n",
       "      <td>158</td>\n",
       "      <td>158</td>\n",
       "      <td>25961110</td>\n",
       "      <td>4</td>\n",
       "      <td>...</td>\n",
       "      <td>8</td>\n",
       "      <td>598548</td>\n",
       "      <td>0</td>\n",
       "      <td>0</td>\n",
       "      <td>0</td>\n",
       "      <td>1</td>\n",
       "      <td>30</td>\n",
       "      <td>675000</td>\n",
       "      <td>163</td>\n",
       "      <td>196</td>\n",
       "    </tr>\n",
       "    <tr>\n",
       "      <td>3072</td>\n",
       "      <td>200005</td>\n",
       "      <td>18</td>\n",
       "      <td>3</td>\n",
       "      <td>2</td>\n",
       "      <td>3</td>\n",
       "      <td>Allen County</td>\n",
       "      <td>143</td>\n",
       "      <td>143</td>\n",
       "      <td>24826319</td>\n",
       "      <td>1</td>\n",
       "      <td>...</td>\n",
       "      <td>2</td>\n",
       "      <td>96000</td>\n",
       "      <td>0</td>\n",
       "      <td>0</td>\n",
       "      <td>0</td>\n",
       "      <td>0</td>\n",
       "      <td>0</td>\n",
       "      <td>0</td>\n",
       "      <td>144</td>\n",
       "      <td>145</td>\n",
       "    </tr>\n",
       "    <tr>\n",
       "      <td>3793</td>\n",
       "      <td>200006</td>\n",
       "      <td>18</td>\n",
       "      <td>3</td>\n",
       "      <td>2</td>\n",
       "      <td>3</td>\n",
       "      <td>Allen County</td>\n",
       "      <td>204</td>\n",
       "      <td>204</td>\n",
       "      <td>30155141</td>\n",
       "      <td>1</td>\n",
       "      <td>...</td>\n",
       "      <td>2</td>\n",
       "      <td>87450</td>\n",
       "      <td>1</td>\n",
       "      <td>4</td>\n",
       "      <td>258000</td>\n",
       "      <td>0</td>\n",
       "      <td>0</td>\n",
       "      <td>0</td>\n",
       "      <td>206</td>\n",
       "      <td>210</td>\n",
       "    </tr>\n",
       "    <tr>\n",
       "      <td>4515</td>\n",
       "      <td>200007</td>\n",
       "      <td>18</td>\n",
       "      <td>3</td>\n",
       "      <td>2</td>\n",
       "      <td>3</td>\n",
       "      <td>Allen County</td>\n",
       "      <td>122</td>\n",
       "      <td>122</td>\n",
       "      <td>19519191</td>\n",
       "      <td>0</td>\n",
       "      <td>...</td>\n",
       "      <td>0</td>\n",
       "      <td>0</td>\n",
       "      <td>0</td>\n",
       "      <td>0</td>\n",
       "      <td>0</td>\n",
       "      <td>0</td>\n",
       "      <td>0</td>\n",
       "      <td>0</td>\n",
       "      <td>122</td>\n",
       "      <td>122</td>\n",
       "    </tr>\n",
       "    <tr>\n",
       "      <td>5223</td>\n",
       "      <td>200008</td>\n",
       "      <td>18</td>\n",
       "      <td>3</td>\n",
       "      <td>2</td>\n",
       "      <td>3</td>\n",
       "      <td>Allen County</td>\n",
       "      <td>146</td>\n",
       "      <td>146</td>\n",
       "      <td>19854700</td>\n",
       "      <td>1</td>\n",
       "      <td>...</td>\n",
       "      <td>2</td>\n",
       "      <td>165084</td>\n",
       "      <td>0</td>\n",
       "      <td>0</td>\n",
       "      <td>0</td>\n",
       "      <td>0</td>\n",
       "      <td>0</td>\n",
       "      <td>0</td>\n",
       "      <td>147</td>\n",
       "      <td>148</td>\n",
       "    </tr>\n",
       "    <tr>\n",
       "      <td>5938</td>\n",
       "      <td>200009</td>\n",
       "      <td>18</td>\n",
       "      <td>3</td>\n",
       "      <td>2</td>\n",
       "      <td>3</td>\n",
       "      <td>Allen County</td>\n",
       "      <td>156</td>\n",
       "      <td>156</td>\n",
       "      <td>24077784</td>\n",
       "      <td>22</td>\n",
       "      <td>...</td>\n",
       "      <td>44</td>\n",
       "      <td>2042755</td>\n",
       "      <td>1</td>\n",
       "      <td>4</td>\n",
       "      <td>400000</td>\n",
       "      <td>5</td>\n",
       "      <td>40</td>\n",
       "      <td>1340400</td>\n",
       "      <td>184</td>\n",
       "      <td>244</td>\n",
       "    </tr>\n",
       "    <tr>\n",
       "      <td>6663</td>\n",
       "      <td>200010</td>\n",
       "      <td>18</td>\n",
       "      <td>3</td>\n",
       "      <td>2</td>\n",
       "      <td>3</td>\n",
       "      <td>Allen County</td>\n",
       "      <td>139</td>\n",
       "      <td>139</td>\n",
       "      <td>22147288</td>\n",
       "      <td>1</td>\n",
       "      <td>...</td>\n",
       "      <td>2</td>\n",
       "      <td>103500</td>\n",
       "      <td>0</td>\n",
       "      <td>0</td>\n",
       "      <td>0</td>\n",
       "      <td>0</td>\n",
       "      <td>0</td>\n",
       "      <td>0</td>\n",
       "      <td>140</td>\n",
       "      <td>141</td>\n",
       "    </tr>\n",
       "    <tr>\n",
       "      <td>7383</td>\n",
       "      <td>200011</td>\n",
       "      <td>18</td>\n",
       "      <td>3</td>\n",
       "      <td>2</td>\n",
       "      <td>3</td>\n",
       "      <td>Allen County</td>\n",
       "      <td>128</td>\n",
       "      <td>128</td>\n",
       "      <td>21655142</td>\n",
       "      <td>0</td>\n",
       "      <td>...</td>\n",
       "      <td>0</td>\n",
       "      <td>0</td>\n",
       "      <td>0</td>\n",
       "      <td>0</td>\n",
       "      <td>0</td>\n",
       "      <td>0</td>\n",
       "      <td>0</td>\n",
       "      <td>0</td>\n",
       "      <td>128</td>\n",
       "      <td>128</td>\n",
       "    </tr>\n",
       "    <tr>\n",
       "      <td>8130</td>\n",
       "      <td>200012</td>\n",
       "      <td>18</td>\n",
       "      <td>3</td>\n",
       "      <td>2</td>\n",
       "      <td>3</td>\n",
       "      <td>Allen County</td>\n",
       "      <td>81</td>\n",
       "      <td>81</td>\n",
       "      <td>12988055</td>\n",
       "      <td>1</td>\n",
       "      <td>...</td>\n",
       "      <td>2</td>\n",
       "      <td>184084</td>\n",
       "      <td>0</td>\n",
       "      <td>0</td>\n",
       "      <td>0</td>\n",
       "      <td>0</td>\n",
       "      <td>0</td>\n",
       "      <td>0</td>\n",
       "      <td>82</td>\n",
       "      <td>83</td>\n",
       "    </tr>\n",
       "  </tbody>\n",
       "</table>\n",
       "<p>12 rows × 32 columns</p>\n",
       "</div>"
      ],
      "text/plain": [
       "      Survey  FIPS FIPS.1 Region Division                          County  \\\n",
       "        Date State County   Code     Code                            Name   \n",
       "210   200001    18      3      2        3  Allen County                     \n",
       "932   200002    18      3      2        3  Allen County                     \n",
       "1641  200003    18      3      2        3  Allen County                     \n",
       "2352  200004    18      3      2        3  Allen County                     \n",
       "3072  200005    18      3      2        3  Allen County                     \n",
       "3793  200006    18      3      2        3  Allen County                     \n",
       "4515  200007    18      3      2        3  Allen County                     \n",
       "5223  200008    18      3      2        3  Allen County                     \n",
       "5938  200009    18      3      2        3  Allen County                     \n",
       "6663  200010    18      3      2        3  Allen County                     \n",
       "7383  200011    18      3      2        3  Allen County                     \n",
       "8130  200012    18      3      2        3  Allen County                     \n",
       "\n",
       "     1-unit                 2-units  ... 2-units rep          3-4 units rep  \\\n",
       "      Bldgs Units     Value   Bldgs  ...       Units    Value         Bldgs   \n",
       "210      83    83  12117305       1  ...           2   200000             0   \n",
       "932     110   110  18089303       0  ...           0        0             0   \n",
       "1641    178   178  30835057       0  ...           0        0             0   \n",
       "2352    158   158  25961110       4  ...           8   598548             0   \n",
       "3072    143   143  24826319       1  ...           2    96000             0   \n",
       "3793    204   204  30155141       1  ...           2    87450             1   \n",
       "4515    122   122  19519191       0  ...           0        0             0   \n",
       "5223    146   146  19854700       1  ...           2   165084             0   \n",
       "5938    156   156  24077784      22  ...          44  2042755             1   \n",
       "6663    139   139  22147288       1  ...           2   103500             0   \n",
       "7383    128   128  21655142       0  ...           0        0             0   \n",
       "8130     81    81  12988055       1  ...           2   184084             0   \n",
       "\n",
       "                    5+units rep                 Multi_unit              \n",
       "     Units   Value        Bldgs Units    Value Bldgs_total Units_total  \n",
       "210      0       0            0     0        0          84          85  \n",
       "932      0       0            0     0        0         110         110  \n",
       "1641     0       0            0     0        0         178         178  \n",
       "2352     0       0            1    30   675000         163         196  \n",
       "3072     0       0            0     0        0         144         145  \n",
       "3793     4  258000            0     0        0         206         210  \n",
       "4515     0       0            0     0        0         122         122  \n",
       "5223     0       0            0     0        0         147         148  \n",
       "5938     4  400000            5    40  1340400         184         244  \n",
       "6663     0       0            0     0        0         140         141  \n",
       "7383     0       0            0     0        0         128         128  \n",
       "8130     0       0            0     0        0          82          83  \n",
       "\n",
       "[12 rows x 32 columns]"
      ]
     },
     "execution_count": 234,
     "metadata": {},
     "output_type": "execute_result"
    }
   ],
   "source": [
    "df00 = buildingPermits_IN['2000']\n",
    "df00[df00[(       'FIPS.1',      'County')]==3]"
   ]
  },
  {
   "cell_type": "code",
   "execution_count": 236,
   "metadata": {
    "ExecuteTime": {
     "end_time": "2020-05-05T18:01:39.464913Z",
     "start_time": "2020-05-05T18:01:39.458913Z"
    }
   },
   "outputs": [
    {
     "data": {
      "text/plain": [
       "pandas.core.frame.DataFrame"
      ]
     },
     "execution_count": 236,
     "metadata": {},
     "output_type": "execute_result"
    }
   ],
   "source": [
    "type(df00[df00[(       'FIPS.1',      'County')]==3])"
   ]
  },
  {
   "cell_type": "code",
   "execution_count": 235,
   "metadata": {
    "ExecuteTime": {
     "end_time": "2020-05-05T18:00:27.030426Z",
     "start_time": "2020-05-05T18:00:27.019427Z"
    }
   },
   "outputs": [
    {
     "name": "stdout",
     "output_type": "stream",
     "text": [
      "(349, 32) 408\n",
      "(408, 32) 408\n",
      "(408, 32) 408\n",
      "(415, 32) 420\n",
      "(576, 32) 576\n",
      "(409, 32) 420\n",
      "(420, 32) 420\n",
      "(430, 32) 432\n",
      "(431, 32) 432\n",
      "(443, 32) 444\n",
      "(444, 32) 444\n",
      "(444, 32) 444\n",
      "(444, 32) 444\n",
      "(444, 32) 444\n",
      "(444, 32) 444\n",
      "(348, 32) 348\n",
      "(348, 32) 348\n",
      "(348, 32) 348\n",
      "(348, 32) 348\n",
      "(348, 32) 348\n"
     ]
    }
   ],
   "source": [
    "for key in buildingPermits_IN.keys():\n",
    "    print(buildingPermits_IN[key].shape, len(buildingPermits_IN[key][(       'FIPS.1',      'County')].unique())*12)"
   ]
  },
  {
   "cell_type": "code",
   "execution_count": 232,
   "metadata": {
    "ExecuteTime": {
     "end_time": "2020-05-05T17:56:08.107795Z",
     "start_time": "2020-05-05T17:56:08.090796Z"
    }
   },
   "outputs": [
    {
     "name": "stdout",
     "output_type": "stream",
     "text": [
      "unique number of counties of 2000: 34\n",
      "unique number of counties of 201: 34\n",
      "unique number of counties of 202: 34\n",
      "unique number of counties of 203: 35\n",
      "unique number of counties of 204: 48\n",
      "unique number of counties of 205: 35\n",
      "unique number of counties of 206: 35\n",
      "unique number of counties of 207: 36\n",
      "unique number of counties of 208: 36\n",
      "unique number of counties of 209: 37\n",
      "unique number of counties of 2010: 37\n",
      "unique number of counties of 2011: 37\n",
      "unique number of counties of 2012: 37\n",
      "unique number of counties of 2013: 37\n",
      "unique number of counties of 2014: 37\n",
      "unique number of counties of 2015: 29\n",
      "unique number of counties of 2016: 29\n",
      "unique number of counties of 2017: 29\n",
      "unique number of counties of 2018: 29\n",
      "unique number of counties of 2019: 29\n"
     ]
    }
   ],
   "source": [
    "for key in buildingPermits_IN.keys():\n",
    "    print('unique number of counties of {}:'.format(key), len(buildingPermits_IN[key][(       'FIPS.1',      'County')].unique()))"
   ]
  },
  {
   "cell_type": "code",
   "execution_count": 412,
   "metadata": {
    "ExecuteTime": {
     "end_time": "2020-05-05T23:01:47.371253Z",
     "start_time": "2020-05-05T23:01:47.358253Z"
    }
   },
   "outputs": [],
   "source": [
    "df_temp = pd.concat(list(buildingPermits_IN.values()))"
   ]
  },
  {
   "cell_type": "code",
   "execution_count": 414,
   "metadata": {
    "ExecuteTime": {
     "end_time": "2020-05-05T23:03:18.908660Z",
     "start_time": "2020-05-05T23:03:18.901661Z"
    }
   },
   "outputs": [
    {
     "data": {
      "text/plain": [
       "210     Allen County                  \n",
       "211     Boone County                  \n",
       "212     Brown County                  \n",
       "213     Clark County                  \n",
       "214     Daviess County                \n",
       "                     ...              \n",
       "8391    Tippecanoe County             \n",
       "8392    Vanderburgh County            \n",
       "8393    Vigo County                   \n",
       "8394    Washington County             \n",
       "8395    Whitley County                \n",
       "Name: (County, Name), Length: 8249, dtype: object"
      ]
     },
     "execution_count": 414,
     "metadata": {},
     "output_type": "execute_result"
    }
   ],
   "source": [
    "df_temp[('County','Name')]"
   ]
  },
  {
   "cell_type": "code",
   "execution_count": 420,
   "metadata": {
    "ExecuteTime": {
     "end_time": "2020-05-05T23:07:26.107071Z",
     "start_time": "2020-05-05T23:07:26.101072Z"
    }
   },
   "outputs": [
    {
     "data": {
      "text/plain": [
       "51"
      ]
     },
     "execution_count": 420,
     "metadata": {},
     "output_type": "execute_result"
    }
   ],
   "source": [
    "len(df_temp[('County','Name')].unique())"
   ]
  },
  {
   "cell_type": "code",
   "execution_count": 428,
   "metadata": {
    "ExecuteTime": {
     "end_time": "2020-05-05T23:47:58.481433Z",
     "start_time": "2020-05-05T23:47:58.476432Z"
    }
   },
   "outputs": [],
   "source": [
    "df_temp[('County','Name')]= df_temp[('County','Name')].apply(lambda x:x.rstrip())"
   ]
  },
  {
   "cell_type": "code",
   "execution_count": 429,
   "metadata": {
    "ExecuteTime": {
     "end_time": "2020-05-05T23:48:12.205891Z",
     "start_time": "2020-05-05T23:48:12.179886Z"
    }
   },
   "outputs": [
    {
     "data": {
      "text/html": [
       "<div>\n",
       "<style scoped>\n",
       "    .dataframe tbody tr th:only-of-type {\n",
       "        vertical-align: middle;\n",
       "    }\n",
       "\n",
       "    .dataframe tbody tr th {\n",
       "        vertical-align: top;\n",
       "    }\n",
       "\n",
       "    .dataframe thead tr th {\n",
       "        text-align: left;\n",
       "    }\n",
       "</style>\n",
       "<table border=\"1\" class=\"dataframe\">\n",
       "  <thead>\n",
       "    <tr>\n",
       "      <th></th>\n",
       "      <th>Survey</th>\n",
       "      <th>FIPS</th>\n",
       "      <th>FIPS.1</th>\n",
       "      <th>Region</th>\n",
       "      <th>Division</th>\n",
       "      <th>County</th>\n",
       "      <th colspan=\"3\" halign=\"left\">1-unit</th>\n",
       "      <th>2-units</th>\n",
       "      <th>...</th>\n",
       "      <th colspan=\"2\" halign=\"left\">2-units rep</th>\n",
       "      <th colspan=\"3\" halign=\"left\">3-4 units rep</th>\n",
       "      <th colspan=\"3\" halign=\"left\">5+units rep</th>\n",
       "      <th colspan=\"2\" halign=\"left\">Multi_unit</th>\n",
       "    </tr>\n",
       "    <tr>\n",
       "      <th></th>\n",
       "      <th>Date</th>\n",
       "      <th>State</th>\n",
       "      <th>County</th>\n",
       "      <th>Code</th>\n",
       "      <th>Code</th>\n",
       "      <th>Name</th>\n",
       "      <th>Bldgs</th>\n",
       "      <th>Units</th>\n",
       "      <th>Value</th>\n",
       "      <th>Bldgs</th>\n",
       "      <th>...</th>\n",
       "      <th>Units</th>\n",
       "      <th>Value</th>\n",
       "      <th>Bldgs</th>\n",
       "      <th>Units</th>\n",
       "      <th>Value</th>\n",
       "      <th>Bldgs</th>\n",
       "      <th>Units</th>\n",
       "      <th>Value</th>\n",
       "      <th>Bldgs_total</th>\n",
       "      <th>Units_total</th>\n",
       "    </tr>\n",
       "  </thead>\n",
       "  <tbody>\n",
       "    <tr>\n",
       "      <td>210</td>\n",
       "      <td>200001</td>\n",
       "      <td>18</td>\n",
       "      <td>3</td>\n",
       "      <td>2</td>\n",
       "      <td>3</td>\n",
       "      <td>Allen County</td>\n",
       "      <td>83</td>\n",
       "      <td>83</td>\n",
       "      <td>12117305</td>\n",
       "      <td>1</td>\n",
       "      <td>...</td>\n",
       "      <td>2</td>\n",
       "      <td>200000</td>\n",
       "      <td>0</td>\n",
       "      <td>0</td>\n",
       "      <td>0</td>\n",
       "      <td>0</td>\n",
       "      <td>0</td>\n",
       "      <td>0</td>\n",
       "      <td>84</td>\n",
       "      <td>85</td>\n",
       "    </tr>\n",
       "    <tr>\n",
       "      <td>932</td>\n",
       "      <td>200002</td>\n",
       "      <td>18</td>\n",
       "      <td>3</td>\n",
       "      <td>2</td>\n",
       "      <td>3</td>\n",
       "      <td>Allen County</td>\n",
       "      <td>110</td>\n",
       "      <td>110</td>\n",
       "      <td>18089303</td>\n",
       "      <td>0</td>\n",
       "      <td>...</td>\n",
       "      <td>0</td>\n",
       "      <td>0</td>\n",
       "      <td>0</td>\n",
       "      <td>0</td>\n",
       "      <td>0</td>\n",
       "      <td>0</td>\n",
       "      <td>0</td>\n",
       "      <td>0</td>\n",
       "      <td>110</td>\n",
       "      <td>110</td>\n",
       "    </tr>\n",
       "    <tr>\n",
       "      <td>1641</td>\n",
       "      <td>200003</td>\n",
       "      <td>18</td>\n",
       "      <td>3</td>\n",
       "      <td>2</td>\n",
       "      <td>3</td>\n",
       "      <td>Allen County</td>\n",
       "      <td>178</td>\n",
       "      <td>178</td>\n",
       "      <td>30835057</td>\n",
       "      <td>0</td>\n",
       "      <td>...</td>\n",
       "      <td>0</td>\n",
       "      <td>0</td>\n",
       "      <td>0</td>\n",
       "      <td>0</td>\n",
       "      <td>0</td>\n",
       "      <td>0</td>\n",
       "      <td>0</td>\n",
       "      <td>0</td>\n",
       "      <td>178</td>\n",
       "      <td>178</td>\n",
       "    </tr>\n",
       "    <tr>\n",
       "      <td>2352</td>\n",
       "      <td>200004</td>\n",
       "      <td>18</td>\n",
       "      <td>3</td>\n",
       "      <td>2</td>\n",
       "      <td>3</td>\n",
       "      <td>Allen County</td>\n",
       "      <td>158</td>\n",
       "      <td>158</td>\n",
       "      <td>25961110</td>\n",
       "      <td>4</td>\n",
       "      <td>...</td>\n",
       "      <td>8</td>\n",
       "      <td>598548</td>\n",
       "      <td>0</td>\n",
       "      <td>0</td>\n",
       "      <td>0</td>\n",
       "      <td>1</td>\n",
       "      <td>30</td>\n",
       "      <td>675000</td>\n",
       "      <td>163</td>\n",
       "      <td>196</td>\n",
       "    </tr>\n",
       "    <tr>\n",
       "      <td>3072</td>\n",
       "      <td>200005</td>\n",
       "      <td>18</td>\n",
       "      <td>3</td>\n",
       "      <td>2</td>\n",
       "      <td>3</td>\n",
       "      <td>Allen County</td>\n",
       "      <td>143</td>\n",
       "      <td>143</td>\n",
       "      <td>24826319</td>\n",
       "      <td>1</td>\n",
       "      <td>...</td>\n",
       "      <td>2</td>\n",
       "      <td>96000</td>\n",
       "      <td>0</td>\n",
       "      <td>0</td>\n",
       "      <td>0</td>\n",
       "      <td>0</td>\n",
       "      <td>0</td>\n",
       "      <td>0</td>\n",
       "      <td>144</td>\n",
       "      <td>145</td>\n",
       "    </tr>\n",
       "    <tr>\n",
       "      <td>...</td>\n",
       "      <td>...</td>\n",
       "      <td>...</td>\n",
       "      <td>...</td>\n",
       "      <td>...</td>\n",
       "      <td>...</td>\n",
       "      <td>...</td>\n",
       "      <td>...</td>\n",
       "      <td>...</td>\n",
       "      <td>...</td>\n",
       "      <td>...</td>\n",
       "      <td>...</td>\n",
       "      <td>...</td>\n",
       "      <td>...</td>\n",
       "      <td>...</td>\n",
       "      <td>...</td>\n",
       "      <td>...</td>\n",
       "      <td>...</td>\n",
       "      <td>...</td>\n",
       "      <td>...</td>\n",
       "      <td>...</td>\n",
       "      <td>...</td>\n",
       "    </tr>\n",
       "    <tr>\n",
       "      <td>5394</td>\n",
       "      <td>201908</td>\n",
       "      <td>18</td>\n",
       "      <td>3</td>\n",
       "      <td>2</td>\n",
       "      <td>3</td>\n",
       "      <td>Allen County</td>\n",
       "      <td>106</td>\n",
       "      <td>106</td>\n",
       "      <td>28697612</td>\n",
       "      <td>8</td>\n",
       "      <td>...</td>\n",
       "      <td>16</td>\n",
       "      <td>405000</td>\n",
       "      <td>0</td>\n",
       "      <td>0</td>\n",
       "      <td>0</td>\n",
       "      <td>11</td>\n",
       "      <td>254</td>\n",
       "      <td>29502608</td>\n",
       "      <td>125</td>\n",
       "      <td>376</td>\n",
       "    </tr>\n",
       "    <tr>\n",
       "      <td>6137</td>\n",
       "      <td>201909</td>\n",
       "      <td>18</td>\n",
       "      <td>3</td>\n",
       "      <td>2</td>\n",
       "      <td>3</td>\n",
       "      <td>Allen County</td>\n",
       "      <td>110</td>\n",
       "      <td>110</td>\n",
       "      <td>29780541</td>\n",
       "      <td>0</td>\n",
       "      <td>...</td>\n",
       "      <td>0</td>\n",
       "      <td>0</td>\n",
       "      <td>0</td>\n",
       "      <td>0</td>\n",
       "      <td>0</td>\n",
       "      <td>0</td>\n",
       "      <td>0</td>\n",
       "      <td>0</td>\n",
       "      <td>110</td>\n",
       "      <td>110</td>\n",
       "    </tr>\n",
       "    <tr>\n",
       "      <td>6880</td>\n",
       "      <td>201910</td>\n",
       "      <td>18</td>\n",
       "      <td>3</td>\n",
       "      <td>2</td>\n",
       "      <td>3</td>\n",
       "      <td>Allen County</td>\n",
       "      <td>124</td>\n",
       "      <td>124</td>\n",
       "      <td>33570791</td>\n",
       "      <td>1</td>\n",
       "      <td>...</td>\n",
       "      <td>2</td>\n",
       "      <td>80000</td>\n",
       "      <td>1</td>\n",
       "      <td>3</td>\n",
       "      <td>286098</td>\n",
       "      <td>7</td>\n",
       "      <td>53</td>\n",
       "      <td>4699930</td>\n",
       "      <td>133</td>\n",
       "      <td>182</td>\n",
       "    </tr>\n",
       "    <tr>\n",
       "      <td>7623</td>\n",
       "      <td>201911</td>\n",
       "      <td>18</td>\n",
       "      <td>3</td>\n",
       "      <td>2</td>\n",
       "      <td>3</td>\n",
       "      <td>Allen County</td>\n",
       "      <td>120</td>\n",
       "      <td>120</td>\n",
       "      <td>32487862</td>\n",
       "      <td>0</td>\n",
       "      <td>...</td>\n",
       "      <td>0</td>\n",
       "      <td>0</td>\n",
       "      <td>0</td>\n",
       "      <td>0</td>\n",
       "      <td>0</td>\n",
       "      <td>1</td>\n",
       "      <td>6</td>\n",
       "      <td>475000</td>\n",
       "      <td>121</td>\n",
       "      <td>126</td>\n",
       "    </tr>\n",
       "    <tr>\n",
       "      <td>8367</td>\n",
       "      <td>201912</td>\n",
       "      <td>18</td>\n",
       "      <td>3</td>\n",
       "      <td>2</td>\n",
       "      <td>3</td>\n",
       "      <td>Allen County</td>\n",
       "      <td>162</td>\n",
       "      <td>162</td>\n",
       "      <td>43858614</td>\n",
       "      <td>0</td>\n",
       "      <td>...</td>\n",
       "      <td>0</td>\n",
       "      <td>0</td>\n",
       "      <td>0</td>\n",
       "      <td>0</td>\n",
       "      <td>0</td>\n",
       "      <td>0</td>\n",
       "      <td>0</td>\n",
       "      <td>0</td>\n",
       "      <td>162</td>\n",
       "      <td>162</td>\n",
       "    </tr>\n",
       "  </tbody>\n",
       "</table>\n",
       "<p>240 rows × 32 columns</p>\n",
       "</div>"
      ],
      "text/plain": [
       "      Survey  FIPS FIPS.1 Region Division        County 1-unit        \\\n",
       "        Date State County   Code     Code          Name  Bldgs Units   \n",
       "210   200001    18      3      2        3  Allen County     83    83   \n",
       "932   200002    18      3      2        3  Allen County    110   110   \n",
       "1641  200003    18      3      2        3  Allen County    178   178   \n",
       "2352  200004    18      3      2        3  Allen County    158   158   \n",
       "3072  200005    18      3      2        3  Allen County    143   143   \n",
       "...      ...   ...    ...    ...      ...           ...    ...   ...   \n",
       "5394  201908    18      3      2        3  Allen County    106   106   \n",
       "6137  201909    18      3      2        3  Allen County    110   110   \n",
       "6880  201910    18      3      2        3  Allen County    124   124   \n",
       "7623  201911    18      3      2        3  Allen County    120   120   \n",
       "8367  201912    18      3      2        3  Allen County    162   162   \n",
       "\n",
       "               2-units  ... 2-units rep         3-4 units rep                \\\n",
       "         Value   Bldgs  ...       Units   Value         Bldgs Units   Value   \n",
       "210   12117305       1  ...           2  200000             0     0       0   \n",
       "932   18089303       0  ...           0       0             0     0       0   \n",
       "1641  30835057       0  ...           0       0             0     0       0   \n",
       "2352  25961110       4  ...           8  598548             0     0       0   \n",
       "3072  24826319       1  ...           2   96000             0     0       0   \n",
       "...        ...     ...  ...         ...     ...           ...   ...     ...   \n",
       "5394  28697612       8  ...          16  405000             0     0       0   \n",
       "6137  29780541       0  ...           0       0             0     0       0   \n",
       "6880  33570791       1  ...           2   80000             1     3  286098   \n",
       "7623  32487862       0  ...           0       0             0     0       0   \n",
       "8367  43858614       0  ...           0       0             0     0       0   \n",
       "\n",
       "      5+units rep                  Multi_unit              \n",
       "            Bldgs Units     Value Bldgs_total Units_total  \n",
       "210             0     0         0          84          85  \n",
       "932             0     0         0         110         110  \n",
       "1641            0     0         0         178         178  \n",
       "2352            1    30    675000         163         196  \n",
       "3072            0     0         0         144         145  \n",
       "...           ...   ...       ...         ...         ...  \n",
       "5394           11   254  29502608         125         376  \n",
       "6137            0     0         0         110         110  \n",
       "6880            7    53   4699930         133         182  \n",
       "7623            1     6    475000         121         126  \n",
       "8367            0     0         0         162         162  \n",
       "\n",
       "[240 rows x 32 columns]"
      ]
     },
     "execution_count": 429,
     "metadata": {},
     "output_type": "execute_result"
    }
   ],
   "source": [
    "df_temp[df_temp[('County','Name')]=='Allen County']"
   ]
  },
  {
   "cell_type": "code",
   "execution_count": 425,
   "metadata": {
    "ExecuteTime": {
     "end_time": "2020-05-05T23:46:03.976656Z",
     "start_time": "2020-05-05T23:46:03.973668Z"
    }
   },
   "outputs": [
    {
     "data": {
      "text/plain": [
       "'Allen County'"
      ]
     },
     "execution_count": 425,
     "metadata": {},
     "output_type": "execute_result"
    }
   ],
   "source": [
    "s= 'Allen County                  '\n",
    "s.rstrip()"
   ]
  },
  {
   "cell_type": "code",
   "execution_count": 436,
   "metadata": {
    "ExecuteTime": {
     "end_time": "2020-05-05T23:52:07.131267Z",
     "start_time": "2020-05-05T23:52:07.030167Z"
    }
   },
   "outputs": [],
   "source": [
    "permits_by_county ={}\n",
    "for name in df_temp[('County','Name')].unique():\n",
    "    permits_by_county[name] = df_temp[df_temp[('County','Name')]==name].reset_index()\n",
    "    "
   ]
  },
  {
   "cell_type": "code",
   "execution_count": 441,
   "metadata": {
    "ExecuteTime": {
     "end_time": "2020-05-06T01:17:05.508618Z",
     "start_time": "2020-05-06T01:17:05.501618Z"
    }
   },
   "outputs": [
    {
     "data": {
      "text/plain": [
       "Timestamp('2000-04-01 00:00:00')"
      ]
     },
     "execution_count": 441,
     "metadata": {},
     "output_type": "execute_result"
    }
   ],
   "source": [
    "# pd.to_datetime(permits_by_county['Allen County'][('Survey','Date')][0], format ='%Y%m', errors = 'ignore')\n",
    "pd.to_datetime(permits_by_county['Allen County'][('Survey','Date')][3], format ='%Y%m')"
   ]
  },
  {
   "cell_type": "code",
   "execution_count": 443,
   "metadata": {
    "ExecuteTime": {
     "end_time": "2020-05-06T02:48:25.744519Z",
     "start_time": "2020-05-06T02:48:25.584424Z"
    }
   },
   "outputs": [],
   "source": [
    "for key in permits_by_county.keys():\n",
    "    dates = pd.to_datetime(permits_by_county[key][('Survey','Date')], format ='%Y%m')\n",
    "    permits_by_county[key].set_index(pd.DatetimeIndex(dates), inplace= True)\n",
    "    permits_by_county[key].drop([('Survey','Date')], axis=1, inplace=True)"
   ]
  },
  {
   "cell_type": "code",
   "execution_count": 452,
   "metadata": {
    "ExecuteTime": {
     "end_time": "2020-05-06T02:57:45.816989Z",
     "start_time": "2020-05-06T02:57:45.671871Z"
    }
   },
   "outputs": [],
   "source": [
    "TotalPermits_by_county ={}\n",
    "for key in permits_by_county.keys():\n",
    "    TotalPermits_by_county[key] = permits_by_county[key][['1-unit','Multi_unit']].drop([ (       '1-unit',       'Value')], axis = 1)\n",
    "    "
   ]
  },
  {
   "cell_type": "code",
   "execution_count": 453,
   "metadata": {
    "ExecuteTime": {
     "end_time": "2020-05-06T02:58:05.354592Z",
     "start_time": "2020-05-06T02:58:05.344624Z"
    }
   },
   "outputs": [
    {
     "data": {
      "text/html": [
       "<div>\n",
       "<style scoped>\n",
       "    .dataframe tbody tr th:only-of-type {\n",
       "        vertical-align: middle;\n",
       "    }\n",
       "\n",
       "    .dataframe tbody tr th {\n",
       "        vertical-align: top;\n",
       "    }\n",
       "\n",
       "    .dataframe thead tr th {\n",
       "        text-align: left;\n",
       "    }\n",
       "\n",
       "    .dataframe thead tr:last-of-type th {\n",
       "        text-align: right;\n",
       "    }\n",
       "</style>\n",
       "<table border=\"1\" class=\"dataframe\">\n",
       "  <thead>\n",
       "    <tr>\n",
       "      <th></th>\n",
       "      <th colspan=\"2\" halign=\"left\">1-unit</th>\n",
       "      <th colspan=\"2\" halign=\"left\">Multi_unit</th>\n",
       "    </tr>\n",
       "    <tr>\n",
       "      <th></th>\n",
       "      <th>Bldgs</th>\n",
       "      <th>Units</th>\n",
       "      <th>Bldgs_total</th>\n",
       "      <th>Units_total</th>\n",
       "    </tr>\n",
       "    <tr>\n",
       "      <th>(Survey, Date)</th>\n",
       "      <th></th>\n",
       "      <th></th>\n",
       "      <th></th>\n",
       "      <th></th>\n",
       "    </tr>\n",
       "  </thead>\n",
       "  <tbody>\n",
       "    <tr>\n",
       "      <td>2000-01-01</td>\n",
       "      <td>237</td>\n",
       "      <td>237</td>\n",
       "      <td>240</td>\n",
       "      <td>251</td>\n",
       "    </tr>\n",
       "    <tr>\n",
       "      <td>2000-02-01</td>\n",
       "      <td>262</td>\n",
       "      <td>262</td>\n",
       "      <td>263</td>\n",
       "      <td>266</td>\n",
       "    </tr>\n",
       "    <tr>\n",
       "      <td>2000-03-01</td>\n",
       "      <td>376</td>\n",
       "      <td>376</td>\n",
       "      <td>383</td>\n",
       "      <td>405</td>\n",
       "    </tr>\n",
       "    <tr>\n",
       "      <td>2000-04-01</td>\n",
       "      <td>359</td>\n",
       "      <td>359</td>\n",
       "      <td>404</td>\n",
       "      <td>587</td>\n",
       "    </tr>\n",
       "    <tr>\n",
       "      <td>2000-05-01</td>\n",
       "      <td>358</td>\n",
       "      <td>358</td>\n",
       "      <td>383</td>\n",
       "      <td>588</td>\n",
       "    </tr>\n",
       "    <tr>\n",
       "      <td>...</td>\n",
       "      <td>...</td>\n",
       "      <td>...</td>\n",
       "      <td>...</td>\n",
       "      <td>...</td>\n",
       "    </tr>\n",
       "    <tr>\n",
       "      <td>2019-08-01</td>\n",
       "      <td>113</td>\n",
       "      <td>113</td>\n",
       "      <td>119</td>\n",
       "      <td>276</td>\n",
       "    </tr>\n",
       "    <tr>\n",
       "      <td>2019-09-01</td>\n",
       "      <td>78</td>\n",
       "      <td>78</td>\n",
       "      <td>80</td>\n",
       "      <td>143</td>\n",
       "    </tr>\n",
       "    <tr>\n",
       "      <td>2019-10-01</td>\n",
       "      <td>124</td>\n",
       "      <td>124</td>\n",
       "      <td>126</td>\n",
       "      <td>128</td>\n",
       "    </tr>\n",
       "    <tr>\n",
       "      <td>2019-11-01</td>\n",
       "      <td>76</td>\n",
       "      <td>76</td>\n",
       "      <td>79</td>\n",
       "      <td>85</td>\n",
       "    </tr>\n",
       "    <tr>\n",
       "      <td>2019-12-01</td>\n",
       "      <td>94</td>\n",
       "      <td>94</td>\n",
       "      <td>95</td>\n",
       "      <td>197</td>\n",
       "    </tr>\n",
       "  </tbody>\n",
       "</table>\n",
       "<p>240 rows × 4 columns</p>\n",
       "</div>"
      ],
      "text/plain": [
       "               1-unit        Multi_unit            \n",
       "                Bldgs Units Bldgs_total Units_total\n",
       "(Survey, Date)                                     \n",
       "2000-01-01        237   237         240         251\n",
       "2000-02-01        262   262         263         266\n",
       "2000-03-01        376   376         383         405\n",
       "2000-04-01        359   359         404         587\n",
       "2000-05-01        358   358         383         588\n",
       "...               ...   ...         ...         ...\n",
       "2019-08-01        113   113         119         276\n",
       "2019-09-01         78    78          80         143\n",
       "2019-10-01        124   124         126         128\n",
       "2019-11-01         76    76          79          85\n",
       "2019-12-01         94    94          95         197\n",
       "\n",
       "[240 rows x 4 columns]"
      ]
     },
     "execution_count": 453,
     "metadata": {},
     "output_type": "execute_result"
    }
   ],
   "source": [
    "TotalPermits_by_county['Marion County']"
   ]
  },
  {
   "cell_type": "code",
   "execution_count": 451,
   "metadata": {
    "ExecuteTime": {
     "end_time": "2020-05-06T02:56:31.031335Z",
     "start_time": "2020-05-06T02:56:31.016337Z"
    }
   },
   "outputs": [
    {
     "data": {
      "text/html": [
       "<div>\n",
       "<style scoped>\n",
       "    .dataframe tbody tr th:only-of-type {\n",
       "        vertical-align: middle;\n",
       "    }\n",
       "\n",
       "    .dataframe tbody tr th {\n",
       "        vertical-align: top;\n",
       "    }\n",
       "\n",
       "    .dataframe thead tr th {\n",
       "        text-align: left;\n",
       "    }\n",
       "\n",
       "    .dataframe thead tr:last-of-type th {\n",
       "        text-align: right;\n",
       "    }\n",
       "</style>\n",
       "<table border=\"1\" class=\"dataframe\">\n",
       "  <thead>\n",
       "    <tr>\n",
       "      <th></th>\n",
       "      <th colspan=\"2\" halign=\"left\">1-unit</th>\n",
       "      <th colspan=\"2\" halign=\"left\">Multi_unit</th>\n",
       "    </tr>\n",
       "    <tr>\n",
       "      <th></th>\n",
       "      <th>Bldgs</th>\n",
       "      <th>Units</th>\n",
       "      <th>Bldgs_total</th>\n",
       "      <th>Units_total</th>\n",
       "    </tr>\n",
       "    <tr>\n",
       "      <th>(Survey, Date)</th>\n",
       "      <th></th>\n",
       "      <th></th>\n",
       "      <th></th>\n",
       "      <th></th>\n",
       "    </tr>\n",
       "  </thead>\n",
       "  <tbody>\n",
       "    <tr>\n",
       "      <td>2000-01-01</td>\n",
       "      <td>237</td>\n",
       "      <td>237</td>\n",
       "      <td>240</td>\n",
       "      <td>251</td>\n",
       "    </tr>\n",
       "    <tr>\n",
       "      <td>2000-02-01</td>\n",
       "      <td>262</td>\n",
       "      <td>262</td>\n",
       "      <td>263</td>\n",
       "      <td>266</td>\n",
       "    </tr>\n",
       "    <tr>\n",
       "      <td>2000-03-01</td>\n",
       "      <td>376</td>\n",
       "      <td>376</td>\n",
       "      <td>383</td>\n",
       "      <td>405</td>\n",
       "    </tr>\n",
       "    <tr>\n",
       "      <td>2000-04-01</td>\n",
       "      <td>359</td>\n",
       "      <td>359</td>\n",
       "      <td>404</td>\n",
       "      <td>587</td>\n",
       "    </tr>\n",
       "    <tr>\n",
       "      <td>2000-05-01</td>\n",
       "      <td>358</td>\n",
       "      <td>358</td>\n",
       "      <td>383</td>\n",
       "      <td>588</td>\n",
       "    </tr>\n",
       "    <tr>\n",
       "      <td>...</td>\n",
       "      <td>...</td>\n",
       "      <td>...</td>\n",
       "      <td>...</td>\n",
       "      <td>...</td>\n",
       "    </tr>\n",
       "    <tr>\n",
       "      <td>2019-08-01</td>\n",
       "      <td>113</td>\n",
       "      <td>113</td>\n",
       "      <td>119</td>\n",
       "      <td>276</td>\n",
       "    </tr>\n",
       "    <tr>\n",
       "      <td>2019-09-01</td>\n",
       "      <td>78</td>\n",
       "      <td>78</td>\n",
       "      <td>80</td>\n",
       "      <td>143</td>\n",
       "    </tr>\n",
       "    <tr>\n",
       "      <td>2019-10-01</td>\n",
       "      <td>124</td>\n",
       "      <td>124</td>\n",
       "      <td>126</td>\n",
       "      <td>128</td>\n",
       "    </tr>\n",
       "    <tr>\n",
       "      <td>2019-11-01</td>\n",
       "      <td>76</td>\n",
       "      <td>76</td>\n",
       "      <td>79</td>\n",
       "      <td>85</td>\n",
       "    </tr>\n",
       "    <tr>\n",
       "      <td>2019-12-01</td>\n",
       "      <td>94</td>\n",
       "      <td>94</td>\n",
       "      <td>95</td>\n",
       "      <td>197</td>\n",
       "    </tr>\n",
       "  </tbody>\n",
       "</table>\n",
       "<p>240 rows × 4 columns</p>\n",
       "</div>"
      ],
      "text/plain": [
       "               1-unit        Multi_unit            \n",
       "                Bldgs Units Bldgs_total Units_total\n",
       "(Survey, Date)                                     \n",
       "2000-01-01        237   237         240         251\n",
       "2000-02-01        262   262         263         266\n",
       "2000-03-01        376   376         383         405\n",
       "2000-04-01        359   359         404         587\n",
       "2000-05-01        358   358         383         588\n",
       "...               ...   ...         ...         ...\n",
       "2019-08-01        113   113         119         276\n",
       "2019-09-01         78    78          80         143\n",
       "2019-10-01        124   124         126         128\n",
       "2019-11-01         76    76          79          85\n",
       "2019-12-01         94    94          95         197\n",
       "\n",
       "[240 rows x 4 columns]"
      ]
     },
     "execution_count": 451,
     "metadata": {},
     "output_type": "execute_result"
    }
   ],
   "source": [
    "TotalPermits_by_county['Marion County'].plot()"
   ]
  },
  {
   "cell_type": "code",
   "execution_count": 465,
   "metadata": {
    "ExecuteTime": {
     "end_time": "2020-05-06T03:11:15.388603Z",
     "start_time": "2020-05-06T03:11:15.225602Z"
    }
   },
   "outputs": [
    {
     "data": {
      "image/png": "[encoded data removed]",
      "text/plain": [
       "<Figure size 432x288 with 2 Axes>"
      ]
     },
     "metadata": {
      "needs_background": "light"
     },
     "output_type": "display_data"
    }
   ],
   "source": [
    "fig, ax = plt.subplots()\n",
    "ax.plot(df_county_available['Marion County'], color=\"b\")\n",
    "ax.set_xlabel(\"year\", fontsize = 14)\n",
    "ax.set_ylabel(\"Housing Price (USD)\", fontsize = 14)\n",
    "# df_county_available.loc['Hamilton County'].plot()\n",
    "ax2 = ax.twinx()\n",
    "ax2.plot(TotalPermits_by_county['Marion County'][[('1-unit', 'Units'),('Multi_unit', 'Units_total')]])\n",
    "ax2.set_ylabel(\"Bldgs/Units\", fontsize = 14)\n",
    "ax2.legend(('single','multi'))\n",
    "plt.suptitle('Marion County')\n",
    "plt.show()"
   ]
  },
  {
   "cell_type": "markdown",
   "metadata": {},
   "source": [
    "### Saving Data"
   ]
  },
  {
   "cell_type": "code",
   "execution_count": 466,
   "metadata": {
    "ExecuteTime": {
     "end_time": "2020-05-06T03:13:42.275377Z",
     "start_time": "2020-05-06T03:13:42.273376Z"
    }
   },
   "outputs": [],
   "source": [
    "ProcessedData['TotalPermits_by_county']=TotalPermits_by_county\n",
    "ProcessedData['permits_by_county']= permits_by_county"
   ]
  },
  {
   "cell_type": "markdown",
   "metadata": {},
   "source": [
    "## Population\n",
    "The population of Indiana counties were found [here](http://www.stats.indiana.edu/population/popTotals/2019_cntyest.asp)."
   ]
  },
  {
   "cell_type": "code",
   "execution_count": 467,
   "metadata": {
    "ExecuteTime": {
     "end_time": "2020-05-06T03:18:03.325638Z",
     "start_time": "2020-05-06T03:18:03.251641Z"
    }
   },
   "outputs": [],
   "source": [
    "df_populationIN = pd.read_excel('2019_cntyest.xlsx')\n",
    "#df_populationIN = pd.read_excel('2019_cntyest.xlsx',encoding='latin-1')"
   ]
  },
  {
   "cell_type": "code",
   "execution_count": 468,
   "metadata": {
    "ExecuteTime": {
     "end_time": "2020-05-06T03:18:10.614580Z",
     "start_time": "2020-05-06T03:18:10.593589Z"
    }
   },
   "outputs": [
    {
     "data": {
      "text/html": [
       "<div>\n",
       "<style scoped>\n",
       "    .dataframe tbody tr th:only-of-type {\n",
       "        vertical-align: middle;\n",
       "    }\n",
       "\n",
       "    .dataframe tbody tr th {\n",
       "        vertical-align: top;\n",
       "    }\n",
       "\n",
       "    .dataframe thead th {\n",
       "        text-align: right;\n",
       "    }\n",
       "</style>\n",
       "<table border=\"1\" class=\"dataframe\">\n",
       "  <thead>\n",
       "    <tr style=\"text-align: right;\">\n",
       "      <th></th>\n",
       "      <th>Geographic Area</th>\n",
       "      <th>Fips Code</th>\n",
       "      <th>Population Estimates\\n (as of July 1)</th>\n",
       "      <th>Unnamed: 3</th>\n",
       "      <th>Unnamed: 4</th>\n",
       "      <th>Unnamed: 5</th>\n",
       "      <th>Unnamed: 6</th>\n",
       "      <th>Unnamed: 7</th>\n",
       "      <th>Unnamed: 8</th>\n",
       "      <th>Unnamed: 9</th>\n",
       "      <th>...</th>\n",
       "      <th>April 1, 2010</th>\n",
       "      <th>Unnamed: 13</th>\n",
       "      <th>Change\\n July 1, 2010\\n to July 1, 2019</th>\n",
       "      <th>Unnamed: 15</th>\n",
       "      <th>Rank:  Pop Change\\n July 1, 2010\\n to July 1, 2019</th>\n",
       "      <th>Unnamed: 17</th>\n",
       "      <th>Change\\n July 1, 2018 to July 1, 2019</th>\n",
       "      <th>Unnamed: 19</th>\n",
       "      <th>Rank:  Pop Change\\nJuly 1, 2018\\n to July 1, 2019</th>\n",
       "      <th>Unnamed: 21</th>\n",
       "    </tr>\n",
       "  </thead>\n",
       "  <tbody>\n",
       "    <tr>\n",
       "      <td>0</td>\n",
       "      <td>NaN</td>\n",
       "      <td>NaN</td>\n",
       "      <td>2019</td>\n",
       "      <td>2018</td>\n",
       "      <td>2017</td>\n",
       "      <td>2016</td>\n",
       "      <td>2015</td>\n",
       "      <td>2014</td>\n",
       "      <td>2013</td>\n",
       "      <td>2012</td>\n",
       "      <td>...</td>\n",
       "      <td>Census</td>\n",
       "      <td>Rank</td>\n",
       "      <td>Number</td>\n",
       "      <td>Percent</td>\n",
       "      <td>Number</td>\n",
       "      <td>Percent</td>\n",
       "      <td>Number</td>\n",
       "      <td>Percent</td>\n",
       "      <td>Number</td>\n",
       "      <td>Percent</td>\n",
       "    </tr>\n",
       "    <tr>\n",
       "      <td>1</td>\n",
       "      <td>Indiana</td>\n",
       "      <td>18000.0</td>\n",
       "      <td>6732219</td>\n",
       "      <td>6695497</td>\n",
       "      <td>6658078</td>\n",
       "      <td>6634304</td>\n",
       "      <td>6608422</td>\n",
       "      <td>6593644</td>\n",
       "      <td>6568713</td>\n",
       "      <td>6537703</td>\n",
       "      <td>...</td>\n",
       "      <td>6483802</td>\n",
       "      <td>NaN</td>\n",
       "      <td>241787</td>\n",
       "      <td>0.0372528</td>\n",
       "      <td>NaN</td>\n",
       "      <td>NaN</td>\n",
       "      <td>36722</td>\n",
       "      <td>0.00548458</td>\n",
       "      <td>NaN</td>\n",
       "      <td>NaN</td>\n",
       "    </tr>\n",
       "    <tr>\n",
       "      <td>2</td>\n",
       "      <td>Adams County</td>\n",
       "      <td>18001.0</td>\n",
       "      <td>35777</td>\n",
       "      <td>35595</td>\n",
       "      <td>35385</td>\n",
       "      <td>35178</td>\n",
       "      <td>34945</td>\n",
       "      <td>34758</td>\n",
       "      <td>34644</td>\n",
       "      <td>34400</td>\n",
       "      <td>...</td>\n",
       "      <td>34387</td>\n",
       "      <td>45</td>\n",
       "      <td>1333</td>\n",
       "      <td>0.0387005</td>\n",
       "      <td>23</td>\n",
       "      <td>17</td>\n",
       "      <td>182</td>\n",
       "      <td>0.00511308</td>\n",
       "      <td>30</td>\n",
       "      <td>23</td>\n",
       "    </tr>\n",
       "    <tr>\n",
       "      <td>3</td>\n",
       "      <td>Allen County</td>\n",
       "      <td>18003.0</td>\n",
       "      <td>379299</td>\n",
       "      <td>375079</td>\n",
       "      <td>371723</td>\n",
       "      <td>369412</td>\n",
       "      <td>367362</td>\n",
       "      <td>365147</td>\n",
       "      <td>363355</td>\n",
       "      <td>360890</td>\n",
       "      <td>...</td>\n",
       "      <td>355329</td>\n",
       "      <td>3</td>\n",
       "      <td>23354</td>\n",
       "      <td>0.0656113</td>\n",
       "      <td>4</td>\n",
       "      <td>12</td>\n",
       "      <td>4220</td>\n",
       "      <td>0.011251</td>\n",
       "      <td>3</td>\n",
       "      <td>7</td>\n",
       "    </tr>\n",
       "    <tr>\n",
       "      <td>4</td>\n",
       "      <td>Bartholomew County</td>\n",
       "      <td>18005.0</td>\n",
       "      <td>83779</td>\n",
       "      <td>82722</td>\n",
       "      <td>82213</td>\n",
       "      <td>82231</td>\n",
       "      <td>81458</td>\n",
       "      <td>80497</td>\n",
       "      <td>79655</td>\n",
       "      <td>79001</td>\n",
       "      <td>...</td>\n",
       "      <td>76794</td>\n",
       "      <td>20</td>\n",
       "      <td>6961</td>\n",
       "      <td>0.0906168</td>\n",
       "      <td>12</td>\n",
       "      <td>7</td>\n",
       "      <td>1057</td>\n",
       "      <td>0.0127777</td>\n",
       "      <td>9</td>\n",
       "      <td>6</td>\n",
       "    </tr>\n",
       "    <tr>\n",
       "      <td>...</td>\n",
       "      <td>...</td>\n",
       "      <td>...</td>\n",
       "      <td>...</td>\n",
       "      <td>...</td>\n",
       "      <td>...</td>\n",
       "      <td>...</td>\n",
       "      <td>...</td>\n",
       "      <td>...</td>\n",
       "      <td>...</td>\n",
       "      <td>...</td>\n",
       "      <td>...</td>\n",
       "      <td>...</td>\n",
       "      <td>...</td>\n",
       "      <td>...</td>\n",
       "      <td>...</td>\n",
       "      <td>...</td>\n",
       "      <td>...</td>\n",
       "      <td>...</td>\n",
       "      <td>...</td>\n",
       "      <td>...</td>\n",
       "      <td>...</td>\n",
       "    </tr>\n",
       "    <tr>\n",
       "      <td>89</td>\n",
       "      <td>Washington County</td>\n",
       "      <td>18175.0</td>\n",
       "      <td>28036</td>\n",
       "      <td>27932</td>\n",
       "      <td>27771</td>\n",
       "      <td>27728</td>\n",
       "      <td>27774</td>\n",
       "      <td>27886</td>\n",
       "      <td>27779</td>\n",
       "      <td>27913</td>\n",
       "      <td>...</td>\n",
       "      <td>28262</td>\n",
       "      <td>57</td>\n",
       "      <td>-256</td>\n",
       "      <td>-0.00904849</td>\n",
       "      <td>49</td>\n",
       "      <td>44</td>\n",
       "      <td>104</td>\n",
       "      <td>0.00372333</td>\n",
       "      <td>34</td>\n",
       "      <td>31</td>\n",
       "    </tr>\n",
       "    <tr>\n",
       "      <td>90</td>\n",
       "      <td>Wayne County</td>\n",
       "      <td>18177.0</td>\n",
       "      <td>65884</td>\n",
       "      <td>66046</td>\n",
       "      <td>66179</td>\n",
       "      <td>66630</td>\n",
       "      <td>66972</td>\n",
       "      <td>67378</td>\n",
       "      <td>67785</td>\n",
       "      <td>68224</td>\n",
       "      <td>...</td>\n",
       "      <td>68917</td>\n",
       "      <td>24</td>\n",
       "      <td>-3005</td>\n",
       "      <td>-0.0436209</td>\n",
       "      <td>89</td>\n",
       "      <td>81</td>\n",
       "      <td>-162</td>\n",
       "      <td>-0.00245284</td>\n",
       "      <td>84</td>\n",
       "      <td>71</td>\n",
       "    </tr>\n",
       "    <tr>\n",
       "      <td>91</td>\n",
       "      <td>Wells County</td>\n",
       "      <td>18179.0</td>\n",
       "      <td>28296</td>\n",
       "      <td>28083</td>\n",
       "      <td>27958</td>\n",
       "      <td>27865</td>\n",
       "      <td>27851</td>\n",
       "      <td>27814</td>\n",
       "      <td>27715</td>\n",
       "      <td>27707</td>\n",
       "      <td>...</td>\n",
       "      <td>27636</td>\n",
       "      <td>58</td>\n",
       "      <td>614</td>\n",
       "      <td>0.0221805</td>\n",
       "      <td>28</td>\n",
       "      <td>24</td>\n",
       "      <td>213</td>\n",
       "      <td>0.00758466</td>\n",
       "      <td>25</td>\n",
       "      <td>15</td>\n",
       "    </tr>\n",
       "    <tr>\n",
       "      <td>92</td>\n",
       "      <td>White County</td>\n",
       "      <td>18181.0</td>\n",
       "      <td>24102</td>\n",
       "      <td>24133</td>\n",
       "      <td>24163</td>\n",
       "      <td>24074</td>\n",
       "      <td>24274</td>\n",
       "      <td>24433</td>\n",
       "      <td>24401</td>\n",
       "      <td>24466</td>\n",
       "      <td>...</td>\n",
       "      <td>24643</td>\n",
       "      <td>63</td>\n",
       "      <td>-581</td>\n",
       "      <td>-0.0235385</td>\n",
       "      <td>59</td>\n",
       "      <td>64</td>\n",
       "      <td>-31</td>\n",
       "      <td>-0.00128455</td>\n",
       "      <td>65</td>\n",
       "      <td>64</td>\n",
       "    </tr>\n",
       "    <tr>\n",
       "      <td>93</td>\n",
       "      <td>Whitley County</td>\n",
       "      <td>18183.0</td>\n",
       "      <td>33964</td>\n",
       "      <td>34047</td>\n",
       "      <td>33722</td>\n",
       "      <td>33475</td>\n",
       "      <td>33444</td>\n",
       "      <td>33444</td>\n",
       "      <td>33283</td>\n",
       "      <td>33335</td>\n",
       "      <td>...</td>\n",
       "      <td>33292</td>\n",
       "      <td>49</td>\n",
       "      <td>611</td>\n",
       "      <td>0.0183192</td>\n",
       "      <td>29</td>\n",
       "      <td>28</td>\n",
       "      <td>-83</td>\n",
       "      <td>-0.00243781</td>\n",
       "      <td>72</td>\n",
       "      <td>70</td>\n",
       "    </tr>\n",
       "  </tbody>\n",
       "</table>\n",
       "<p>94 rows × 22 columns</p>\n",
       "</div>"
      ],
      "text/plain": [
       "       Geographic Area  Fips Code  Population Estimates\\n (as of July 1)  \\\n",
       "0                  NaN        NaN                                   2019   \n",
       "1              Indiana    18000.0                                6732219   \n",
       "2         Adams County    18001.0                                  35777   \n",
       "3         Allen County    18003.0                                 379299   \n",
       "4   Bartholomew County    18005.0                                  83779   \n",
       "..                 ...        ...                                    ...   \n",
       "89   Washington County    18175.0                                  28036   \n",
       "90        Wayne County    18177.0                                  65884   \n",
       "91        Wells County    18179.0                                  28296   \n",
       "92        White County    18181.0                                  24102   \n",
       "93      Whitley County    18183.0                                  33964   \n",
       "\n",
       "    Unnamed: 3  Unnamed: 4  Unnamed: 5  Unnamed: 6  Unnamed: 7  Unnamed: 8  \\\n",
       "0         2018        2017        2016        2015        2014        2013   \n",
       "1      6695497     6658078     6634304     6608422     6593644     6568713   \n",
       "2        35595       35385       35178       34945       34758       34644   \n",
       "3       375079      371723      369412      367362      365147      363355   \n",
       "4        82722       82213       82231       81458       80497       79655   \n",
       "..         ...         ...         ...         ...         ...         ...   \n",
       "89       27932       27771       27728       27774       27886       27779   \n",
       "90       66046       66179       66630       66972       67378       67785   \n",
       "91       28083       27958       27865       27851       27814       27715   \n",
       "92       24133       24163       24074       24274       24433       24401   \n",
       "93       34047       33722       33475       33444       33444       33283   \n",
       "\n",
       "    Unnamed: 9  ...  April 1, 2010  Unnamed: 13  \\\n",
       "0         2012  ...         Census         Rank   \n",
       "1      6537703  ...        6483802          NaN   \n",
       "2        34400  ...          34387           45   \n",
       "3       360890  ...         355329            3   \n",
       "4        79001  ...          76794           20   \n",
       "..         ...  ...            ...          ...   \n",
       "89       27913  ...          28262           57   \n",
       "90       68224  ...          68917           24   \n",
       "91       27707  ...          27636           58   \n",
       "92       24466  ...          24643           63   \n",
       "93       33335  ...          33292           49   \n",
       "\n",
       "   Change\\n July 1, 2010\\n to July 1, 2019 Unnamed: 15  \\\n",
       "0                                   Number     Percent   \n",
       "1                                   241787   0.0372528   \n",
       "2                                     1333   0.0387005   \n",
       "3                                    23354   0.0656113   \n",
       "4                                     6961   0.0906168   \n",
       "..                                     ...         ...   \n",
       "89                                    -256 -0.00904849   \n",
       "90                                   -3005  -0.0436209   \n",
       "91                                     614   0.0221805   \n",
       "92                                    -581  -0.0235385   \n",
       "93                                     611   0.0183192   \n",
       "\n",
       "   Rank:  Pop Change\\n July 1, 2010\\n to July 1, 2019 Unnamed: 17  \\\n",
       "0                                              Number     Percent   \n",
       "1                                                 NaN         NaN   \n",
       "2                                                  23          17   \n",
       "3                                                   4          12   \n",
       "4                                                  12           7   \n",
       "..                                                ...         ...   \n",
       "89                                                 49          44   \n",
       "90                                                 89          81   \n",
       "91                                                 28          24   \n",
       "92                                                 59          64   \n",
       "93                                                 29          28   \n",
       "\n",
       "   Change\\n July 1, 2018 to July 1, 2019 Unnamed: 19  \\\n",
       "0                                 Number     Percent   \n",
       "1                                  36722  0.00548458   \n",
       "2                                    182  0.00511308   \n",
       "3                                   4220    0.011251   \n",
       "4                                   1057   0.0127777   \n",
       "..                                   ...         ...   \n",
       "89                                   104  0.00372333   \n",
       "90                                  -162 -0.00245284   \n",
       "91                                   213  0.00758466   \n",
       "92                                   -31 -0.00128455   \n",
       "93                                   -83 -0.00243781   \n",
       "\n",
       "   Rank:  Pop Change\\nJuly 1, 2018\\n to July 1, 2019 Unnamed: 21  \n",
       "0                                             Number     Percent  \n",
       "1                                                NaN         NaN  \n",
       "2                                                 30          23  \n",
       "3                                                  3           7  \n",
       "4                                                  9           6  \n",
       "..                                               ...         ...  \n",
       "89                                                34          31  \n",
       "90                                                84          71  \n",
       "91                                                25          15  \n",
       "92                                                65          64  \n",
       "93                                                72          70  \n",
       "\n",
       "[94 rows x 22 columns]"
      ]
     },
     "execution_count": 468,
     "metadata": {},
     "output_type": "execute_result"
    }
   ],
   "source": [
    "df_populationIN"
   ]
  },
  {
   "cell_type": "code",
   "execution_count": 469,
   "metadata": {
    "ExecuteTime": {
     "end_time": "2020-05-06T03:19:47.966086Z",
     "start_time": "2020-05-06T03:19:47.961088Z"
    }
   },
   "outputs": [],
   "source": [
    "columns = df_populationIN.iloc[0].values\n",
    "columns[0:2]= ['Geographic_Area','FipsCode']\n",
    "df_populationIN.columns= columns"
   ]
  },
  {
   "cell_type": "code",
   "execution_count": 472,
   "metadata": {
    "ExecuteTime": {
     "end_time": "2020-05-06T03:20:19.391843Z",
     "start_time": "2020-05-06T03:20:19.387814Z"
    }
   },
   "outputs": [],
   "source": [
    "df_populationIN.drop([0], inplace=True)"
   ]
  },
  {
   "cell_type": "code",
   "execution_count": 473,
   "metadata": {
    "ExecuteTime": {
     "end_time": "2020-05-06T03:22:42.966070Z",
     "start_time": "2020-05-06T03:22:42.954037Z"
    }
   },
   "outputs": [],
   "source": [
    "a= ['Geographic_Area']\n",
    "for i in range(2019,2009,-1): \n",
    "    a.append(i)\n",
    "Indiana_pop = df_populationIN[a]\n",
    "Indiana_pop = Indiana_pop.T\n",
    "Indiana_pop.columns = Indiana_pop.iloc[0]\n",
    "Indiana_pop.drop(Indiana_pop.index[0],inplace= True)"
   ]
  },
  {
   "cell_type": "code",
   "execution_count": 476,
   "metadata": {
    "ExecuteTime": {
     "end_time": "2020-05-06T03:23:51.172270Z",
     "start_time": "2020-05-06T03:23:51.169264Z"
    }
   },
   "outputs": [],
   "source": [
    "Indiana_pop.index = pd.to_datetime(Indiana_pop.index,format='%Y' )"
   ]
  },
  {
   "cell_type": "code",
   "execution_count": 477,
   "metadata": {
    "ExecuteTime": {
     "end_time": "2020-05-06T03:23:57.777263Z",
     "start_time": "2020-05-06T03:23:57.761293Z"
    }
   },
   "outputs": [
    {
     "data": {
      "text/html": [
       "<div>\n",
       "<style scoped>\n",
       "    .dataframe tbody tr th:only-of-type {\n",
       "        vertical-align: middle;\n",
       "    }\n",
       "\n",
       "    .dataframe tbody tr th {\n",
       "        vertical-align: top;\n",
       "    }\n",
       "\n",
       "    .dataframe thead th {\n",
       "        text-align: right;\n",
       "    }\n",
       "</style>\n",
       "<table border=\"1\" class=\"dataframe\">\n",
       "  <thead>\n",
       "    <tr style=\"text-align: right;\">\n",
       "      <th>Geographic_Area</th>\n",
       "      <th>Indiana</th>\n",
       "      <th>Adams County</th>\n",
       "      <th>Allen County</th>\n",
       "      <th>Bartholomew County</th>\n",
       "      <th>Benton County</th>\n",
       "      <th>Blackford County</th>\n",
       "      <th>Boone County</th>\n",
       "      <th>Brown County</th>\n",
       "      <th>Carroll County</th>\n",
       "      <th>Cass County</th>\n",
       "      <th>...</th>\n",
       "      <th>Vermillion County</th>\n",
       "      <th>Vigo County</th>\n",
       "      <th>Wabash County</th>\n",
       "      <th>Warren County</th>\n",
       "      <th>Warrick County</th>\n",
       "      <th>Washington County</th>\n",
       "      <th>Wayne County</th>\n",
       "      <th>Wells County</th>\n",
       "      <th>White County</th>\n",
       "      <th>Whitley County</th>\n",
       "    </tr>\n",
       "  </thead>\n",
       "  <tbody>\n",
       "    <tr>\n",
       "      <td>2019-01-01</td>\n",
       "      <td>6732219</td>\n",
       "      <td>35777</td>\n",
       "      <td>379299</td>\n",
       "      <td>83779</td>\n",
       "      <td>8748</td>\n",
       "      <td>11758</td>\n",
       "      <td>67843</td>\n",
       "      <td>15092</td>\n",
       "      <td>20257</td>\n",
       "      <td>37689</td>\n",
       "      <td>...</td>\n",
       "      <td>15498</td>\n",
       "      <td>107038</td>\n",
       "      <td>30996</td>\n",
       "      <td>8265</td>\n",
       "      <td>62998</td>\n",
       "      <td>28036</td>\n",
       "      <td>65884</td>\n",
       "      <td>28296</td>\n",
       "      <td>24102</td>\n",
       "      <td>33964</td>\n",
       "    </tr>\n",
       "    <tr>\n",
       "      <td>2018-01-01</td>\n",
       "      <td>6695497</td>\n",
       "      <td>35595</td>\n",
       "      <td>375079</td>\n",
       "      <td>82722</td>\n",
       "      <td>8653</td>\n",
       "      <td>11924</td>\n",
       "      <td>66930</td>\n",
       "      <td>15230</td>\n",
       "      <td>20188</td>\n",
       "      <td>37895</td>\n",
       "      <td>...</td>\n",
       "      <td>15510</td>\n",
       "      <td>107367</td>\n",
       "      <td>31198</td>\n",
       "      <td>8280</td>\n",
       "      <td>62474</td>\n",
       "      <td>27932</td>\n",
       "      <td>66046</td>\n",
       "      <td>28083</td>\n",
       "      <td>24133</td>\n",
       "      <td>34047</td>\n",
       "    </tr>\n",
       "    <tr>\n",
       "      <td>2017-01-01</td>\n",
       "      <td>6658078</td>\n",
       "      <td>35385</td>\n",
       "      <td>371723</td>\n",
       "      <td>82213</td>\n",
       "      <td>8631</td>\n",
       "      <td>12028</td>\n",
       "      <td>65723</td>\n",
       "      <td>15010</td>\n",
       "      <td>20067</td>\n",
       "      <td>37828</td>\n",
       "      <td>...</td>\n",
       "      <td>15503</td>\n",
       "      <td>107569</td>\n",
       "      <td>31380</td>\n",
       "      <td>8204</td>\n",
       "      <td>62401</td>\n",
       "      <td>27771</td>\n",
       "      <td>66179</td>\n",
       "      <td>27958</td>\n",
       "      <td>24163</td>\n",
       "      <td>33722</td>\n",
       "    </tr>\n",
       "    <tr>\n",
       "      <td>2016-01-01</td>\n",
       "      <td>6634304</td>\n",
       "      <td>35178</td>\n",
       "      <td>369412</td>\n",
       "      <td>82231</td>\n",
       "      <td>8658</td>\n",
       "      <td>12115</td>\n",
       "      <td>64192</td>\n",
       "      <td>14996</td>\n",
       "      <td>19973</td>\n",
       "      <td>37905</td>\n",
       "      <td>...</td>\n",
       "      <td>15593</td>\n",
       "      <td>107790</td>\n",
       "      <td>31513</td>\n",
       "      <td>8165</td>\n",
       "      <td>62005</td>\n",
       "      <td>27728</td>\n",
       "      <td>66630</td>\n",
       "      <td>27865</td>\n",
       "      <td>24074</td>\n",
       "      <td>33475</td>\n",
       "    </tr>\n",
       "    <tr>\n",
       "      <td>2015-01-01</td>\n",
       "      <td>6608422</td>\n",
       "      <td>34945</td>\n",
       "      <td>367362</td>\n",
       "      <td>81458</td>\n",
       "      <td>8693</td>\n",
       "      <td>12242</td>\n",
       "      <td>63033</td>\n",
       "      <td>14994</td>\n",
       "      <td>19887</td>\n",
       "      <td>38081</td>\n",
       "      <td>...</td>\n",
       "      <td>15593</td>\n",
       "      <td>107533</td>\n",
       "      <td>31860</td>\n",
       "      <td>8270</td>\n",
       "      <td>61522</td>\n",
       "      <td>27774</td>\n",
       "      <td>66972</td>\n",
       "      <td>27851</td>\n",
       "      <td>24274</td>\n",
       "      <td>33444</td>\n",
       "    </tr>\n",
       "  </tbody>\n",
       "</table>\n",
       "<p>5 rows × 93 columns</p>\n",
       "</div>"
      ],
      "text/plain": [
       "Geographic_Area  Indiana Adams County Allen County Bartholomew County  \\\n",
       "2019-01-01       6732219        35777       379299              83779   \n",
       "2018-01-01       6695497        35595       375079              82722   \n",
       "2017-01-01       6658078        35385       371723              82213   \n",
       "2016-01-01       6634304        35178       369412              82231   \n",
       "2015-01-01       6608422        34945       367362              81458   \n",
       "\n",
       "Geographic_Area Benton County Blackford County Boone County Brown County  \\\n",
       "2019-01-01               8748            11758        67843        15092   \n",
       "2018-01-01               8653            11924        66930        15230   \n",
       "2017-01-01               8631            12028        65723        15010   \n",
       "2016-01-01               8658            12115        64192        14996   \n",
       "2015-01-01               8693            12242        63033        14994   \n",
       "\n",
       "Geographic_Area Carroll County Cass County  ... Vermillion County Vigo County  \\\n",
       "2019-01-01               20257       37689  ...             15498      107038   \n",
       "2018-01-01               20188       37895  ...             15510      107367   \n",
       "2017-01-01               20067       37828  ...             15503      107569   \n",
       "2016-01-01               19973       37905  ...             15593      107790   \n",
       "2015-01-01               19887       38081  ...             15593      107533   \n",
       "\n",
       "Geographic_Area Wabash County Warren County Warrick County Washington County  \\\n",
       "2019-01-01              30996          8265          62998             28036   \n",
       "2018-01-01              31198          8280          62474             27932   \n",
       "2017-01-01              31380          8204          62401             27771   \n",
       "2016-01-01              31513          8165          62005             27728   \n",
       "2015-01-01              31860          8270          61522             27774   \n",
       "\n",
       "Geographic_Area Wayne County Wells County White County Whitley County  \n",
       "2019-01-01             65884        28296        24102          33964  \n",
       "2018-01-01             66046        28083        24133          34047  \n",
       "2017-01-01             66179        27958        24163          33722  \n",
       "2016-01-01             66630        27865        24074          33475  \n",
       "2015-01-01             66972        27851        24274          33444  \n",
       "\n",
       "[5 rows x 93 columns]"
      ]
     },
     "execution_count": 477,
     "metadata": {},
     "output_type": "execute_result"
    }
   ],
   "source": [
    "Indiana_pop.head()"
   ]
  },
  {
   "cell_type": "code",
   "execution_count": 495,
   "metadata": {
    "ExecuteTime": {
     "end_time": "2020-05-06T03:35:26.595321Z",
     "start_time": "2020-05-06T03:35:26.426951Z"
    }
   },
   "outputs": [
    {
     "data": {
      "image/png": "[encoded data removed]",
      "text/plain": [
       "<Figure size 432x288 with 2 Axes>"
      ]
     },
     "metadata": {
      "needs_background": "light"
     },
     "output_type": "display_data"
    }
   ],
   "source": [
    "fig, ax = plt.subplots()\n",
    "# df_house_annualmean[(2015<df_house_annualmean.index.year)]['Marion County'].plot(label='avg. house price',ax= ax)\n",
    "\n",
    "ax.plot(df_house_annualmean[(2009<df_house_annualmean.index.year)]['Marion County'], color=\"r\",label='avg. house price')\n",
    "ax.set_xlabel(\"year\", fontsize = 14)\n",
    "ax.set_ylabel(\"Housing Price (USD)\", fontsize = 14)\n",
    "ax.legend()\n",
    "# df_county_available.loc['Hamilton County'].plot()\n",
    "ax2 = ax.twinx()\n",
    "ax2.plot(Indiana_pop['Marion County'], label='population')\n",
    "ax2.set_ylabel(\"Population\", fontsize = 14)\n",
    "\n",
    "plt.suptitle('Marion County')\n",
    "plt.show()"
   ]
  },
  {
   "cell_type": "markdown",
   "metadata": {},
   "source": [
    "### Saving Data"
   ]
  },
  {
   "cell_type": "code",
   "execution_count": 496,
   "metadata": {
    "ExecuteTime": {
     "end_time": "2020-05-06T03:36:37.101107Z",
     "start_time": "2020-05-06T03:36:37.098107Z"
    }
   },
   "outputs": [],
   "source": [
    "ProcessedData['Indiana_pop']=Indiana_pop"
   ]
  },
  {
   "cell_type": "markdown",
   "metadata": {},
   "source": [
    "# Pickling processed data"
   ]
  },
  {
   "cell_type": "code",
   "execution_count": 497,
   "metadata": {
    "ExecuteTime": {
     "end_time": "2020-05-06T03:38:44.160986Z",
     "start_time": "2020-05-06T03:38:44.121018Z"
    }
   },
   "outputs": [],
   "source": [
    "import pickle\n",
    "pickle.dump(ProcessedData, open(\"ProcessedData.p\",\"wb\"))"
   ]
  },
  {
   "cell_type": "markdown",
   "metadata": {},
   "source": [
    "## Loading Pickled data"
   ]
  },
  {
   "cell_type": "code",
   "execution_count": null,
   "metadata": {},
   "outputs": [],
   "source": [
    "import pickle\n",
    "ProcessedData = pickle.load( open( \"ProcessedData.p\", \"rb\" ) )"
   ]
  }
 ],
 "metadata": {
  "kernelspec": {
   "display_name": "Python 3",
   "language": "python",
   "name": "python3"
  },
  "language_info": {
   "codemirror_mode": {
    "name": "ipython",
    "version": 3
   },
   "file_extension": ".py",
   "mimetype": "text/x-python",
   "name": "python",
   "nbconvert_exporter": "python",
   "pygments_lexer": "ipython3",
   "version": "3.7.4"
  },
  "toc": {
   "base_numbering": 1,
   "nav_menu": {},
   "number_sections": true,
   "sideBar": true,
   "skip_h1_title": false,
   "title_cell": "Table of Contents",
   "title_sidebar": "Contents",
   "toc_cell": false,
   "toc_position": {},
   "toc_section_display": true,
   "toc_window_display": false
  }
 },
 "nbformat": 4,
 "nbformat_minor": 2
}
